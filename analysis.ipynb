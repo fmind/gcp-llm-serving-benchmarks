{
 "cells": [
  {
   "cell_type": "markdown",
   "id": "5f07ca90",
   "metadata": {},
   "source": [
    "# IMPORTS"
   ]
  },
  {
   "cell_type": "code",
   "execution_count": 1,
   "id": "fd1da747",
   "metadata": {},
   "outputs": [],
   "source": [
    "import re\n",
    "import polars as pl\n",
    "from pathlib import Path\n",
    "import plotly.express as px"
   ]
  },
  {
   "cell_type": "markdown",
   "id": "cf7e3bd4",
   "metadata": {},
   "source": [
    "# CONFIGS"
   ]
  },
  {
   "cell_type": "code",
   "execution_count": 2,
   "id": "d38687eb",
   "metadata": {},
   "outputs": [
    {
     "data": {
      "text/plain": [
       "polars.config.Config"
      ]
     },
     "execution_count": 2,
     "metadata": {},
     "output_type": "execute_result"
    }
   ],
   "source": [
    "pl.Config.set_fmt_str_lengths(900)\n",
    "pl.Config.set_tbl_width_chars(900)"
   ]
  },
  {
   "cell_type": "markdown",
   "id": "d206caa9",
   "metadata": {},
   "source": [
    "# VARIABLES"
   ]
  },
  {
   "cell_type": "code",
   "execution_count": 3,
   "id": "bcf6c623",
   "metadata": {},
   "outputs": [],
   "source": [
    "RESULTS_PATH = Path(\"results\")\n",
    "STATS_GLOB = \"*_stats.csv\"\n",
    "FAILURES_GLOB = \"*_failures.csv\"\n",
    "EXCEPTIONS_GLOB = \"*_exceptions.csv\"\n",
    "HISTORY_GLOB = \"*_stats_history.csv\""
   ]
  },
  {
   "cell_type": "markdown",
   "id": "dd17519e",
   "metadata": {},
   "source": [
    "# DATASETS"
   ]
  },
  {
   "cell_type": "code",
   "execution_count": null,
   "id": "6170784e",
   "metadata": {},
   "outputs": [],
   "source": [
    "def load_dataset(root: Path, glob: str, pattern: re.Pattern = r\"^(?P<approach>.+?)_(?P<model>.+?)_.+\\.csv$\") -> pl.DataFrame:\n",
    "    dataframes = []\n",
    "    for file in root.glob(glob):\n",
    "        match = re.search(pattern, file.name)\n",
    "        if match:\n",
    "            dataframe = pl.read_csv(file, try_parse_dates=True)\n",
    "            dataframe = dataframe.with_columns([\n",
    "                pl.lit(match.group(\"approach\")).alias(\"approach\"),\n",
    "                pl.lit(match.group(\"model\")).alias(\"model\"),\n",
    "                pl.lit(f\"{match.group('approach')} - {match.group('model')}\").alias(\"test\"),\n",
    "                pl.arange(0, dataframe.height).alias(\"index\")\n",
    "            ])\n",
    "            dataframes.append(dataframe)\n",
    "    return pl.concat(dataframes, how=\"vertical\")"
   ]
  },
  {
   "cell_type": "code",
   "execution_count": 5,
   "id": "1ed7acc1",
   "metadata": {},
   "outputs": [
    {
     "data": {
      "text/html": [
       "<div><style>\n",
       ".dataframe > thead > tr,\n",
       ".dataframe > tbody > tr {\n",
       "  text-align: right;\n",
       "  white-space: pre-wrap;\n",
       "}\n",
       "</style>\n",
       "<small>shape: (12, 25)</small><table border=\"1\" class=\"dataframe\"><thead><tr><th>Type</th><th>Name</th><th>Request Count</th><th>Failure Count</th><th>Median Response Time</th><th>Average Response Time</th><th>Min Response Time</th><th>Max Response Time</th><th>Average Content Size</th><th>Requests/s</th><th>Failures/s</th><th>50%</th><th>66%</th><th>75%</th><th>80%</th><th>90%</th><th>95%</th><th>98%</th><th>99%</th><th>99.9%</th><th>99.99%</th><th>100%</th><th>approach</th><th>model</th><th>index</th></tr><tr><td>str</td><td>str</td><td>i64</td><td>i64</td><td>f64</td><td>f64</td><td>f64</td><td>f64</td><td>f64</td><td>f64</td><td>f64</td><td>i64</td><td>i64</td><td>i64</td><td>i64</td><td>i64</td><td>i64</td><td>i64</td><td>i64</td><td>i64</td><td>i64</td><td>i64</td><td>str</td><td>str</td><td>i64</td></tr></thead><tbody><tr><td>&quot;POST&quot;</td><td>&quot;/v1/projects/gcp-llm-serving-benchmarks/locations/us-central1/endpoints/2990351669667037184:predict&quot;</td><td>1213</td><td>311</td><td>28000.0</td><td>29287.715304</td><td>2225.500275</td><td>60491.58465</td><td>831.317395</td><td>4.049889</td><td>1.038347</td><td>28000</td><td>46000</td><td>60000</td><td>60000</td><td>60000</td><td>60000</td><td>60000</td><td>60000</td><td>60000</td><td>60000</td><td>60000</td><td>&quot;VertexAIEndpoint&quot;</td><td>&quot;gemma-3-12b-it&quot;</td><td>0</td></tr><tr><td>null</td><td>&quot;Aggregated&quot;</td><td>1213</td><td>311</td><td>28000.0</td><td>29287.715304</td><td>2225.500275</td><td>60491.58465</td><td>831.317395</td><td>4.049889</td><td>1.038347</td><td>28000</td><td>46000</td><td>60000</td><td>60000</td><td>60000</td><td>60000</td><td>60000</td><td>60000</td><td>60000</td><td>60000</td><td>60000</td><td>&quot;VertexAIEndpoint&quot;</td><td>&quot;gemma-3-12b-it&quot;</td><td>1</td></tr><tr><td>&quot;POST&quot;</td><td>&quot;/v1/projects/gcp-llm-serving-benchmarks/locations/global/publishers/google/models/gemini-2.5-flash-lite-preview-06-17:generateContent&quot;</td><td>156894</td><td>153610</td><td>210.0</td><td>275.777045</td><td>102.164956</td><td>3885.674632</td><td>446.343436</td><td>524.603762</td><td>513.623108</td><td>210</td><td>240</td><td>260</td><td>280</td><td>370</td><td>670</td><td>1000</td><td>1800</td><td>3400</td><td>3700</td><td>3900</td><td>&quot;VertexAIMaaS&quot;</td><td>&quot;gemini-2.5-flash-lite-preview-06-17-thinking&quot;</td><td>0</td></tr><tr><td>null</td><td>&quot;Aggregated&quot;</td><td>156894</td><td>153610</td><td>210.0</td><td>275.777045</td><td>102.164956</td><td>3885.674632</td><td>446.343436</td><td>524.603762</td><td>513.623108</td><td>210</td><td>240</td><td>260</td><td>280</td><td>370</td><td>670</td><td>1000</td><td>1800</td><td>3400</td><td>3700</td><td>3900</td><td>&quot;VertexAIMaaS&quot;</td><td>&quot;gemini-2.5-flash-lite-preview-06-17-thinking&quot;</td><td>1</td></tr><tr><td>&quot;POST&quot;</td><td>&quot;/v1/projects/gcp-llm-serving-benchmarks/locations/global/publishers/google/models/gemini-2.5-flash:generateContent&quot;</td><td>139640</td><td>137688</td><td>200.0</td><td>311.450341</td><td>104.102484</td><td>10104.550656</td><td>378.308973</td><td>465.570523</td><td>459.062405</td><td>200</td><td>230</td><td>250</td><td>260</td><td>320</td><td>610</td><td>1000</td><td>3400</td><td>8400</td><td>9200</td><td>10000</td><td>&quot;VertexAIMaaS&quot;</td><td>&quot;gemini-2.5-flash-thinking&quot;</td><td>0</td></tr><tr><td>&hellip;</td><td>&hellip;</td><td>&hellip;</td><td>&hellip;</td><td>&hellip;</td><td>&hellip;</td><td>&hellip;</td><td>&hellip;</td><td>&hellip;</td><td>&hellip;</td><td>&hellip;</td><td>&hellip;</td><td>&hellip;</td><td>&hellip;</td><td>&hellip;</td><td>&hellip;</td><td>&hellip;</td><td>&hellip;</td><td>&hellip;</td><td>&hellip;</td><td>&hellip;</td><td>&hellip;</td><td>&hellip;</td><td>&hellip;</td><td>&hellip;</td></tr><tr><td>null</td><td>&quot;Aggregated&quot;</td><td>163993</td><td>160879</td><td>190.0</td><td>264.983806</td><td>102.714846</td><td>4958.318723</td><td>479.88008</td><td>546.984741</td><td>536.598258</td><td>190</td><td>220</td><td>240</td><td>260</td><td>320</td><td>620</td><td>1100</td><td>2100</td><td>3500</td><td>4000</td><td>5000</td><td>&quot;VertexAIMaaS&quot;</td><td>&quot;gemini-2.5-flash-lite-preview-06-17&quot;</td><td>1</td></tr><tr><td>&quot;POST&quot;</td><td>&quot;/v1/projects/gcp-llm-serving-benchmarks/locations/global/publishers/google/models/gemini-2.5-flash:generateContent&quot;</td><td>112776</td><td>110780</td><td>190.0</td><td>2760.920479</td><td>103.059125</td><td>3.0859e7</td><td>352.599826</td><td>3.624184</td><td>3.560041</td><td>190</td><td>220</td><td>240</td><td>250</td><td>340</td><td>700</td><td>1100</td><td>2600</td><td>8700</td><td>10000</td><td>30859000</td><td>&quot;VertexAIMaaS&quot;</td><td>&quot;gemini-2.5-flash&quot;</td><td>0</td></tr><tr><td>null</td><td>&quot;Aggregated&quot;</td><td>112776</td><td>110780</td><td>190.0</td><td>2760.920479</td><td>103.059125</td><td>3.0859e7</td><td>352.599826</td><td>3.624184</td><td>3.560041</td><td>190</td><td>220</td><td>240</td><td>250</td><td>340</td><td>700</td><td>1100</td><td>2600</td><td>8700</td><td>10000</td><td>30859000</td><td>&quot;VertexAIMaaS&quot;</td><td>&quot;gemini-2.5-flash&quot;</td><td>1</td></tr><tr><td>&quot;POST&quot;</td><td>&quot;/api/generate?key=secret&quot;</td><td>145810</td><td>145649</td><td>150.0</td><td>290.910375</td><td>118.192629</td><td>122661.092766</td><td>323.85586</td><td>487.405383</td><td>486.867201</td><td>150</td><td>170</td><td>190</td><td>200</td><td>290</td><td>620</td><td>960</td><td>1200</td><td>21000</td><td>75000</td><td>123000</td><td>&quot;CloudRunOllama&quot;</td><td>&quot;gemma3:12b&quot;</td><td>0</td></tr><tr><td>null</td><td>&quot;Aggregated&quot;</td><td>145810</td><td>145649</td><td>150.0</td><td>290.910375</td><td>118.192629</td><td>122661.092766</td><td>323.85586</td><td>487.405383</td><td>486.867201</td><td>150</td><td>170</td><td>190</td><td>200</td><td>290</td><td>620</td><td>960</td><td>1200</td><td>21000</td><td>75000</td><td>123000</td><td>&quot;CloudRunOllama&quot;</td><td>&quot;gemma3:12b&quot;</td><td>1</td></tr></tbody></table></div>"
      ],
      "text/plain": [
       "shape: (12, 25)\n",
       "┌──────┬───────────────────────────────────────────────────────────────────────────────────────────────────────────────────────────────────────┬───────────────┬───────────────┬───┬──────────┬──────────────────┬──────────────────────────────────────────────┬───────┐\n",
       "│ Type ┆ Name                                                                                                                                  ┆ Request Count ┆ Failure Count ┆ … ┆ 100%     ┆ approach         ┆ model                                        ┆ index │\n",
       "│ ---  ┆ ---                                                                                                                                   ┆ ---           ┆ ---           ┆   ┆ ---      ┆ ---              ┆ ---                                          ┆ ---   │\n",
       "│ str  ┆ str                                                                                                                                   ┆ i64           ┆ i64           ┆   ┆ i64      ┆ str              ┆ str                                          ┆ i64   │\n",
       "╞══════╪═══════════════════════════════════════════════════════════════════════════════════════════════════════════════════════════════════════╪═══════════════╪═══════════════╪═══╪══════════╪══════════════════╪══════════════════════════════════════════════╪═══════╡\n",
       "│ POST ┆ /v1/projects/gcp-llm-serving-benchmarks/locations/us-central1/endpoints/2990351669667037184:predict                                   ┆ 1213          ┆ 311           ┆ … ┆ 60000    ┆ VertexAIEndpoint ┆ gemma-3-12b-it                               ┆ 0     │\n",
       "│ null ┆ Aggregated                                                                                                                            ┆ 1213          ┆ 311           ┆ … ┆ 60000    ┆ VertexAIEndpoint ┆ gemma-3-12b-it                               ┆ 1     │\n",
       "│ POST ┆ /v1/projects/gcp-llm-serving-benchmarks/locations/global/publishers/google/models/gemini-2.5-flash-lite-preview-06-17:generateContent ┆ 156894        ┆ 153610        ┆ … ┆ 3900     ┆ VertexAIMaaS     ┆ gemini-2.5-flash-lite-preview-06-17-thinking ┆ 0     │\n",
       "│ null ┆ Aggregated                                                                                                                            ┆ 156894        ┆ 153610        ┆ … ┆ 3900     ┆ VertexAIMaaS     ┆ gemini-2.5-flash-lite-preview-06-17-thinking ┆ 1     │\n",
       "│ POST ┆ /v1/projects/gcp-llm-serving-benchmarks/locations/global/publishers/google/models/gemini-2.5-flash:generateContent                    ┆ 139640        ┆ 137688        ┆ … ┆ 10000    ┆ VertexAIMaaS     ┆ gemini-2.5-flash-thinking                    ┆ 0     │\n",
       "│ …    ┆ …                                                                                                                                     ┆ …             ┆ …             ┆ … ┆ …        ┆ …                ┆ …                                            ┆ …     │\n",
       "│ null ┆ Aggregated                                                                                                                            ┆ 163993        ┆ 160879        ┆ … ┆ 5000     ┆ VertexAIMaaS     ┆ gemini-2.5-flash-lite-preview-06-17          ┆ 1     │\n",
       "│ POST ┆ /v1/projects/gcp-llm-serving-benchmarks/locations/global/publishers/google/models/gemini-2.5-flash:generateContent                    ┆ 112776        ┆ 110780        ┆ … ┆ 30859000 ┆ VertexAIMaaS     ┆ gemini-2.5-flash                             ┆ 0     │\n",
       "│ null ┆ Aggregated                                                                                                                            ┆ 112776        ┆ 110780        ┆ … ┆ 30859000 ┆ VertexAIMaaS     ┆ gemini-2.5-flash                             ┆ 1     │\n",
       "│ POST ┆ /api/generate?key=secret                                                                                                              ┆ 145810        ┆ 145649        ┆ … ┆ 123000   ┆ CloudRunOllama   ┆ gemma3:12b                                   ┆ 0     │\n",
       "│ null ┆ Aggregated                                                                                                                            ┆ 145810        ┆ 145649        ┆ … ┆ 123000   ┆ CloudRunOllama   ┆ gemma3:12b                                   ┆ 1     │\n",
       "└──────┴───────────────────────────────────────────────────────────────────────────────────────────────────────────────────────────────────────┴───────────────┴───────────────┴───┴──────────┴──────────────────┴──────────────────────────────────────────────┴───────┘"
      ]
     },
     "execution_count": 5,
     "metadata": {},
     "output_type": "execute_result"
    }
   ],
   "source": [
    "stats = load_dataset(RESULTS_PATH, STATS_GLOB)\n",
    "stats"
   ]
  },
  {
   "cell_type": "code",
   "execution_count": 15,
   "id": "4fe1ddc0",
   "metadata": {},
   "outputs": [
    {
     "data": {
      "text/html": [
       "<div><style>\n",
       ".dataframe > thead > tr,\n",
       ".dataframe > tbody > tr {\n",
       "  text-align: right;\n",
       "  white-space: pre-wrap;\n",
       "}\n",
       "</style>\n",
       "<small>shape: (3_466, 29)</small><table border=\"1\" class=\"dataframe\"><thead><tr><th>Timestamp</th><th>User Count</th><th>Type</th><th>Name</th><th>Requests/s</th><th>Failures/s</th><th>50%</th><th>66%</th><th>75%</th><th>80%</th><th>90%</th><th>95%</th><th>98%</th><th>99%</th><th>99.9%</th><th>99.99%</th><th>100%</th><th>Total Request Count</th><th>Total Failure Count</th><th>Total Median Response Time</th><th>Total Average Response Time</th><th>Total Min Response Time</th><th>Total Max Response Time</th><th>Total Average Content Size</th><th>approach</th><th>model</th><th>test</th><th>index</th><th>Failure %</th></tr><tr><td>datetime[μs]</td><td>i64</td><td>str</td><td>str</td><td>f64</td><td>f64</td><td>str</td><td>str</td><td>str</td><td>str</td><td>str</td><td>str</td><td>str</td><td>str</td><td>str</td><td>str</td><td>str</td><td>i64</td><td>i64</td><td>f64</td><td>f64</td><td>f64</td><td>f64</td><td>f64</td><td>str</td><td>str</td><td>str</td><td>i64</td><td>f64</td></tr></thead><tbody><tr><td>2025-07-13 19:24:27</td><td>0</td><td>null</td><td>&quot;Aggregated&quot;</td><td>0.0</td><td>0.0</td><td>&quot;N/A&quot;</td><td>&quot;N/A&quot;</td><td>&quot;N/A&quot;</td><td>&quot;N/A&quot;</td><td>&quot;N/A&quot;</td><td>&quot;N/A&quot;</td><td>&quot;N/A&quot;</td><td>&quot;N/A&quot;</td><td>&quot;N/A&quot;</td><td>&quot;N/A&quot;</td><td>&quot;N/A&quot;</td><td>0</td><td>0</td><td>0.0</td><td>0.0</td><td>0.0</td><td>0.0</td><td>0.0</td><td>&quot;VertexAIEndpoint&quot;</td><td>&quot;gemma-3-12b-it&quot;</td><td>&quot;VertexAIEndpoint - gemma-3-12b-it&quot;</td><td>0</td><td>NaN</td></tr><tr><td>2025-07-13 19:24:28</td><td>1</td><td>null</td><td>&quot;Aggregated&quot;</td><td>0.0</td><td>0.0</td><td>&quot;N/A&quot;</td><td>&quot;N/A&quot;</td><td>&quot;N/A&quot;</td><td>&quot;N/A&quot;</td><td>&quot;N/A&quot;</td><td>&quot;N/A&quot;</td><td>&quot;N/A&quot;</td><td>&quot;N/A&quot;</td><td>&quot;N/A&quot;</td><td>&quot;N/A&quot;</td><td>&quot;N/A&quot;</td><td>0</td><td>0</td><td>0.0</td><td>0.0</td><td>0.0</td><td>0.0</td><td>0.0</td><td>&quot;VertexAIEndpoint&quot;</td><td>&quot;gemma-3-12b-it&quot;</td><td>&quot;VertexAIEndpoint - gemma-3-12b-it&quot;</td><td>1</td><td>NaN</td></tr><tr><td>2025-07-13 19:24:29</td><td>2</td><td>null</td><td>&quot;Aggregated&quot;</td><td>0.0</td><td>0.0</td><td>&quot;N/A&quot;</td><td>&quot;N/A&quot;</td><td>&quot;N/A&quot;</td><td>&quot;N/A&quot;</td><td>&quot;N/A&quot;</td><td>&quot;N/A&quot;</td><td>&quot;N/A&quot;</td><td>&quot;N/A&quot;</td><td>&quot;N/A&quot;</td><td>&quot;N/A&quot;</td><td>&quot;N/A&quot;</td><td>0</td><td>0</td><td>0.0</td><td>0.0</td><td>0.0</td><td>0.0</td><td>0.0</td><td>&quot;VertexAIEndpoint&quot;</td><td>&quot;gemma-3-12b-it&quot;</td><td>&quot;VertexAIEndpoint - gemma-3-12b-it&quot;</td><td>2</td><td>NaN</td></tr><tr><td>2025-07-13 19:24:30</td><td>3</td><td>null</td><td>&quot;Aggregated&quot;</td><td>0.0</td><td>0.0</td><td>&quot;N/A&quot;</td><td>&quot;N/A&quot;</td><td>&quot;N/A&quot;</td><td>&quot;N/A&quot;</td><td>&quot;N/A&quot;</td><td>&quot;N/A&quot;</td><td>&quot;N/A&quot;</td><td>&quot;N/A&quot;</td><td>&quot;N/A&quot;</td><td>&quot;N/A&quot;</td><td>&quot;N/A&quot;</td><td>0</td><td>0</td><td>0.0</td><td>0.0</td><td>0.0</td><td>0.0</td><td>0.0</td><td>&quot;VertexAIEndpoint&quot;</td><td>&quot;gemma-3-12b-it&quot;</td><td>&quot;VertexAIEndpoint - gemma-3-12b-it&quot;</td><td>3</td><td>NaN</td></tr><tr><td>2025-07-13 19:24:31</td><td>4</td><td>&quot;POST&quot;</td><td>&quot;/v1/projects/gcp-llm-serving-benchmarks/locations/us-central1/endpoints/2990351669667037184:predict&quot;</td><td>0.0</td><td>0.0</td><td>&quot;0&quot;</td><td>&quot;0&quot;</td><td>&quot;0&quot;</td><td>&quot;0&quot;</td><td>&quot;0&quot;</td><td>&quot;0&quot;</td><td>&quot;0&quot;</td><td>&quot;0&quot;</td><td>&quot;0&quot;</td><td>&quot;0&quot;</td><td>&quot;0&quot;</td><td>1</td><td>0</td><td>2467.049646</td><td>2467.049646</td><td>2467.049646</td><td>2467.049646</td><td>949.0</td><td>&quot;VertexAIEndpoint&quot;</td><td>&quot;gemma-3-12b-it&quot;</td><td>&quot;VertexAIEndpoint - gemma-3-12b-it&quot;</td><td>4</td><td>0.0</td></tr><tr><td>&hellip;</td><td>&hellip;</td><td>&hellip;</td><td>&hellip;</td><td>&hellip;</td><td>&hellip;</td><td>&hellip;</td><td>&hellip;</td><td>&hellip;</td><td>&hellip;</td><td>&hellip;</td><td>&hellip;</td><td>&hellip;</td><td>&hellip;</td><td>&hellip;</td><td>&hellip;</td><td>&hellip;</td><td>&hellip;</td><td>&hellip;</td><td>&hellip;</td><td>&hellip;</td><td>&hellip;</td><td>&hellip;</td><td>&hellip;</td><td>&hellip;</td><td>&hellip;</td><td>&hellip;</td><td>&hellip;</td><td>&hellip;</td></tr><tr><td>2025-07-14 10:33:02</td><td>250</td><td>null</td><td>&quot;Aggregated&quot;</td><td>900.8</td><td>900.6</td><td>&quot;180&quot;</td><td>&quot;200&quot;</td><td>&quot;220&quot;</td><td>&quot;240&quot;</td><td>&quot;430&quot;</td><td>&quot;680&quot;</td><td>&quot;870&quot;</td><td>&quot;910&quot;</td><td>&quot;11000&quot;</td><td>&quot;88000&quot;</td><td>&quot;88000&quot;</td><td>140157</td><td>139997</td><td>150.0</td><td>293.654948</td><td>118.192629</td><td>105778.587566</td><td>324.020841</td><td>&quot;CloudRunOllama&quot;</td><td>&quot;gemma3:12b&quot;</td><td>&quot;CloudRunOllama - gemma3:12b&quot;</td><td>585</td><td>99.885842</td></tr><tr><td>2025-07-14 10:33:03</td><td>250</td><td>&quot;POST&quot;</td><td>&quot;/api/generate?key=secret&quot;</td><td>891.8</td><td>891.6</td><td>&quot;170&quot;</td><td>&quot;190&quot;</td><td>&quot;210&quot;</td><td>&quot;220&quot;</td><td>&quot;310&quot;</td><td>&quot;510&quot;</td><td>&quot;810&quot;</td><td>&quot;860&quot;</td><td>&quot;11000&quot;</td><td>&quot;123000&quot;</td><td>&quot;123000&quot;</td><td>141483</td><td>141322</td><td>150.0</td><td>293.172475</td><td>118.192629</td><td>122661.092766</td><td>324.556851</td><td>&quot;CloudRunOllama&quot;</td><td>&quot;gemma3:12b&quot;</td><td>&quot;CloudRunOllama - gemma3:12b&quot;</td><td>586</td><td>99.886205</td></tr><tr><td>2025-07-14 10:33:03</td><td>250</td><td>null</td><td>&quot;Aggregated&quot;</td><td>891.8</td><td>891.6</td><td>&quot;170&quot;</td><td>&quot;190&quot;</td><td>&quot;210&quot;</td><td>&quot;220&quot;</td><td>&quot;310&quot;</td><td>&quot;510&quot;</td><td>&quot;810&quot;</td><td>&quot;860&quot;</td><td>&quot;11000&quot;</td><td>&quot;123000&quot;</td><td>&quot;123000&quot;</td><td>141483</td><td>141322</td><td>150.0</td><td>293.172475</td><td>118.192629</td><td>122661.092766</td><td>324.556851</td><td>&quot;CloudRunOllama&quot;</td><td>&quot;gemma3:12b&quot;</td><td>&quot;CloudRunOllama - gemma3:12b&quot;</td><td>587</td><td>99.886205</td></tr><tr><td>2025-07-14 10:33:04</td><td>250</td><td>&quot;POST&quot;</td><td>&quot;/api/generate?key=secret&quot;</td><td>889.6</td><td>889.4</td><td>&quot;170&quot;</td><td>&quot;190&quot;</td><td>&quot;210&quot;</td><td>&quot;220&quot;</td><td>&quot;290&quot;</td><td>&quot;440&quot;</td><td>&quot;810&quot;</td><td>&quot;860&quot;</td><td>&quot;11000&quot;</td><td>&quot;123000&quot;</td><td>&quot;123000&quot;</td><td>142478</td><td>142317</td><td>150.0</td><td>292.695944</td><td>118.192629</td><td>122661.092766</td><td>324.389218</td><td>&quot;CloudRunOllama&quot;</td><td>&quot;gemma3:12b&quot;</td><td>&quot;CloudRunOllama - gemma3:12b&quot;</td><td>588</td><td>99.887</td></tr><tr><td>2025-07-14 10:33:04</td><td>250</td><td>null</td><td>&quot;Aggregated&quot;</td><td>889.6</td><td>889.4</td><td>&quot;170&quot;</td><td>&quot;190&quot;</td><td>&quot;210&quot;</td><td>&quot;220&quot;</td><td>&quot;290&quot;</td><td>&quot;440&quot;</td><td>&quot;810&quot;</td><td>&quot;860&quot;</td><td>&quot;11000&quot;</td><td>&quot;123000&quot;</td><td>&quot;123000&quot;</td><td>142478</td><td>142317</td><td>150.0</td><td>292.695944</td><td>118.192629</td><td>122661.092766</td><td>324.389218</td><td>&quot;CloudRunOllama&quot;</td><td>&quot;gemma3:12b&quot;</td><td>&quot;CloudRunOllama - gemma3:12b&quot;</td><td>589</td><td>99.887</td></tr></tbody></table></div>"
      ],
      "text/plain": [
       "shape: (3_466, 29)\n",
       "┌─────────────────────┬────────────┬──────┬─────────────────────────────────────────────────────────────────────────────────────────────────────┬───┬────────────────┬───────────────────────────────────┬───────┬───────────┐\n",
       "│ Timestamp           ┆ User Count ┆ Type ┆ Name                                                                                                ┆ … ┆ model          ┆ test                              ┆ index ┆ Failure % │\n",
       "│ ---                 ┆ ---        ┆ ---  ┆ ---                                                                                                 ┆   ┆ ---            ┆ ---                               ┆ ---   ┆ ---       │\n",
       "│ datetime[μs]        ┆ i64        ┆ str  ┆ str                                                                                                 ┆   ┆ str            ┆ str                               ┆ i64   ┆ f64       │\n",
       "╞═════════════════════╪════════════╪══════╪═════════════════════════════════════════════════════════════════════════════════════════════════════╪═══╪════════════════╪═══════════════════════════════════╪═══════╪═══════════╡\n",
       "│ 2025-07-13 19:24:27 ┆ 0          ┆ null ┆ Aggregated                                                                                          ┆ … ┆ gemma-3-12b-it ┆ VertexAIEndpoint - gemma-3-12b-it ┆ 0     ┆ NaN       │\n",
       "│ 2025-07-13 19:24:28 ┆ 1          ┆ null ┆ Aggregated                                                                                          ┆ … ┆ gemma-3-12b-it ┆ VertexAIEndpoint - gemma-3-12b-it ┆ 1     ┆ NaN       │\n",
       "│ 2025-07-13 19:24:29 ┆ 2          ┆ null ┆ Aggregated                                                                                          ┆ … ┆ gemma-3-12b-it ┆ VertexAIEndpoint - gemma-3-12b-it ┆ 2     ┆ NaN       │\n",
       "│ 2025-07-13 19:24:30 ┆ 3          ┆ null ┆ Aggregated                                                                                          ┆ … ┆ gemma-3-12b-it ┆ VertexAIEndpoint - gemma-3-12b-it ┆ 3     ┆ NaN       │\n",
       "│ 2025-07-13 19:24:31 ┆ 4          ┆ POST ┆ /v1/projects/gcp-llm-serving-benchmarks/locations/us-central1/endpoints/2990351669667037184:predict ┆ … ┆ gemma-3-12b-it ┆ VertexAIEndpoint - gemma-3-12b-it ┆ 4     ┆ 0.0       │\n",
       "│ …                   ┆ …          ┆ …    ┆ …                                                                                                   ┆ … ┆ …              ┆ …                                 ┆ …     ┆ …         │\n",
       "│ 2025-07-14 10:33:02 ┆ 250        ┆ null ┆ Aggregated                                                                                          ┆ … ┆ gemma3:12b     ┆ CloudRunOllama - gemma3:12b       ┆ 585   ┆ 99.885842 │\n",
       "│ 2025-07-14 10:33:03 ┆ 250        ┆ POST ┆ /api/generate?key=secret                                                                            ┆ … ┆ gemma3:12b     ┆ CloudRunOllama - gemma3:12b       ┆ 586   ┆ 99.886205 │\n",
       "│ 2025-07-14 10:33:03 ┆ 250        ┆ null ┆ Aggregated                                                                                          ┆ … ┆ gemma3:12b     ┆ CloudRunOllama - gemma3:12b       ┆ 587   ┆ 99.886205 │\n",
       "│ 2025-07-14 10:33:04 ┆ 250        ┆ POST ┆ /api/generate?key=secret                                                                            ┆ … ┆ gemma3:12b     ┆ CloudRunOllama - gemma3:12b       ┆ 588   ┆ 99.887    │\n",
       "│ 2025-07-14 10:33:04 ┆ 250        ┆ null ┆ Aggregated                                                                                          ┆ … ┆ gemma3:12b     ┆ CloudRunOllama - gemma3:12b       ┆ 589   ┆ 99.887    │\n",
       "└─────────────────────┴────────────┴──────┴─────────────────────────────────────────────────────────────────────────────────────────────────────┴───┴────────────────┴───────────────────────────────────┴───────┴───────────┘"
      ]
     },
     "execution_count": 15,
     "metadata": {},
     "output_type": "execute_result"
    }
   ],
   "source": [
    "history = load_dataset(RESULTS_PATH, HISTORY_GLOB)\n",
    "history = history.with_columns(\n",
    "    pl.from_epoch(\"Timestamp\", time_unit=\"s\"),\n",
    "    # % of failure vs total requesr\n",
    "    (pl.col(\"Total Failure Count\") / pl.col(\"Total Request Count\") * 100).alias(\"Failure %\"),\n",
    ")\n",
    "#  'User Count',\n",
    "#  'Requests/s',\n",
    "#  'Failures/s',\n",
    "#  'Total Request Count',\n",
    "#  'Total Failure Count',\n",
    "# ]\n",
    "history"
   ]
  },
  {
   "cell_type": "code",
   "execution_count": 7,
   "id": "f023f970",
   "metadata": {},
   "outputs": [
    {
     "data": {
      "text/html": [
       "<div><style>\n",
       ".dataframe > thead > tr,\n",
       ".dataframe > tbody > tr {\n",
       "  text-align: right;\n",
       "  white-space: pre-wrap;\n",
       "}\n",
       "</style>\n",
       "<small>shape: (8, 7)</small><table border=\"1\" class=\"dataframe\"><thead><tr><th>Method</th><th>Name</th><th>Error</th><th>Occurrences</th><th>approach</th><th>model</th><th>index</th></tr><tr><td>str</td><td>str</td><td>str</td><td>i64</td><td>str</td><td>str</td><td>i64</td></tr></thead><tbody><tr><td>&quot;POST&quot;</td><td>&quot;/v1/projects/gcp-llm-serving-benchmarks/locations/us-central1/endpoints/2990351669667037184:predict&quot;</td><td>&quot;RemoteDisconnected(&#x27;Remote end closed connection without response&#x27;)&quot;</td><td>311</td><td>&quot;VertexAIEndpoint&quot;</td><td>&quot;gemma-3-12b-it&quot;</td><td>0</td></tr><tr><td>&quot;POST&quot;</td><td>&quot;/v1/projects/gcp-llm-serving-benchmarks/locations/global/publishers/google/models/gemini-2.5-flash-lite-preview-06-17:generateContent&quot;</td><td>&quot;HTTPError(&#x27;429 Client Error: Too Many Requests for url: /v1/projects/gcp-llm-serving-benchmarks/locations/global/publishers/google/models/gemini-2.5-flash-lite-preview-06-17:generateContent&#x27;)&quot;</td><td>153610</td><td>&quot;VertexAIMaaS&quot;</td><td>&quot;gemini-2.5-flash-lite-preview-06-17-thinking&quot;</td><td>0</td></tr><tr><td>&quot;POST&quot;</td><td>&quot;/v1/projects/gcp-llm-serving-benchmarks/locations/global/publishers/google/models/gemini-2.5-flash:generateContent&quot;</td><td>&quot;HTTPError(&#x27;429 Client Error: Too Many Requests for url: /v1/projects/gcp-llm-serving-benchmarks/locations/global/publishers/google/models/gemini-2.5-flash:generateContent&#x27;)&quot;</td><td>137688</td><td>&quot;VertexAIMaaS&quot;</td><td>&quot;gemini-2.5-flash-thinking&quot;</td><td>0</td></tr><tr><td>&quot;POST&quot;</td><td>&quot;/v1/projects/gcp-llm-serving-benchmarks/locations/global/publishers/google/models/gemini-2.5-flash-lite-preview-06-17:generateContent&quot;</td><td>&quot;HTTPError(&#x27;429 Client Error: Too Many Requests for url: /v1/projects/gcp-llm-serving-benchmarks/locations/global/publishers/google/models/gemini-2.5-flash-lite-preview-06-17:generateContent&#x27;)&quot;</td><td>160879</td><td>&quot;VertexAIMaaS&quot;</td><td>&quot;gemini-2.5-flash-lite-preview-06-17&quot;</td><td>0</td></tr><tr><td>&quot;POST&quot;</td><td>&quot;/v1/projects/gcp-llm-serving-benchmarks/locations/global/publishers/google/models/gemini-2.5-flash:generateContent&quot;</td><td>&quot;HTTPError(&#x27;429 Client Error: Too Many Requests for url: /v1/projects/gcp-llm-serving-benchmarks/locations/global/publishers/google/models/gemini-2.5-flash:generateContent&#x27;)&quot;</td><td>110780</td><td>&quot;VertexAIMaaS&quot;</td><td>&quot;gemini-2.5-flash&quot;</td><td>0</td></tr><tr><td>&quot;POST&quot;</td><td>&quot;/api/generate?key=secret&quot;</td><td>&quot;HTTPError(&#x27;500 Server Error: Internal Server Error for url: /api/generate?key=secret&#x27;)&quot;</td><td>9</td><td>&quot;CloudRunOllama&quot;</td><td>&quot;gemma3:12b&quot;</td><td>0</td></tr><tr><td>&quot;POST&quot;</td><td>&quot;/api/generate?key=secret&quot;</td><td>&quot;HTTPError(&#x27;503 Server Error: Service Unavailable for url: /api/generate?key=secret&#x27;)&quot;</td><td>143821</td><td>&quot;CloudRunOllama&quot;</td><td>&quot;gemma3:12b&quot;</td><td>1</td></tr><tr><td>&quot;POST&quot;</td><td>&quot;/api/generate?key=secret&quot;</td><td>&quot;HTTPError(&#x27;429 Client Error: Too Many Requests for url: /api/generate?key=secret&#x27;)&quot;</td><td>1819</td><td>&quot;CloudRunOllama&quot;</td><td>&quot;gemma3:12b&quot;</td><td>2</td></tr></tbody></table></div>"
      ],
      "text/plain": [
       "shape: (8, 7)\n",
       "┌────────┬───────────────────────────────────────────────────────────────────────────────────────────────────────────────────────────────────────┬─────────────────────────────────────────────────────────────────────────────────────────────────────────────────────────────────────────────────────────────────────────────────────────────────┬─────────────┬──────────────────┬──────────────────────────────────────────────┬───────┐\n",
       "│ Method ┆ Name                                                                                                                                  ┆ Error                                                                                                                                                                                           ┆ Occurrences ┆ approach         ┆ model                                        ┆ index │\n",
       "│ ---    ┆ ---                                                                                                                                   ┆ ---                                                                                                                                                                                             ┆ ---         ┆ ---              ┆ ---                                          ┆ ---   │\n",
       "│ str    ┆ str                                                                                                                                   ┆ str                                                                                                                                                                                             ┆ i64         ┆ str              ┆ str                                          ┆ i64   │\n",
       "╞════════╪═══════════════════════════════════════════════════════════════════════════════════════════════════════════════════════════════════════╪═════════════════════════════════════════════════════════════════════════════════════════════════════════════════════════════════════════════════════════════════════════════════════════════════╪═════════════╪══════════════════╪══════════════════════════════════════════════╪═══════╡\n",
       "│ POST   ┆ /v1/projects/gcp-llm-serving-benchmarks/locations/us-central1/endpoints/2990351669667037184:predict                                   ┆ RemoteDisconnected('Remote end closed connection without response')                                                                                                                             ┆ 311         ┆ VertexAIEndpoint ┆ gemma-3-12b-it                               ┆ 0     │\n",
       "│ POST   ┆ /v1/projects/gcp-llm-serving-benchmarks/locations/global/publishers/google/models/gemini-2.5-flash-lite-preview-06-17:generateContent ┆ HTTPError('429 Client Error: Too Many Requests for url: /v1/projects/gcp-llm-serving-benchmarks/locations/global/publishers/google/models/gemini-2.5-flash-lite-preview-06-17:generateContent') ┆ 153610      ┆ VertexAIMaaS     ┆ gemini-2.5-flash-lite-preview-06-17-thinking ┆ 0     │\n",
       "│ POST   ┆ /v1/projects/gcp-llm-serving-benchmarks/locations/global/publishers/google/models/gemini-2.5-flash:generateContent                    ┆ HTTPError('429 Client Error: Too Many Requests for url: /v1/projects/gcp-llm-serving-benchmarks/locations/global/publishers/google/models/gemini-2.5-flash:generateContent')                    ┆ 137688      ┆ VertexAIMaaS     ┆ gemini-2.5-flash-thinking                    ┆ 0     │\n",
       "│ POST   ┆ /v1/projects/gcp-llm-serving-benchmarks/locations/global/publishers/google/models/gemini-2.5-flash-lite-preview-06-17:generateContent ┆ HTTPError('429 Client Error: Too Many Requests for url: /v1/projects/gcp-llm-serving-benchmarks/locations/global/publishers/google/models/gemini-2.5-flash-lite-preview-06-17:generateContent') ┆ 160879      ┆ VertexAIMaaS     ┆ gemini-2.5-flash-lite-preview-06-17          ┆ 0     │\n",
       "│ POST   ┆ /v1/projects/gcp-llm-serving-benchmarks/locations/global/publishers/google/models/gemini-2.5-flash:generateContent                    ┆ HTTPError('429 Client Error: Too Many Requests for url: /v1/projects/gcp-llm-serving-benchmarks/locations/global/publishers/google/models/gemini-2.5-flash:generateContent')                    ┆ 110780      ┆ VertexAIMaaS     ┆ gemini-2.5-flash                             ┆ 0     │\n",
       "│ POST   ┆ /api/generate?key=secret                                                                                                              ┆ HTTPError('500 Server Error: Internal Server Error for url: /api/generate?key=secret')                                                                                                          ┆ 9           ┆ CloudRunOllama   ┆ gemma3:12b                                   ┆ 0     │\n",
       "│ POST   ┆ /api/generate?key=secret                                                                                                              ┆ HTTPError('503 Server Error: Service Unavailable for url: /api/generate?key=secret')                                                                                                            ┆ 143821      ┆ CloudRunOllama   ┆ gemma3:12b                                   ┆ 1     │\n",
       "│ POST   ┆ /api/generate?key=secret                                                                                                              ┆ HTTPError('429 Client Error: Too Many Requests for url: /api/generate?key=secret')                                                                                                              ┆ 1819        ┆ CloudRunOllama   ┆ gemma3:12b                                   ┆ 2     │\n",
       "└────────┴───────────────────────────────────────────────────────────────────────────────────────────────────────────────────────────────────────┴─────────────────────────────────────────────────────────────────────────────────────────────────────────────────────────────────────────────────────────────────────────────────────────────────┴─────────────┴──────────────────┴──────────────────────────────────────────────┴───────┘"
      ]
     },
     "execution_count": 7,
     "metadata": {},
     "output_type": "execute_result"
    }
   ],
   "source": [
    "failures = load_dataset(RESULTS_PATH, FAILURES_GLOB)\n",
    "failures"
   ]
  },
  {
   "cell_type": "code",
   "execution_count": 8,
   "id": "1616b0f8",
   "metadata": {},
   "outputs": [
    {
     "data": {
      "text/html": [
       "<div><style>\n",
       ".dataframe > thead > tr,\n",
       ".dataframe > tbody > tr {\n",
       "  text-align: right;\n",
       "  white-space: pre-wrap;\n",
       "}\n",
       "</style>\n",
       "<small>shape: (0, 7)</small><table border=\"1\" class=\"dataframe\"><thead><tr><th>Count</th><th>Message</th><th>Traceback</th><th>Nodes</th><th>approach</th><th>model</th><th>index</th></tr><tr><td>str</td><td>str</td><td>str</td><td>str</td><td>str</td><td>str</td><td>i64</td></tr></thead><tbody></tbody></table></div>"
      ],
      "text/plain": [
       "shape: (0, 7)\n",
       "┌───────┬─────────┬───────────┬───────┬──────────┬───────┬───────┐\n",
       "│ Count ┆ Message ┆ Traceback ┆ Nodes ┆ approach ┆ model ┆ index │\n",
       "│ ---   ┆ ---     ┆ ---       ┆ ---   ┆ ---      ┆ ---   ┆ ---   │\n",
       "│ str   ┆ str     ┆ str       ┆ str   ┆ str      ┆ str   ┆ i64   │\n",
       "╞═══════╪═════════╪═══════════╪═══════╪══════════╪═══════╪═══════╡\n",
       "└───────┴─────────┴───────────┴───────┴──────────┴───────┴───────┘"
      ]
     },
     "execution_count": 8,
     "metadata": {},
     "output_type": "execute_result"
    }
   ],
   "source": [
    "exceptions = load_dataset(RESULTS_PATH, EXCEPTIONS_GLOB)\n",
    "exceptions"
   ]
  },
  {
   "cell_type": "markdown",
   "id": "78a96b30",
   "metadata": {},
   "source": [
    "# FAILURES"
   ]
  },
  {
   "cell_type": "code",
   "execution_count": null,
   "id": "d03efe52",
   "metadata": {},
   "outputs": [
    {
     "data": {
      "application/vnd.plotly.v1+json": {
       "config": {
        "plotlyServerURL": "https://plot.ly"
       },
       "data": [
        {
         "hovertemplate": "test=VertexAIEndpoint - gemma-3-12b-it<br>index=%{x}<br>Failure %=%{y}<extra></extra>",
         "legendgroup": "VertexAIEndpoint - gemma-3-12b-it",
         "line": {
          "color": "#636efa",
          "dash": "solid"
         },
         "marker": {
          "symbol": "circle"
         },
         "mode": "lines",
         "name": "VertexAIEndpoint - gemma-3-12b-it",
         "showlegend": true,
         "type": "scattergl",
         "x": {
          "bdata": "AAABAAIAAwAEAAUABgAHAAgACQAKAAsADAANAA4ADwAQABEAEgATABQAFQAWABcAGAAZABoAGwAcAB0AHgAfACAAIQAiACMAJAAlACYAJwAoACkAKgArACwALQAuAC8AMAAxADIAMwA0ADUANgA3ADgAOQA6ADsAPAA9AD4APwBAAEEAQgBDAEQARQBGAEcASABJAEoASwBMAE0ATgBPAFAAUQBSAFMAVABVAFYAVwBYAFkAWgBbAFwAXQBeAF8AYABhAGIAYwBkAGUAZgBnAGgAaQBqAGsAbABtAG4AbwBwAHEAcgBzAHQAdQB2AHcAeAB5AHoAewB8AH0AfgB/AIAAgQCCAIMAhACFAIYAhwCIAIkAigCLAIwAjQCOAI8AkACRAJIAkwCUAJUAlgCXAJgAmQCaAJsAnACdAJ4AnwCgAKEAogCjAKQApQCmAKcAqACpAKoAqwCsAK0ArgCvALAAsQCyALMAtAC1ALYAtwC4ALkAugC7ALwAvQC+AL8AwADBAMIAwwDEAMUAxgDHAMgAyQDKAMsAzADNAM4AzwDQANEA0gDTANQA1QDWANcA2ADZANoA2wDcAN0A3gDfAOAA4QDiAOMA5ADlAOYA5wDoAOkA6gDrAOwA7QDuAO8A8ADxAPIA8wD0APUA9gD3APgA+QD6APsA/AD9AP4A/wAAAQEBAgEDAQQBBQEGAQcBCAEJAQoBCwEMAQ0BDgEPARABEQESARMBFAEVARYBFwEYARkBGgEbARwBHQEeAR8BIAEhASIBIwEkASUBJgEnASgBKQEqASsBLAEtAS4BLwEwATEBMgEzATQBNQE2ATcBOAE5AToBOwE8AT0BPgE/AUABQQFCAUMBRAFFAUYBRwFIAUkBSgFLAUwBTQFOAU8BUAFRAVIBUwFUAVUBVgFXAVgBWQFaAVsBXAFdAV4BXwFgAWEBYgFjAWQBZQFmAWcBaAFpAWoBawFsAW0BbgFvAXABcQFyAXMBdAF1AXYBdwF4AXkBegF7AXwBfQF+AX8BgAGBAYIBgwGEAYUBhgGHAYgBiQGKAYsBjAGNAY4BjwGQAZEBkgGTAZQBlQGWAZcBmAGZAZoBmwGcAZ0BngGfAaABoQGiAaMBpAGlAaYBpwGoAakBqgGrAawBrQGuAa8BsAGxAbIBswG0AbUBtgG3AbgBuQG6AbsBvAG9Ab4BvwHAAcEBwgHDAcQBxQHGAccByAHJAcoBywHMAc0BzgHPAdAB0QHSAdMB1AHVAdYB1wHYAdkB2gHbAdwB3QHeAd8B4AHhAeIB4wHkAeUB5gHnAegB6QHqAesB7AHtAe4B7wHwAfEB8gHzAfQB9QH2AfcB+AH5AfoB+wH8Af0B/gH/AQACAQICAgMCBAIFAgYCBwIIAgkCCgILAgwCDQIOAg8CEAIRAhICEwIUAhUCFgIXAhgCGQIaAhsCHAIdAh4CHwIgAiECIgIjAiQCJQImAicCKAIpAioCKwIsAi0CLgIvAjACMQIyAjMCNAI1AjYCNwI4AjkCOgI7AjwCPQI+Aj8CQAJBAkICQwJEAkUCRgJHAkgCSQJKAksC",
          "dtype": "i2"
         },
         "xaxis": "x",
         "y": {
          "bdata": "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",
          "dtype": "f8"
         },
         "yaxis": "y"
        },
        {
         "hovertemplate": "test=VertexAIMaaS - gemini-2.5-flash-lite-preview-06-17-thinking<br>index=%{x}<br>Failure %=%{y}<extra></extra>",
         "legendgroup": "VertexAIMaaS - gemini-2.5-flash-lite-preview-06-17-thinking",
         "line": {
          "color": "#EF553B",
          "dash": "solid"
         },
         "marker": {
          "symbol": "circle"
         },
         "mode": "lines",
         "name": "VertexAIMaaS - gemini-2.5-flash-lite-preview-06-17-thinking",
         "showlegend": true,
         "type": "scattergl",
         "x": {
          "bdata": "AAABAAIAAwAEAAUABgAHAAgACQAKAAsADAANAA4ADwAQABEAEgATABQAFQAWABcAGAAZABoAGwAcAB0AHgAfACAAIQAiACMAJAAlACYAJwAoACkAKgArACwALQAuAC8AMAAxADIAMwA0ADUANgA3ADgAOQA6ADsAPAA9AD4APwBAAEEAQgBDAEQARQBGAEcASABJAEoASwBMAE0ATgBPAFAAUQBSAFMAVABVAFYAVwBYAFkAWgBbAFwAXQBeAF8AYABhAGIAYwBkAGUAZgBnAGgAaQBqAGsAbABtAG4AbwBwAHEAcgBzAHQAdQB2AHcAeAB5AHoAewB8AH0AfgB/AIAAgQCCAIMAhACFAIYAhwCIAIkAigCLAIwAjQCOAI8AkACRAJIAkwCUAJUAlgCXAJgAmQCaAJsAnACdAJ4AnwCgAKEAogCjAKQApQCmAKcAqACpAKoAqwCsAK0ArgCvALAAsQCyALMAtAC1ALYAtwC4ALkAugC7ALwAvQC+AL8AwADBAMIAwwDEAMUAxgDHAMgAyQDKAMsAzADNAM4AzwDQANEA0gDTANQA1QDWANcA2ADZANoA2wDcAN0A3gDfAOAA4QDiAOMA5ADlAOYA5wDoAOkA6gDrAOwA7QDuAO8A8ADxAPIA8wD0APUA9gD3APgA+QD6APsA/AD9AP4A/wAAAQEBAgEDAQQBBQEGAQcBCAEJAQoBCwEMAQ0BDgEPARABEQESARMBFAEVARYBFwEYARkBGgEbARwBHQEeAR8BIAEhASIBIwEkASUBJgEnASgBKQEqASsBLAEtAS4BLwEwATEBMgEzATQBNQE2ATcBOAE5AToBOwE8AT0BPgE/AUABQQFCAUMBRAFFAUYBRwFIAUkBSgFLAUwBTQFOAU8BUAFRAVIBUwFUAVUBVgFXAVgBWQFaAVsBXAFdAV4BXwFgAWEBYgFjAWQBZQFmAWcBaAFpAWoBawFsAW0BbgFvAXABcQFyAXMBdAF1AXYBdwF4AXkBegF7AXwBfQF+AX8BgAGBAYIBgwGEAYUBhgGHAYgBiQGKAYsBjAGNAY4BjwGQAZEBkgGTAZQBlQGWAZcBmAGZAZoBmwGcAZ0BngGfAaABoQGiAaMBpAGlAaYBpwGoAakBqgGrAawBrQGuAa8BsAGxAbIBswG0AbUBtgG3AbgBuQG6AbsBvAG9Ab4BvwHAAcEBwgHDAcQBxQHGAccByAHJAcoBywHMAc0BzgHPAdAB0QHSAdMB1AHVAdYB1wHYAdkB2gHbAdwB3QHeAd8B4AHhAeIB4wHkAeUB5gHnAegB6QHqAesB7AHtAe4B7wHwAfEB8gHzAfQB9QH2AfcB+AH5AfoB+wH8Af0B/gH/AQACAQICAgMCBAIFAgYCBwIIAgkCCgILAgwCDQIOAg8CEAIRAhICEwIUAhUCFgIXAhgCGQIaAhsCHAIdAh4CHwIgAiECIgIjAiQCJQImAicCKAIpAioCKwIsAi0CLgIvAjACMQIyAjMCNAI1AjYCNwI4AjkCOgI7AjwCPQI+Aj8CQAJBAkICQwJEAkUCRgJHAkgCSQJKAksCTAJNAg==",
          "dtype": "i2"
         },
         "xaxis": "x",
         "y": {
          "bdata": "AAAAAAAA+P8AAAAAAAD4/wAAAAAAAAAAAAAAAAAAAAAAAAAAAAAAAAAAAAAAAAAAAAAAAAAAAAAAAAAAAAAAAAAAAAAAAAAAAAAAAAAAAAAAAAAAAAAAAAAAAAAAAAAAAAAAAAAAAAAAAAAAAAAAAAAAAAAAAAAAAAAAAAAAAAAAAAAAAAAAAAAAAAAAAAAAAAAAAAAAAAAAAAAAAAAAAAAAAAAAAAAAAAAAAAAAAAAAAAAAAAAAAAAAAAAAAAAAAAAAAAAAAAAAAAAAAAAAAAAAAAAAAAAAAAAAAAAAAAAAAAAAAAAAAAAAAAAAAAAAAAAAAAAAAAAAAAAAAAAAAAAAAAAAAAAAAAAAAAAAAAAAAAAAAAAAAAAAAAAAAAAAAAAAAAAAAAAAAAAAAAAAAAAAAAAAAAAAAAAAAAAAAAAAAAAAAAAAAAAAAAAAAAAAAAAAAAAAAAAAAAAAAAAAAAAAAAAAAAAAAAAAAAAAAAAAAAAAAAAAAAAAAAAAAAAAAAAAAAAAAAAAAAAAAAAAAAAAAAAAAAAAAAAAAAAAAAAAAAAAAAAAAAAAAAAAAAAA9CntQZln1T/0Ke1BmWfVP0vUrkTtShJAS9SuRO1KEkDFdBbTWUwzQMV0FtNZTDNApFIWg4RLQ0CkUhaDhEtDQNZl2Cv9uUpA1mXYK/25SkBtPRtOf6ZPQG09G05/pk9AAAAAAACAUUAAAAAAAIBRQM/zPM/zrFJAz/M8z/OsUkC17ikfIZVTQLXuKR8hlVNAMjB6Z5VHVEAyMHpnlUdUQCr06D4B2lRAKvToPgHaVEAdx3Ecx0xVQB3HcRzHTFVABAdhTH+pVUAEB2FMf6lVQIJqQ7OP/FVAgmpDs4/8VUAdaKTlz0FWQB1opOXPQVZAckkesIJ6VkBySR6wgnpWQMQmRYKHrFZAxCZFgoesVkB5oshDnNhWQHmiyEOc2FZAoZJuFLP/VkChkm4Us/9WQNK30t49IldA0rfS3j0iV0ATiAs1J0FXQBOICzUnQVdAb1QEuIxcV0BvVAS4jFxXQLXJjolsdVdAtcmOiWx1V0CxuEwt9YtXQLG4TC31i1dAi2+ldvGfV0CLb6V28Z9XQJ8qxTH2sldAnyrFMfayV0Db2R6dvsJXQNvZHp2+wldAdLbjQ5DSV0B0tuNDkNJXQCXGUuvq4FdAJcZS6+rgV0DcTB3Xae5XQNxMHddp7ldAkZLkfwr7V0CRkuR/CvtXQDhs/XdTBlhAOGz9d1MGWEBZmDnBTRFYQFmYOcFNEVhAyIlp4/IaWEDIiWnj8hpYQOOQjrc4JFhA45COtzgkWEA4A0LJnSJYQDgDQsmdIlhAceHChQsXWEBx4cKFCxdYQDzgQlj1CFhAPOBCWPUIWEB9dY+0MvlXQH11j7Qy+VdAOsTHjA7hV0A6xMeMDuFXQMc7R/VmzVdAxztH9WbNV0CiNCjbY7NXQKI0KNtjs1dASC8Mzs2bV0BILwzOzZtXQKcA57KFiVdApwDnsoWJV0CWiIR/hXRXQJaIhH+FdFdAdspZ/KddV0B2yln8p11XQCjjrlMRSldAKOOuUxFKV0Ddl85shz5XQN2XzmyHPldA6g0Do7lBV0DqDQOjuUFXQEeuIc5NTFdAR64hzk1MV0CyFD66LlxXQLIUProuXFdARq6TjMdsV0BGrpOMx2xXQHzwwQcffFdAfPDBBx98V0AEuSQF+IJXQAS5JAX4gldACe0ltJeQV0AJ7SW0l5BXQFsfNs2rmldAWx82zauaV0A2xvfxyaNXQDbG9/HJo1dAdLUBgRWrV0B0tQGBFatXQIMkHnv6tldAgyQee/q2V0DmmNtXvMJXQOaY21e8wldA2gxROpfNV0DaDFE6l81XQOV2BJ4V2FdA5XYEnhXYV0D2qPXGzeFXQPao9cbN4VdA1N8G7fbqV0DU3wbt9upXQNm1UQbv81dA2bVRBu/zV0CGNMN4lPtXQIY0w3iU+1dAW+Ups3gDWEBb5SmzeANYQI1PThfmClhAjU9OF+YKWECwPMJQ0BFYQLA8wlDQEVhAQSbFC2QYWEBBJsULZBhYQNTpv7LUHlhA1Om/stQeWEBzKAUjMSVYQHMoBSMxJVhAhnPCkN4qWECGc8KQ3ipYQOpuuSSaMFhA6m65JJowWEA3F0wy+jRYQDcXTDL6NFhAUlL5Mxo6WEBSUvkzGjpYQKVZ4v+EPVhApVni/4Q9WEDWEMawH0BYQNYQxrAfQFhAeMxK2qVDWEB4zErapUNYQGWRqQOCR1hAZZGpA4JHWEBNCBCAuUtYQE0IEIC5S1hANv66DUZNWEA2/roNRk1YQNwkxXKST1hA3CTFcpJPWECgxXfT1VNYQKDFd9PVU1hAJFENZnJXWEAkUQ1mcldYQNTva4wTWlhA1O9rjBNaWEDM3coRS1xYQMzdyhFLXFhAxnYsHq9eWEDGdiwer15YQFs2SXvzYVhAWzZJe/NhWECf4pw7BWRYQJ/inDsFZFhAz05PaXhnWEDPTk9peGdYQBUYOL7aaVhAFRg4vtppWEA/Kqekj2tYQD8qp6SPa1hAjta5BH9tWECO1rkEf21YQKxPKZr6blhArE8pmvpuWEATx2WVOWlYQBPHZZU5aVhAVxmhdVtjWEBXGaF1W2NYQPbqgHMWXVhA9uqAcxZdWECZ6+z1tU5YQJnr7PW1TlhAXtHEW5VCWEBe0cRblUJYQISiOS8WN1hAhKI5LxY3WEDzmWRxHilYQPOZZHEeKVhABklOOAUfWEAGSU44BR9YQCrt30dcE1hAKu3fR1wTWEBE9Ih8EwxYQET0iHwTDFhAzfarrFAIWEDN9qusUAhYQE8JBl8CBlhATwkGXwIGWEADCBhI2AhYQAMIGEjYCFhACDr7xeYNWEAIOvvF5g1YQFLX/DpPEVhAUtf8Ok8RWEDQzx/ivhVYQNDPH+K+FVhAVHJeFvEZWEBUcl4W8RlYQLGx1VOqG1hAsbHVU6obWECUWZuvFx5YQJRZm68XHlhAFIHZraQhWEAUgdmtpCFYQK8lgWieJVhAryWBaJ4lWEC/nZlg2ylYQL+dmWDbKVhAWgCZd4MsWEBaAJl3gyxYQIwCkmw8MFhAjAKSbDwwWEC340jmzTJYQLfjSObNMlhAGDs4znQ2WEAYOzjOdDZYQBI5+eEcOlhAEjn54Rw6WEB6mDCgFjxYQHqYMKAWPFhAR5Nr1tY+WEBHk2vW1j5YQNdQ42nZQFhA11DjadlAWECegXE8i0NYQJ6BcTyLQ1hABvJKLHdGWEAG8kosd0ZYQIbD4591SFhAhsPjn3VIWEDbzLrti0pYQNvMuu2LSlhA+QuWZNBMWED5C5Zk0ExYQPeO2plnT1hA947amWdPWEAKTQDQ51FYQApNANDnUVhAmk+obtpTWECaT6hu2lNYQJpJ8712VVhAmknzvXZVWEB9bCCVgldYQH1sIJWCV1hA/8rQSF1ZWED/ytBIXVlYQEKWcZxmWlhAQpZxnGZaWECR/gh8b1xYQJH+CHxvXFhA7Eda3CxeWEDsR1rcLF5YQFJGyKtOYFhAUkbIq05gWEAOYT0Ts2FYQA5hPROzYVhAWPeV0iJkWEBY95XSImRYQE1/DY9sZlhATX8Nj2xmWECNF9GptmhYQI0X0am2aFhAXcSDiiJpWEBdxIOKImlYQGotZ1GeaVhAai1nUZ5pWECrYAtFW2tYQKtgC0Vba1hAgD87hHFtWECAPzuEcW1YQG0hv+rXbVhAbSG/6tdtWEDxUL45mm9YQPFQvjmab1hAO7AICqlxWEA7sAgKqXFYQHq/qoLvclhAer+qgu9yWEClH/OBSHNYQKUf84FIc1hAXxQitxx1WEBfFCK3HHVYQHHjhNy2dVhAceOE3LZ1WEAXE/BYy3VYQBcT8FjLdVhAN/PTjXxxWEA389ONfHFYQAjvoWxhaVhACO+hbGFpWEASimN3o2BYQBKKY3ejYFhAtormQ8tVWEC2iuZDy1VYQEefyIySTVhAR5/IjJJNWEB4WqGHQEZYQHhaoYdARlhAImHT6F9AWEAiYdPoX0BYQJMriMmVPVhAkyuIyZU9WEDdvqRN2DtYQN2+pE3YO1hAnqKuXJs8WECeoq5cmzxYQFc59+TSPlhAVzn35NI+WEClTFAPWUFYQKVMUA9ZQVhAJj+Li4NDWEAmP4uLg0NYQN3g5UiJRVhA3eDlSIlFWECzcqagIUdYQLNypqAhR1hAiJhHLhxJWECImEcuHElYQArTy+1BS1hACtPL7UFLWEBti/Y8Jk1YQG2L9jwmTVhAMDGMOhBPWEAwMYw6EE9YQE2r7qwPUVhATavurA9RWED0M5lzXlJYQPQzmXNeUlhA1cWZujhTWEDVxZm6OFNYQAXutu4RVFhABe627hFUWEAP3Ca6XlVYQA/cJrpeVVhATqXQDyNXWEBOpdAPI1dYQIx1Ge8TWFhAjHUZ7xNYWEAUxe4shFlYQBTF7iyEWVhA1aK1AWRaWEDVorUBZFpYQMgQePwUXFhAyBB4/BRcWEDRoi4XAF1YQNGiLhcAXVhAanvZIotdWEBqe9kii11YQBL64aRgX1hAEvrhpGBfWEDN3TWAQWBYQM3dNYBBYFhAEjbLAR9hWEASNssBH2FYQE9c/TjOYVhAT1z9OM5hWEDiC3zAe2NYQOILfMB7Y1hA2qwjCgllWEDarCMKCWVYQK3I9M//ZVhArcj0z/9lWEAZHZuEJ2dYQBkdm4QnZ1hAKHDBjTtoWEAocMGNO2hYQOaactFpaVhA5ppy0WlpWECSLZ/+9WpYQJItn/71alhAhwtkgVFsWECHC2SBUWxYQKy9E6MWbVhArL0ToxZtWED2jaNiz21YQPaNo2LPbVhAqb7kwlJvWECpvuTCUm9YQBhVoobub1hAGFWihu5vWEDLd6ZdpXBYQMt3pl2lcFhAtxw2+rRxWEC3HDb6tHFYQEIyufAxc1hAQjK58DFzWEA5Sor6u3NYQDlKivq7c1hAGfuHCA11WEAZ+4cIDXVYQIk2fSjEdVhAiTZ9KMR1WEBBzHfRw3ZYQEHMd9HDdlhAgE88Kwt4WECATzwrC3hYQDhuZboHeVhAOG5lugd5WECucbtKAXpYQK5xu0oBelhAT9TZvL16WEBP1Nm8vXpYQJPVBu++eFhAk9UG7754WEBOar4Yt3NYQE5qvhi3c1hARb6s3s9uWEBFvqzez25YQEWBLM+oZ1hARYEsz6hnWECsKhNrxmFYQKwqE2vGYVhAsk1ukaxaWECyTW6RrFpYQJ2q9dr6UlhAnar12vpSWEAIHa8q7ktYQAgdryruS1hAlXC3SG1IWECVcLdIbUhYQByLEWZeR1hAHIsRZl5HWEBtTKveyEZYQG1Mq97IRlhAaL+sjwZIWEBov6yPBkhYQDctRDGbSVhANy1EMZtJWEA5L8fiV0tYQDkvx+JXS1hAcsQSTNZMWEByxBJM1kxYQESiIw1JTlhARKIjDUlOWEAMaX8L/05YQAxpfwv/TlhA/lwqJipQWED+XComKlBYQBvyZHnUUFhAG/JkedRQWEA/kKIFA1JYQD+QogUDUlhAD5pyWrtSWEAPmnJau1JYQPWaVuwNVFhA9ZpW7A1UWEBQMRcxaVVYQFAxFzFpVVhA1srWrORWWEDWytas5FZYQOIiOBoXWFhA4iI4GhdYWECmMy0villYQKYzLS+KWVhAlLltBtxaWECUuW0G3FpYQN0J/jtYXFhA3Qn+O1hcWECEEG2lo11YQIQQbaWjXVhANcej9edeWEA1x6P1515YQO8n0wlGYFhA7yfTCUZgWEBAFh0Vp2FYQEAWHRWnYVhA9pMJz7piWED2kwnPumJYQI6AQOb6Y1hAjoBA5vpjWEDfbvbZBGVYQN9u9tkEZVhACVLlLy5mWEAJUuUvLmZYQCJYDddOZ1hAIlgN105nWECdaREqTmhYQJ1pESpOaFhAJLiqiENpWEAkuKqIQ2lYQJSrhkt6alhAlKuGS3pqWEB98I+/fmtYQH3wj79+a1hAwI1NF35sWEDAjU0XfmxYQPYcUxhlbVhA9hxTGGVtWECWPMwIYG5YQJY8zAhgblhA2h/Y0HxvWEDaH9jQfG9YQO2eu8GLcFhA7Z67wYtwWECo0ziLfXFYQKjTOIt9cVhArHmetn5yWECseZ62fnJYQN158NZ6c1hA3Xnw1npzWECBEX4hlXRYQIERfiGVdFhAoBI1f4h1WECgEjV/iHVYQOmGaltmdlhA6YZqW2Z2WECLiOMKZHdYQIuI4wpkd1hAUK9cjF54WEBQr1yMXnhYQA==",
          "dtype": "f8"
         },
         "yaxis": "y"
        },
        {
         "hovertemplate": "test=VertexAIMaaS - gemini-2.5-flash-thinking<br>index=%{x}<br>Failure %=%{y}<extra></extra>",
         "legendgroup": "VertexAIMaaS - gemini-2.5-flash-thinking",
         "line": {
          "color": "#00cc96",
          "dash": "solid"
         },
         "marker": {
          "symbol": "circle"
         },
         "mode": "lines",
         "name": "VertexAIMaaS - gemini-2.5-flash-thinking",
         "showlegend": true,
         "type": "scattergl",
         "x": {
          "bdata": "AAABAAIAAwAEAAUABgAHAAgACQAKAAsADAANAA4ADwAQABEAEgATABQAFQAWABcAGAAZABoAGwAcAB0AHgAfACAAIQAiACMAJAAlACYAJwAoACkAKgArACwALQAuAC8AMAAxADIAMwA0ADUANgA3ADgAOQA6ADsAPAA9AD4APwBAAEEAQgBDAEQARQBGAEcASABJAEoASwBMAE0ATgBPAFAAUQBSAFMAVABVAFYAVwBYAFkAWgBbAFwAXQBeAF8AYABhAGIAYwBkAGUAZgBnAGgAaQBqAGsAbABtAG4AbwBwAHEAcgBzAHQAdQB2AHcAeAB5AHoAewB8AH0AfgB/AIAAgQCCAIMAhACFAIYAhwCIAIkAigCLAIwAjQCOAI8AkACRAJIAkwCUAJUAlgCXAJgAmQCaAJsAnACdAJ4AnwCgAKEAogCjAKQApQCmAKcAqACpAKoAqwCsAK0ArgCvALAAsQCyALMAtAC1ALYAtwC4ALkAugC7ALwAvQC+AL8AwADBAMIAwwDEAMUAxgDHAMgAyQDKAMsAzADNAM4AzwDQANEA0gDTANQA1QDWANcA2ADZANoA2wDcAN0A3gDfAOAA4QDiAOMA5ADlAOYA5wDoAOkA6gDrAOwA7QDuAO8A8ADxAPIA8wD0APUA9gD3APgA+QD6APsA/AD9AP4A/wAAAQEBAgEDAQQBBQEGAQcBCAEJAQoBCwEMAQ0BDgEPARABEQESARMBFAEVARYBFwEYARkBGgEbARwBHQEeAR8BIAEhASIBIwEkASUBJgEnASgBKQEqASsBLAEtAS4BLwEwATEBMgEzATQBNQE2ATcBOAE5AToBOwE8AT0BPgE/AUABQQFCAUMBRAFFAUYBRwFIAUkBSgFLAUwBTQFOAU8BUAFRAVIBUwFUAVUBVgFXAVgBWQFaAVsBXAFdAV4BXwFgAWEBYgFjAWQBZQFmAWcBaAFpAWoBawFsAW0BbgFvAXABcQFyAXMBdAF1AXYBdwF4AXkBegF7AXwBfQF+AX8BgAGBAYIBgwGEAYUBhgGHAYgBiQGKAYsBjAGNAY4BjwGQAZEBkgGTAZQBlQGWAZcBmAGZAZoBmwGcAZ0BngGfAaABoQGiAaMBpAGlAaYBpwGoAakBqgGrAawBrQGuAa8BsAGxAbIBswG0AbUBtgG3AbgBuQG6AbsBvAG9Ab4BvwHAAcEBwgHDAcQBxQHGAccByAHJAcoBywHMAc0BzgHPAdAB0QHSAdMB1AHVAdYB1wHYAdkB2gHbAdwB3QHeAd8B4AHhAeIB4wHkAeUB5gHnAegB6QHqAesB7AHtAe4B7wHwAfEB8gHzAfQB9QH2AfcB+AH5AfoB+wH8Af0B/gH/AQACAQICAgMCBAIFAgYCBwIIAgkCCgILAgwCDQIOAg8CEAIRAhICEwIUAhUCFgIXAhgCGQIaAhsCHAIdAh4CHwIgAiECIgIjAiQCJQImAicCKAIpAioCKwIsAi0CLgIvAjACMQIyAjMCNAI1AjYCNwI4AjkCOgI7AjwCPQI+Aj8CQAJBAkICQwJEAkUCRgJHAkgCSQJKAksC",
          "dtype": "i2"
         },
         "xaxis": "x",
         "y": {
          "bdata": "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",
          "dtype": "f8"
         },
         "yaxis": "y"
        },
        {
         "hovertemplate": "test=VertexAIMaaS - gemini-2.5-flash-lite-preview-06-17<br>index=%{x}<br>Failure %=%{y}<extra></extra>",
         "legendgroup": "VertexAIMaaS - gemini-2.5-flash-lite-preview-06-17",
         "line": {
          "color": "#ab63fa",
          "dash": "solid"
         },
         "marker": {
          "symbol": "circle"
         },
         "mode": "lines",
         "name": "VertexAIMaaS - gemini-2.5-flash-lite-preview-06-17",
         "showlegend": true,
         "type": "scattergl",
         "x": {
          "bdata": "AAABAAIAAwAEAAUABgAHAAgACQAKAAsADAANAA4ADwAQABEAEgATABQAFQAWABcAGAAZABoAGwAcAB0AHgAfACAAIQAiACMAJAAlACYAJwAoACkAKgArACwALQAuAC8AMAAxADIAMwA0ADUANgA3ADgAOQA6ADsAPAA9AD4APwBAAEEAQgBDAEQARQBGAEcASABJAEoASwBMAE0ATgBPAFAAUQBSAFMAVABVAFYAVwBYAFkAWgBbAFwAXQBeAF8AYABhAGIAYwBkAGUAZgBnAGgAaQBqAGsAbABtAG4AbwBwAHEAcgBzAHQAdQB2AHcAeAB5AHoAewB8AH0AfgB/AIAAgQCCAIMAhACFAIYAhwCIAIkAigCLAIwAjQCOAI8AkACRAJIAkwCUAJUAlgCXAJgAmQCaAJsAnACdAJ4AnwCgAKEAogCjAKQApQCmAKcAqACpAKoAqwCsAK0ArgCvALAAsQCyALMAtAC1ALYAtwC4ALkAugC7ALwAvQC+AL8AwADBAMIAwwDEAMUAxgDHAMgAyQDKAMsAzADNAM4AzwDQANEA0gDTANQA1QDWANcA2ADZANoA2wDcAN0A3gDfAOAA4QDiAOMA5ADlAOYA5wDoAOkA6gDrAOwA7QDuAO8A8ADxAPIA8wD0APUA9gD3APgA+QD6APsA/AD9AP4A/wAAAQEBAgEDAQQBBQEGAQcBCAEJAQoBCwEMAQ0BDgEPARABEQESARMBFAEVARYBFwEYARkBGgEbARwBHQEeAR8BIAEhASIBIwEkASUBJgEnASgBKQEqASsBLAEtAS4BLwEwATEBMgEzATQBNQE2ATcBOAE5AToBOwE8AT0BPgE/AUABQQFCAUMBRAFFAUYBRwFIAUkBSgFLAUwBTQFOAU8BUAFRAVIBUwFUAVUBVgFXAVgBWQFaAVsBXAFdAV4BXwFgAWEBYgFjAWQBZQFmAWcBaAFpAWoBawFsAW0BbgFvAXABcQFyAXMBdAF1AXYBdwF4AXkBegF7AXwBfQF+AX8BgAGBAYIBgwGEAYUBhgGHAYgBiQGKAYsBjAGNAY4BjwGQAZEBkgGTAZQBlQGWAZcBmAGZAZoBmwGcAZ0BngGfAaABoQGiAaMBpAGlAaYBpwGoAakBqgGrAawBrQGuAa8BsAGxAbIBswG0AbUBtgG3AbgBuQG6AbsBvAG9Ab4BvwHAAcEBwgHDAcQBxQHGAccByAHJAcoBywHMAc0BzgHPAdAB0QHSAdMB1AHVAdYB1wHYAdkB2gHbAdwB3QHeAd8B4AHhAeIB4wHkAeUB5gHnAegB6QHqAesB7AHtAe4B7wHwAfEB8gHzAfQB9QH2AfcB+AH5AfoB+wH8Af0B/gH/AQACAQICAgMCBAIFAgYCBwIIAgkCCgILAgwCDQIOAg8CEAIRAhICEwIUAhUCFgIXAhgCGQIaAhsCHAIdAh4CHwIgAiECIgIjAiQCJQImAicCKAIpAioCKwIsAi0CLgIvAjACMQIyAjMCNAI1AjYCNwI4AjkCOgI7AjwCPQI+Aj8CQAJBAkICQwJEAkUCRgJHAkgCSQJKAksCTAJNAg==",
          "dtype": "i2"
         },
         "xaxis": "x",
         "y": {
          "bdata": "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",
          "dtype": "f8"
         },
         "yaxis": "y"
        },
        {
         "hovertemplate": "test=VertexAIMaaS - gemini-2.5-flash<br>index=%{x}<br>Failure %=%{y}<extra></extra>",
         "legendgroup": "VertexAIMaaS - gemini-2.5-flash",
         "line": {
          "color": "#FFA15A",
          "dash": "solid"
         },
         "marker": {
          "symbol": "circle"
         },
         "mode": "lines",
         "name": "VertexAIMaaS - gemini-2.5-flash",
         "showlegend": true,
         "type": "scattergl",
         "x": {
          "bdata": "AAABAAIAAwAEAAUABgAHAAgACQAKAAsADAANAA4ADwAQABEAEgATABQAFQAWABcAGAAZABoAGwAcAB0AHgAfACAAIQAiACMAJAAlACYAJwAoACkAKgArACwALQAuAC8AMAAxADIAMwA0ADUANgA3ADgAOQA6ADsAPAA9AD4APwBAAEEAQgBDAEQARQBGAEcASABJAEoASwBMAE0ATgBPAFAAUQBSAFMAVABVAFYAVwBYAFkAWgBbAFwAXQBeAF8AYABhAGIAYwBkAGUAZgBnAGgAaQBqAGsAbABtAG4AbwBwAHEAcgBzAHQAdQB2AHcAeAB5AHoAewB8AH0AfgB/AIAAgQCCAIMAhACFAIYAhwCIAIkAigCLAIwAjQCOAI8AkACRAJIAkwCUAJUAlgCXAJgAmQCaAJsAnACdAJ4AnwCgAKEAogCjAKQApQCmAKcAqACpAKoAqwCsAK0ArgCvALAAsQCyALMAtAC1ALYAtwC4ALkAugC7ALwAvQC+AL8AwADBAMIAwwDEAMUAxgDHAMgAyQDKAMsAzADNAM4AzwDQANEA0gDTANQA1QDWANcA2ADZANoA2wDcAN0A3gDfAOAA4QDiAOMA5ADlAOYA5wDoAOkA6gDrAOwA7QDuAO8A8ADxAPIA8wD0APUA9gD3APgA+QD6APsA/AD9AP4A/wAAAQEBAgEDAQQBBQEGAQcBCAEJAQoBCwEMAQ0BDgEPARABEQESARMBFAEVARYBFwEYARkBGgEbARwBHQEeAR8BIAEhASIBIwEkASUBJgEnASgBKQEqASsBLAEtAS4BLwEwATEBMgEzATQBNQE2ATcBOAE5AToBOwE8AT0BPgE/AUABQQFCAUMBRAFFAUYBRwFIAUkBSgFLAUwBTQFOAU8BUAFRAVIBUwFUAVUBVgFXAVgBWQFaAVsBXAFdAV4BXwFgAWEBYgFjAWQBZQFmAWcBaAFpAWoBawFsAW0BbgFvAXABcQFyAXMBdAF1AXYBdwF4AXkBegF7AXwBfQF+AX8BgAGBAYIBgwGEAYUBhgGHAYgBiQGKAYsBjAGNAY4BjwGQAZEBkgGTAZQBlQGWAZcBmAGZAZoBmwGcAZ0BngGfAaABoQGiAaMBpAGlAaYBpwGoAakBqgGrAawBrQGuAa8BsAGxAbIBswG0AbUBtgG3AbgBuQG6AbsBvAG9Ab4BvwHAAcEBwgHDAcQBxQHGAccByAHJAcoBywHMAc0BzgHPAdAB0QHSAdMB1AHVAdYB1wHYAdkB2gHbAdwB3QHeAd8B4AHhAeIB4wHkAeUB5gHnAegB6QHqAesB7AHtAe4B7wHwAfEB8gHzAfQB9QH2AfcB+AH5AfoB+wH8Af0B/gH/AQACAQICAgMCBAIFAgYCBwI=",
          "dtype": "i2"
         },
         "xaxis": "x",
         "y": {
          "bdata": "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",
          "dtype": "f8"
         },
         "yaxis": "y"
        },
        {
         "hovertemplate": "test=CloudRunOllama - gemma3:12b<br>index=%{x}<br>Failure %=%{y}<extra></extra>",
         "legendgroup": "CloudRunOllama - gemma3:12b",
         "line": {
          "color": "#19d3f3",
          "dash": "solid"
         },
         "marker": {
          "symbol": "circle"
         },
         "mode": "lines",
         "name": "CloudRunOllama - gemma3:12b",
         "showlegend": true,
         "type": "scattergl",
         "x": {
          "bdata": "AAABAAIAAwAEAAUABgAHAAgACQAKAAsADAANAA4ADwAQABEAEgATABQAFQAWABcAGAAZABoAGwAcAB0AHgAfACAAIQAiACMAJAAlACYAJwAoACkAKgArACwALQAuAC8AMAAxADIAMwA0ADUANgA3ADgAOQA6ADsAPAA9AD4APwBAAEEAQgBDAEQARQBGAEcASABJAEoASwBMAE0ATgBPAFAAUQBSAFMAVABVAFYAVwBYAFkAWgBbAFwAXQBeAF8AYABhAGIAYwBkAGUAZgBnAGgAaQBqAGsAbABtAG4AbwBwAHEAcgBzAHQAdQB2AHcAeAB5AHoAewB8AH0AfgB/AIAAgQCCAIMAhACFAIYAhwCIAIkAigCLAIwAjQCOAI8AkACRAJIAkwCUAJUAlgCXAJgAmQCaAJsAnACdAJ4AnwCgAKEAogCjAKQApQCmAKcAqACpAKoAqwCsAK0ArgCvALAAsQCyALMAtAC1ALYAtwC4ALkAugC7ALwAvQC+AL8AwADBAMIAwwDEAMUAxgDHAMgAyQDKAMsAzADNAM4AzwDQANEA0gDTANQA1QDWANcA2ADZANoA2wDcAN0A3gDfAOAA4QDiAOMA5ADlAOYA5wDoAOkA6gDrAOwA7QDuAO8A8ADxAPIA8wD0APUA9gD3APgA+QD6APsA/AD9AP4A/wAAAQEBAgEDAQQBBQEGAQcBCAEJAQoBCwEMAQ0BDgEPARABEQESARMBFAEVARYBFwEYARkBGgEbARwBHQEeAR8BIAEhASIBIwEkASUBJgEnASgBKQEqASsBLAEtAS4BLwEwATEBMgEzATQBNQE2ATcBOAE5AToBOwE8AT0BPgE/AUABQQFCAUMBRAFFAUYBRwFIAUkBSgFLAUwBTQFOAU8BUAFRAVIBUwFUAVUBVgFXAVgBWQFaAVsBXAFdAV4BXwFgAWEBYgFjAWQBZQFmAWcBaAFpAWoBawFsAW0BbgFvAXABcQFyAXMBdAF1AXYBdwF4AXkBegF7AXwBfQF+AX8BgAGBAYIBgwGEAYUBhgGHAYgBiQGKAYsBjAGNAY4BjwGQAZEBkgGTAZQBlQGWAZcBmAGZAZoBmwGcAZ0BngGfAaABoQGiAaMBpAGlAaYBpwGoAakBqgGrAawBrQGuAa8BsAGxAbIBswG0AbUBtgG3AbgBuQG6AbsBvAG9Ab4BvwHAAcEBwgHDAcQBxQHGAccByAHJAcoBywHMAc0BzgHPAdAB0QHSAdMB1AHVAdYB1wHYAdkB2gHbAdwB3QHeAd8B4AHhAeIB4wHkAeUB5gHnAegB6QHqAesB7AHtAe4B7wHwAfEB8gHzAfQB9QH2AfcB+AH5AfoB+wH8Af0B/gH/AQACAQICAgMCBAIFAgYCBwIIAgkCCgILAgwCDQIOAg8CEAIRAhICEwIUAhUCFgIXAhgCGQIaAhsCHAIdAh4CHwIgAiECIgIjAiQCJQImAicCKAIpAioCKwIsAi0CLgIvAjACMQIyAjMCNAI1AjYCNwI4AjkCOgI7AjwCPQI+Aj8CQAJBAkICQwJEAkUCRgJHAkgCSQJKAksCTAJNAg==",
          "dtype": "i2"
         },
         "xaxis": "x",
         "y": {
          "bdata": "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",
          "dtype": "f8"
         },
         "yaxis": "y"
        }
       ],
       "layout": {
        "legend": {
         "title": {
          "text": "test"
         },
         "tracegroupgap": 0
        },
        "template": {
         "data": {
          "bar": [
           {
            "error_x": {
             "color": "#2a3f5f"
            },
            "error_y": {
             "color": "#2a3f5f"
            },
            "marker": {
             "line": {
              "color": "#E5ECF6",
              "width": 0.5
             },
             "pattern": {
              "fillmode": "overlay",
              "size": 10,
              "solidity": 0.2
             }
            },
            "type": "bar"
           }
          ],
          "barpolar": [
           {
            "marker": {
             "line": {
              "color": "#E5ECF6",
              "width": 0.5
             },
             "pattern": {
              "fillmode": "overlay",
              "size": 10,
              "solidity": 0.2
             }
            },
            "type": "barpolar"
           }
          ],
          "carpet": [
           {
            "aaxis": {
             "endlinecolor": "#2a3f5f",
             "gridcolor": "white",
             "linecolor": "white",
             "minorgridcolor": "white",
             "startlinecolor": "#2a3f5f"
            },
            "baxis": {
             "endlinecolor": "#2a3f5f",
             "gridcolor": "white",
             "linecolor": "white",
             "minorgridcolor": "white",
             "startlinecolor": "#2a3f5f"
            },
            "type": "carpet"
           }
          ],
          "choropleth": [
           {
            "colorbar": {
             "outlinewidth": 0,
             "ticks": ""
            },
            "type": "choropleth"
           }
          ],
          "contour": [
           {
            "colorbar": {
             "outlinewidth": 0,
             "ticks": ""
            },
            "colorscale": [
             [
              0,
              "#0d0887"
             ],
             [
              0.1111111111111111,
              "#46039f"
             ],
             [
              0.2222222222222222,
              "#7201a8"
             ],
             [
              0.3333333333333333,
              "#9c179e"
             ],
             [
              0.4444444444444444,
              "#bd3786"
             ],
             [
              0.5555555555555556,
              "#d8576b"
             ],
             [
              0.6666666666666666,
              "#ed7953"
             ],
             [
              0.7777777777777778,
              "#fb9f3a"
             ],
             [
              0.8888888888888888,
              "#fdca26"
             ],
             [
              1,
              "#f0f921"
             ]
            ],
            "type": "contour"
           }
          ],
          "contourcarpet": [
           {
            "colorbar": {
             "outlinewidth": 0,
             "ticks": ""
            },
            "type": "contourcarpet"
           }
          ],
          "heatmap": [
           {
            "colorbar": {
             "outlinewidth": 0,
             "ticks": ""
            },
            "colorscale": [
             [
              0,
              "#0d0887"
             ],
             [
              0.1111111111111111,
              "#46039f"
             ],
             [
              0.2222222222222222,
              "#7201a8"
             ],
             [
              0.3333333333333333,
              "#9c179e"
             ],
             [
              0.4444444444444444,
              "#bd3786"
             ],
             [
              0.5555555555555556,
              "#d8576b"
             ],
             [
              0.6666666666666666,
              "#ed7953"
             ],
             [
              0.7777777777777778,
              "#fb9f3a"
             ],
             [
              0.8888888888888888,
              "#fdca26"
             ],
             [
              1,
              "#f0f921"
             ]
            ],
            "type": "heatmap"
           }
          ],
          "histogram": [
           {
            "marker": {
             "pattern": {
              "fillmode": "overlay",
              "size": 10,
              "solidity": 0.2
             }
            },
            "type": "histogram"
           }
          ],
          "histogram2d": [
           {
            "colorbar": {
             "outlinewidth": 0,
             "ticks": ""
            },
            "colorscale": [
             [
              0,
              "#0d0887"
             ],
             [
              0.1111111111111111,
              "#46039f"
             ],
             [
              0.2222222222222222,
              "#7201a8"
             ],
             [
              0.3333333333333333,
              "#9c179e"
             ],
             [
              0.4444444444444444,
              "#bd3786"
             ],
             [
              0.5555555555555556,
              "#d8576b"
             ],
             [
              0.6666666666666666,
              "#ed7953"
             ],
             [
              0.7777777777777778,
              "#fb9f3a"
             ],
             [
              0.8888888888888888,
              "#fdca26"
             ],
             [
              1,
              "#f0f921"
             ]
            ],
            "type": "histogram2d"
           }
          ],
          "histogram2dcontour": [
           {
            "colorbar": {
             "outlinewidth": 0,
             "ticks": ""
            },
            "colorscale": [
             [
              0,
              "#0d0887"
             ],
             [
              0.1111111111111111,
              "#46039f"
             ],
             [
              0.2222222222222222,
              "#7201a8"
             ],
             [
              0.3333333333333333,
              "#9c179e"
             ],
             [
              0.4444444444444444,
              "#bd3786"
             ],
             [
              0.5555555555555556,
              "#d8576b"
             ],
             [
              0.6666666666666666,
              "#ed7953"
             ],
             [
              0.7777777777777778,
              "#fb9f3a"
             ],
             [
              0.8888888888888888,
              "#fdca26"
             ],
             [
              1,
              "#f0f921"
             ]
            ],
            "type": "histogram2dcontour"
           }
          ],
          "mesh3d": [
           {
            "colorbar": {
             "outlinewidth": 0,
             "ticks": ""
            },
            "type": "mesh3d"
           }
          ],
          "parcoords": [
           {
            "line": {
             "colorbar": {
              "outlinewidth": 0,
              "ticks": ""
             }
            },
            "type": "parcoords"
           }
          ],
          "pie": [
           {
            "automargin": true,
            "type": "pie"
           }
          ],
          "scatter": [
           {
            "fillpattern": {
             "fillmode": "overlay",
             "size": 10,
             "solidity": 0.2
            },
            "type": "scatter"
           }
          ],
          "scatter3d": [
           {
            "line": {
             "colorbar": {
              "outlinewidth": 0,
              "ticks": ""
             }
            },
            "marker": {
             "colorbar": {
              "outlinewidth": 0,
              "ticks": ""
             }
            },
            "type": "scatter3d"
           }
          ],
          "scattercarpet": [
           {
            "marker": {
             "colorbar": {
              "outlinewidth": 0,
              "ticks": ""
             }
            },
            "type": "scattercarpet"
           }
          ],
          "scattergeo": [
           {
            "marker": {
             "colorbar": {
              "outlinewidth": 0,
              "ticks": ""
             }
            },
            "type": "scattergeo"
           }
          ],
          "scattergl": [
           {
            "marker": {
             "colorbar": {
              "outlinewidth": 0,
              "ticks": ""
             }
            },
            "type": "scattergl"
           }
          ],
          "scattermap": [
           {
            "marker": {
             "colorbar": {
              "outlinewidth": 0,
              "ticks": ""
             }
            },
            "type": "scattermap"
           }
          ],
          "scattermapbox": [
           {
            "marker": {
             "colorbar": {
              "outlinewidth": 0,
              "ticks": ""
             }
            },
            "type": "scattermapbox"
           }
          ],
          "scatterpolar": [
           {
            "marker": {
             "colorbar": {
              "outlinewidth": 0,
              "ticks": ""
             }
            },
            "type": "scatterpolar"
           }
          ],
          "scatterpolargl": [
           {
            "marker": {
             "colorbar": {
              "outlinewidth": 0,
              "ticks": ""
             }
            },
            "type": "scatterpolargl"
           }
          ],
          "scatterternary": [
           {
            "marker": {
             "colorbar": {
              "outlinewidth": 0,
              "ticks": ""
             }
            },
            "type": "scatterternary"
           }
          ],
          "surface": [
           {
            "colorbar": {
             "outlinewidth": 0,
             "ticks": ""
            },
            "colorscale": [
             [
              0,
              "#0d0887"
             ],
             [
              0.1111111111111111,
              "#46039f"
             ],
             [
              0.2222222222222222,
              "#7201a8"
             ],
             [
              0.3333333333333333,
              "#9c179e"
             ],
             [
              0.4444444444444444,
              "#bd3786"
             ],
             [
              0.5555555555555556,
              "#d8576b"
             ],
             [
              0.6666666666666666,
              "#ed7953"
             ],
             [
              0.7777777777777778,
              "#fb9f3a"
             ],
             [
              0.8888888888888888,
              "#fdca26"
             ],
             [
              1,
              "#f0f921"
             ]
            ],
            "type": "surface"
           }
          ],
          "table": [
           {
            "cells": {
             "fill": {
              "color": "#EBF0F8"
             },
             "line": {
              "color": "white"
             }
            },
            "header": {
             "fill": {
              "color": "#C8D4E3"
             },
             "line": {
              "color": "white"
             }
            },
            "type": "table"
           }
          ]
         },
         "layout": {
          "annotationdefaults": {
           "arrowcolor": "#2a3f5f",
           "arrowhead": 0,
           "arrowwidth": 1
          },
          "autotypenumbers": "strict",
          "coloraxis": {
           "colorbar": {
            "outlinewidth": 0,
            "ticks": ""
           }
          },
          "colorscale": {
           "diverging": [
            [
             0,
             "#8e0152"
            ],
            [
             0.1,
             "#c51b7d"
            ],
            [
             0.2,
             "#de77ae"
            ],
            [
             0.3,
             "#f1b6da"
            ],
            [
             0.4,
             "#fde0ef"
            ],
            [
             0.5,
             "#f7f7f7"
            ],
            [
             0.6,
             "#e6f5d0"
            ],
            [
             0.7,
             "#b8e186"
            ],
            [
             0.8,
             "#7fbc41"
            ],
            [
             0.9,
             "#4d9221"
            ],
            [
             1,
             "#276419"
            ]
           ],
           "sequential": [
            [
             0,
             "#0d0887"
            ],
            [
             0.1111111111111111,
             "#46039f"
            ],
            [
             0.2222222222222222,
             "#7201a8"
            ],
            [
             0.3333333333333333,
             "#9c179e"
            ],
            [
             0.4444444444444444,
             "#bd3786"
            ],
            [
             0.5555555555555556,
             "#d8576b"
            ],
            [
             0.6666666666666666,
             "#ed7953"
            ],
            [
             0.7777777777777778,
             "#fb9f3a"
            ],
            [
             0.8888888888888888,
             "#fdca26"
            ],
            [
             1,
             "#f0f921"
            ]
           ],
           "sequentialminus": [
            [
             0,
             "#0d0887"
            ],
            [
             0.1111111111111111,
             "#46039f"
            ],
            [
             0.2222222222222222,
             "#7201a8"
            ],
            [
             0.3333333333333333,
             "#9c179e"
            ],
            [
             0.4444444444444444,
             "#bd3786"
            ],
            [
             0.5555555555555556,
             "#d8576b"
            ],
            [
             0.6666666666666666,
             "#ed7953"
            ],
            [
             0.7777777777777778,
             "#fb9f3a"
            ],
            [
             0.8888888888888888,
             "#fdca26"
            ],
            [
             1,
             "#f0f921"
            ]
           ]
          },
          "colorway": [
           "#636efa",
           "#EF553B",
           "#00cc96",
           "#ab63fa",
           "#FFA15A",
           "#19d3f3",
           "#FF6692",
           "#B6E880",
           "#FF97FF",
           "#FECB52"
          ],
          "font": {
           "color": "#2a3f5f"
          },
          "geo": {
           "bgcolor": "white",
           "lakecolor": "white",
           "landcolor": "#E5ECF6",
           "showlakes": true,
           "showland": true,
           "subunitcolor": "white"
          },
          "hoverlabel": {
           "align": "left"
          },
          "hovermode": "closest",
          "mapbox": {
           "style": "light"
          },
          "paper_bgcolor": "white",
          "plot_bgcolor": "#E5ECF6",
          "polar": {
           "angularaxis": {
            "gridcolor": "white",
            "linecolor": "white",
            "ticks": ""
           },
           "bgcolor": "#E5ECF6",
           "radialaxis": {
            "gridcolor": "white",
            "linecolor": "white",
            "ticks": ""
           }
          },
          "scene": {
           "xaxis": {
            "backgroundcolor": "#E5ECF6",
            "gridcolor": "white",
            "gridwidth": 2,
            "linecolor": "white",
            "showbackground": true,
            "ticks": "",
            "zerolinecolor": "white"
           },
           "yaxis": {
            "backgroundcolor": "#E5ECF6",
            "gridcolor": "white",
            "gridwidth": 2,
            "linecolor": "white",
            "showbackground": true,
            "ticks": "",
            "zerolinecolor": "white"
           },
           "zaxis": {
            "backgroundcolor": "#E5ECF6",
            "gridcolor": "white",
            "gridwidth": 2,
            "linecolor": "white",
            "showbackground": true,
            "ticks": "",
            "zerolinecolor": "white"
           }
          },
          "shapedefaults": {
           "line": {
            "color": "#2a3f5f"
           }
          },
          "ternary": {
           "aaxis": {
            "gridcolor": "white",
            "linecolor": "white",
            "ticks": ""
           },
           "baxis": {
            "gridcolor": "white",
            "linecolor": "white",
            "ticks": ""
           },
           "bgcolor": "#E5ECF6",
           "caxis": {
            "gridcolor": "white",
            "linecolor": "white",
            "ticks": ""
           }
          },
          "title": {
           "x": 0.05
          },
          "xaxis": {
           "automargin": true,
           "gridcolor": "white",
           "linecolor": "white",
           "ticks": "",
           "title": {
            "standoff": 15
           },
           "zerolinecolor": "white",
           "zerolinewidth": 2
          },
          "yaxis": {
           "automargin": true,
           "gridcolor": "white",
           "linecolor": "white",
           "ticks": "",
           "title": {
            "standoff": 15
           },
           "zerolinecolor": "white",
           "zerolinewidth": 2
          }
         }
        },
        "title": {
         "text": "Failure % by Index"
        },
        "xaxis": {
         "anchor": "y",
         "domain": [
          0,
          1
         ],
         "title": {
          "text": "index"
         }
        },
        "yaxis": {
         "anchor": "x",
         "domain": [
          0,
          1
         ],
         "title": {
          "text": "Failure %"
         }
        }
       }
      }
     },
     "metadata": {},
     "output_type": "display_data"
    }
   ],
   "source": [
    "px.line(\n",
    "    history,\n",
    "    x=\"index\",\n",
    "    y=\"Failure %\",\n",
    "    color=\"test\",\n",
    "    title=\"Failure % by Index\"\n",
    ")"
   ]
  },
  {
   "cell_type": "code",
   "execution_count": null,
   "id": "5889411e",
   "metadata": {},
   "outputs": [
    {
     "data": {
      "application/vnd.plotly.v1+json": {
       "config": {
        "plotlyServerURL": "https://plot.ly"
       },
       "data": [
        {
         "hovertemplate": "test=VertexAIEndpoint - gemma-3-12b-it<br>User Count=%{x}<br>Failures/s=%{y}<extra></extra>",
         "legendgroup": "VertexAIEndpoint - gemma-3-12b-it",
         "marker": {
          "color": "#636efa",
          "symbol": "circle"
         },
         "mode": "markers",
         "name": "VertexAIEndpoint - gemma-3-12b-it",
         "showlegend": true,
         "type": "scattergl",
         "x": {
          "bdata": "AAABAAIAAwAEAAQABQAFAAYABgAHAAcACAAIAAkACQAKAAoACwALAAwADAANAA0ADgAOAA8ADwAQABAAEQARABIAEgATABMAFAAUABUAFQAWABYAFwAXABgAGAAZABkAGgAaABsAGwAcABwAHQAdAB4AHgAfAB8AIAAgACEAIQAiACIAIwAjACQAJAAlACUAJgAmACcAJwAoACgAKQApACoAKgArACsALAAsAC0ALQAuAC4ALwAvADAAMAAxADEAMgAyADMAMwA0ADQANQA1ADYANgA3ADcAOAA4ADkAOQA6ADoAOwA7ADwAPAA9AD0APgA+AD8APwBAAEAAQQBBAEIAQgBDAEMARABEAEUARQBGAEYARwBHAEgASABJAEkASgBKAEsASwBMAEwATQBNAE4ATgBPAE8AUABQAFEAUQBSAFIAUwBTAFQAVABVAFUAVgBWAFcAVwBYAFgAWQBZAFoAWgBbAFsAXABcAF0AXQBeAF4AXwBfAGAAYABhAGEAYgBiAGMAYwBkAGQAZQBlAGYAZgBnAGcAaABoAGkAaQBqAGoAawBrAGwAbABtAG0AbgBuAG8AbwBwAHAAcQBxAHIAcgBzAHMAdAB0AHUAdQB2AHYAdwB3AHgAeAB5AHkAegB6AHsAewB8AHwAfQB9AH4AfgB/AH8AgACAAIEAgQCCAIIAgwCDAIQAhACFAIUAhgCGAIcAhwCIAIgAiQCJAIoAigCLAIsAjACMAI0AjQCOAI4AjwCPAJAAkACRAJEAkgCSAJMAkwCUAJQAlQCVAJYAlgCXAJcAmACYAJkAmQCaAJoAmwCbAJwAnACdAJ0AngCeAJ8AnwCgAKAAoQChAKIAogCjAKMApACkAKUApQCmAKYApwCnAKgAqACpAKkAqgCqAKsAqwCsAKwArQCtAK4ArgCvAK8AsACwALEAsQCyALIAswCzALQAtAC1ALUAtgC2ALcAtwC4ALgAuQC5ALoAugC7ALsAvAC8AL0AvQC+AL4AvwC/AMAAwADBAMEAwgDCAMMAwwDEAMQAxQDFAMYAxgDHAMcAyADIAMkAyQDKAMoAywDLAMwAzADNAM0AzgDOAM8AzwDQANAA0QDRANIA0gDTANMA1ADUANUA1QDWANYA1wDXANgA2ADZANkA2gDaANsA2wDcANwA3QDdAN4A3gDfAN8A4ADgAOEA4QDiAOIA4wDjAOQA5ADlAOUA5gDmAOcA5wDoAOgA6QDpAOoA6gDrAOsA7ADsAO0A7QDuAO4A7wDvAPAA8ADxAPEA8gDyAPMA8wD0APQA9QD1APYA9gD3APcA+AD4APkA+QD6APoA+gD6APoA+gD6APoA+gD6APoA+gD6APoA+gD6APoA+gD6APoA+gD6APoA+gD6APoA+gD6APoA+gD6APoA+gD6APoA+gD6APoA+gD6APoA+gD6APoA+gD6APoA+gD6APoA+gD6APoA+gD6APoA+gD6APoA+gD6APoA+gD6APoA+gD6APoA+gD6APoA+gD6APoA+gD6APoA+gD6APoA+gD6APoA+gD6APoA+gD6APoA+gD6APoA",
          "dtype": "i2"
         },
         "xaxis": "x",
         "y": {
          "bdata": "AAAAAAAAAAAAAAAAAAAAAAAAAAAAAAAAAAAAAAAAAAAAAAAAAAAAAAAAAAAAAAAAAAAAAAAAAAAAAAAAAAAAAAAAAAAAAAAAAAAAAAAAAAAAAAAAAAAAAAAAAAAAAAAAAAAAAAAAAAAAAAAAAAAAAAAAAAAAAAAAAAAAAAAAAAAAAAAAAAAAAAAAAAAAAAAAAAAAAAAAAAAAAAAAAAAAAAAAAAAAAAAAAAAAAAAAAAAAAAAAAAAAAAAAAAAAAAAAAAAAAAAAAAAAAAAAAAAAAAAAAAAAAAAAAAAAAAAAAAAAAAAAAAAAAAAAAAAAAAAAAAAAAAAAAAAAAAAAAAAAAAAAAAAAAAAAAAAAAAAAAAAAAAAAAAAAAAAAAAAAAAAAAAAAAAAAAAAAAAAAAAAAAAAAAAAAAAAAAAAAAAAAAAAAAAAAAAAAAAAAAAAAAAAAAAAAAAAAAAAAAAAAAAAAAAAAAAAAAAAAAAAAAAAAAAAAAAAAAAAAAAAAAAAAAAAAAAAAAAAAAAAAAAAAAAAAAAAAAAAAAAAAAAAAAAAAAAAAAAAAAAAAAAAAAAAAAAAAAAAAAAAAAAAAAAAAAAAAAAAAAAAAAAAAAAAAAAAAAAAAAAAAAAAAAAAAAAAAAAAAAAAAAAAAAAAAAAAAAAAAAAAAAAAAAAAAAAAAAAAAAAAAAAAAAAAAAAAAAAAAAAAAAAAAAAAAAAAAAAAAAAAAAAAAAAAAAAAAAAAAAAAAAAAAAAAAAAAAAAAAAAAAAAAAAAAAAAAAAAAAAAAAAAAAAAAAAAAAAAAAAAAAAAAAAAAAAAAAAAAAAAAAAAAAAAAAAAAAAAAAAAAAAAAAAAAAAAAAAAAAAAAAAAAAAAAAAAAAAAAAAAAAAAAAAAAAAAAAAAAAAAAAAAAAAAAAAAAAAAAAAAAAAAAAAAAAAAAAAAAAAAAAAAAAAAAAAAAAAAAAAAAAAAAAAAAAAAAAAAAAAAAAAAAAAAAAAAAAAAAAAAAAAAAAAAAAAAAAAAAAAAAAAAAAAAAAAAAAAAAAAAAAAAAAAAAAAAAAAAAAAAAAAAAAAAAAAAAAAAAAAAAAAAAAAAAAAAAAAAAAAAAAAAAAAAAAAAAAAAAAAAAAAAAAAAAAAAAAAAAAAAAAAAAAAAAAAAAAAAAAAAAAAAAAAAAAAAAAAAAAAAAAAAAAAAAAAAAAAAAAAAAAAAAAAAAAAAAAAAAAAAAAAAAAAAAAAAAAAAAAAAAAAAAAAAAAAAAAAAAAAAAAAAAAAAAAAAAAAAAAAAAAAAAAAAAAAAAAAAAAAAAAAAAAAAAAAAAAAAAAAAAAAAAAAAAAAAAAAAAAAAAAAAAAAAAAAAAAAAAAAAAAAAAAAAAAAAAAAAAAAAAAAAAAAAAAAAAAAAAAAAAAAAAAAAAAAAAAAAAAAAAAAAAAAAAAAAAAAAAAAAAAAAAAAAAAAAAAAAAAAAAAAAAAAAAAAAAAAAAAAAAAAAAAAAAAAAAAAAAAAAAAAAAAAAAAAAAAAAAAAAAAAAAAAAAAAAAAAAAAAAAAAAAAAAAAAAAAAAAAAAAAAAAAAAAAAAAAAAAAAAAAAAAAAAAAAAAAAAAAAAAAAAAAAAAAAAAAAAAAAAAAAAAAAAAAAAAAAAAAAAAAAAAAAAAAAAAAAAAAAAAAAAAAAAAAAAAAAAAAAAAAAAAAAAAAAAAAAAAAAAAAAAAAAAAAAAAAAAAAAAAAAAAAmpmZmZmZuT+amZmZmZm5P5qZmZmZmck/mpmZmZmZyT8zMzMzMzPTPzMzMzMzM9M/MzMzMzMz0z8zMzMzMzPTPzMzMzMzM9M/MzMzMzMz0z8zMzMzMzPTPzMzMzMzM9M/AAAAAAAA4D8AAAAAAADgPzMzMzMzM+M/MzMzMzMz4z9mZmZmZmbmP2ZmZmZmZuY/mpmZmZmZ6T+amZmZmZnpP5qZmZmZmek/mpmZmZmZ6T+amZmZmZnpP5qZmZmZmek/mpmZmZmZ6T+amZmZmZnpP83MzMzMzOw/zczMzMzM7D8AAAAAAADwPwAAAAAAAPA/AAAAAAAA8D8AAAAAAADwP83MzMzMzOw/zczMzMzM7D/NzMzMzMzsP83MzMzMzOw/zczMzMzM7D/NzMzMzMzsP83MzMzMzOw/zczMzMzM7D/NzMzMzMzsP83MzMzMzOw/zczMzMzM7D/NzMzMzMzsP83MzMzMzOw/zczMzMzM7D/NzMzMzMzsP83MzMzMzOw/zczMzMzM7D/NzMzMzMzsP83MzMzMzOw/zczMzMzM7D8AAAAAAADwPwAAAAAAAPA/AAAAAAAA8D8AAAAAAADwPwAAAAAAAPA/AAAAAAAA8D8AAAAAAADwPwAAAAAAAPA/AAAAAAAA8D8AAAAAAADwPwAAAAAAAPA/AAAAAAAA8D/NzMzMzMzsP83MzMzMzOw/zczMzMzM7D/NzMzMzMzsP83MzMzMzOw/zczMzMzM7D/NzMzMzMzsP83MzMzMzOw/zczMzMzM7D/NzMzMzMzsP83MzMzMzOw/zczMzMzM7D/NzMzMzMzsP83MzMzMzOw/zczMzMzM7D/NzMzMzMzsP83MzMzMzOw/zczMzMzM7D/NzMzMzMzsP83MzMzMzOw/zczMzMzM7D/NzMzMzMzsPwAAAAAAAPA/AAAAAAAA8D/NzMzMzMzsP83MzMzMzOw/zczMzMzM7D/NzMzMzMzsPwAAAAAAAPA/AAAAAAAA8D/NzMzMzMzsP83MzMzMzOw/AAAAAAAA8D8AAAAAAADwP83MzMzMzOw/zczMzMzM7D/NzMzMzMzsP83MzMzMzOw/zczMzMzM7D/NzMzMzMzsPwAAAAAAAPA/AAAAAAAA8D/NzMzMzMzsP83MzMzMzOw/AAAAAAAA8D8AAAAAAADwPwAAAAAAAPA/AAAAAAAA8D/NzMzMzMzsP83MzMzMzOw/AAAAAAAA8D8AAAAAAADwP83MzMzMzOw/zczMzMzM7D8AAAAAAADwPwAAAAAAAPA/AAAAAAAA8D8AAAAAAADwP83MzMzMzOw/zczMzMzM7D8AAAAAAADwPwAAAAAAAPA/AAAAAAAA8D8AAAAAAADwPwAAAAAAAPA/AAAAAAAA8D8AAAAAAADwPwAAAAAAAPA/zczMzMzM7D/NzMzMzMzsP83MzMzMzOw/zczMzMzM7D/NzMzMzMzsP83MzMzMzOw/zczMzMzM7D/NzMzMzMzsP83MzMzMzOw/zczMzMzM7D8AAAAAAADwPwAAAAAAAPA/zczMzMzM7D/NzMzMzMzsP83MzMzMzOw/zczMzMzM7D+amZmZmZnpP5qZmZmZmek/mpmZmZmZ6T+amZmZmZnpP83MzMzMzOw/zczMzMzM7D/NzMzMzMzsP83MzMzMzOw/zczMzMzM7D/NzMzMzMzsP83MzMzMzOw/zczMzMzM7D/NzMzMzMzsP83MzMzMzOw/zczMzMzM7D/NzMzMzMzsP83MzMzMzOw/zczMzMzM7D/NzMzMzMzsP83MzMzMzOw/AAAAAAAA8D8AAAAAAADwPwAAAAAAAPA/AAAAAAAA8D8AAAAAAADwPwAAAAAAAPA/AAAAAAAA8D8AAAAAAADwPwAAAAAAAPA/AAAAAAAA8D8AAAAAAADwPwAAAAAAAPA/AAAAAAAA8D8AAAAAAADwP83MzMzMzOw/zczMzMzM7D8AAAAAAADwPwAAAAAAAPA/AAAAAAAA8D8AAAAAAADwP83MzMzMzOw/zczMzMzM7D/NzMzMzMzsP83MzMzMzOw/zczMzMzM7D/NzMzMzMzsP83MzMzMzOw/zczMzMzM7D/NzMzMzMzsP83MzMzMzOw/zczMzMzM7D/NzMzMzMzsP83MzMzMzOw/zczMzMzM7D8AAAAAAADwPwAAAAAAAPA/AAAAAAAA8D8AAAAAAADwP83MzMzMzOw/zczMzMzM7D8AAAAAAADwPwAAAAAAAPA/AAAAAAAA8D8AAAAAAADwPwAAAAAAAPA/AAAAAAAA8D8AAAAAAADwPwAAAAAAAPA/MzMzMzMz8z8zMzMzMzPzPzMzMzMzM/M/MzMzMzMz8z8zMzMzMzPzPzMzMzMzM/M/zczMzMzM9D/NzMzMzMz0P83MzMzMzPQ/zczMzMzM9D9mZmZmZmb2P2ZmZmZmZvY/ZmZmZmZm9j9mZmZmZmb2P83MzMzMzPQ/zczMzMzM9D9mZmZmZmb2P2ZmZmZmZvY/ZmZmZmZm9j9mZmZmZmb2P2ZmZmZmZvY/ZmZmZmZm9j/NzMzMzMz0P83MzMzMzPQ/zczMzMzM9D/NzMzMzMz0PzMzMzMzM/M/MzMzMzMz8z+amZmZmZnxP5qZmZmZmfE/mpmZmZmZ8T+amZmZmZnxP5qZmZmZmfE/mpmZmZmZ8T/NzMzMzMz0P83MzMzMzPQ/mpmZmZmZ8T+amZmZmZnxP2ZmZmZmZvY/ZmZmZmZm9j/NzMzMzMz0P83MzMzMzPQ/ZmZmZmZm9j9mZmZmZmb2P2ZmZmZmZvY/ZmZmZmZm9j9mZmZmZmb2P2ZmZmZmZvY/AAAAAAAA+D8AAAAAAAD4PwAAAAAAAPg/AAAAAAAA+D8AAAAAAAD4PwAAAAAAAPg/AAAAAAAA+D8AAAAAAAD4PwAAAAAAAPg/AAAAAAAA+D9mZmZmZmb2P2ZmZmZmZvY/ZmZmZmZm9j9mZmZmZmb2P83MzMzMzPQ/zczMzMzM9D/NzMzMzMz0P83MzMzMzPQ/zczMzMzM9D/NzMzMzMz0P83MzMzMzPQ/zczMzMzM9D/NzMzMzMz0P83MzMzMzPQ/MzMzMzMz8z8zMzMzMzPzP5qZmZmZmfE/mpmZmZmZ8T8zMzMzMzPzPzMzMzMzM/M/MzMzMzMz8z8zMzMzMzPzPzMzMzMzM/M/MzMzMzMz8z+amZmZmZnxP5qZmZmZmfE/mpmZmZmZ8T+amZmZmZnxP5qZmZmZmfE/mpmZmZmZ8T/NzMzMzMzsP83MzMzMzOw/zczMzMzM7D/NzMzMzMzsPwAAAAAAAPA/AAAAAAAA8D8zMzMzMzPzPzMzMzMzM/M/MzMzMzMz8z8zMzMzMzPzPzMzMzMzM/M/MzMzMzMz8z8zMzMzMzPzPzMzMzMzM/M/AAAAAAAA+D8AAAAAAAD4P2ZmZmZmZvY/ZmZmZmZm9j9mZmZmZmb2P2ZmZmZmZvY/AAAAAAAA+D8AAAAAAAD4PzMzMzMzM/s/MzMzMzMz+z8zMzMzMzP7PzMzMzMzM/s/MzMzMzMz+z8zMzMzMzP7P5qZmZmZmfk/mpmZmZmZ+T+amZmZmZn5P5qZmZmZmfk/ZmZmZmZm/j9mZmZmZmb+P2ZmZmZmZv4/ZmZmZmZm/j/NzMzMzMwAQM3MzMzMzABAzczMzMzMAEDNzMzMzMwAQDMzMzMzMwdAMzMzMzMzB0AzMzMzMzMHQDMzMzMzMwdAmpmZmZmZCUCamZmZmZkJQM3MzMzMzAhAzczMzMzMCECamZmZmZkJQJqZmZmZmQlAmpmZmZmZBUCamZmZmZkFQJqZmZmZmQVAmpmZmZmZBUBmZmZmZmYCQGZmZmZmZgJAMzMzMzMzA0AzMzMzMzMDQDMzMzMzMwNAMzMzMzMzA0AzMzMzMzMDQDMzMzMzMwNAMzMzMzMzA0AzMzMzMzMDQJqZmZmZmek/mpmZmZmZ6T+amZmZmZnpP5qZmZmZmek/zczMzMzM7D/NzMzMzMzsPzMzMzMzM/M/MzMzMzMz8z+amZmZmZnxP5qZmZmZmfE/mpmZmZmZ8T+amZmZmZnxPwAAAAAAAPA/AAAAAAAA8D8AAAAAAADwPwAAAAAAAPA/AAAAAAAA8D8AAAAAAADwPzMzMzMzM/M/MzMzMzMz8z8AAAAAAADwPwAAAAAAAPA/zczMzMzM9D/NzMzMzMz0PwAAAAAAAPA/AAAAAAAA8D8AAAAAAADwPwAAAAAAAPA/MzMzMzMz8z8zMzMzMzPzP5qZmZmZmfE/mpmZmZmZ8T8AAAAAAAD4PwAAAAAAAPg/mpmZmZmZ+T+amZmZmZn5P5qZmZmZmfk/mpmZmZmZ+T9mZmZmZmYCQGZmZmZmZgJAMzMzMzMzB0AzMzMzMzMHQAAAAAAAAAhAAAAAAAAACECamZmZmZkNQJqZmZmZmQ1AzczMzMzMEEDNzMzMzMwQQGZmZmZmZhJAZmZmZmZmEkBmZmZmZmYSQGZmZmZmZhJAAAAAAAAAEkAAAAAAAAASQAAAAAAAABJAAAAAAAAAEkAAAAAAAAASQAAAAAAAABJA",
          "dtype": "f8"
         },
         "yaxis": "y"
        },
        {
         "hovertemplate": "test=VertexAIMaaS - gemini-2.5-flash-lite-preview-06-17-thinking<br>User Count=%{x}<br>Failures/s=%{y}<extra></extra>",
         "legendgroup": "VertexAIMaaS - gemini-2.5-flash-lite-preview-06-17-thinking",
         "marker": {
          "color": "#EF553B",
          "symbol": "circle"
         },
         "mode": "markers",
         "name": "VertexAIMaaS - gemini-2.5-flash-lite-preview-06-17-thinking",
         "showlegend": true,
         "type": "scattergl",
         "x": {
          "bdata": "AAABAAIAAgADAAMABAAEAAUABQAGAAYABwAHAAgACAAJAAkACgAKAAsACwAMAAwADQANAA4ADgAPAA8AEAAQABEAEQASABIAEwATABQAFAAVABUAFgAWABcAFwAYABgAGQAZABoAGgAbABsAHAAcAB0AHQAeAB4AHwAfACAAIAAhACEAIgAiACMAIwAkACQAJQAlACYAJgAnACcAKAAoACkAKQAqACoAKwArACwALAAtAC0ALgAuAC8ALwAwADAAMQAxADIAMgAzADMANAA0ADUANQA2ADYANwA3ADgAOAA5ADkAOgA6ADsAOwA8ADwAPQA9AD4APgA/AD8AQABAAEEAQQBCAEIAQwBDAEQARABFAEUARgBGAEcARwBIAEgASQBJAEoASgBLAEsATABMAE0ATQBOAE4ATwBPAFAAUABRAFEAUgBSAFMAUwBUAFQAVQBVAFYAVgBXAFcAWABYAFkAWQBaAFoAWwBbAFwAXABdAF0AXgBeAF8AXwBgAGAAYQBhAGIAYgBjAGMAZABkAGUAZQBmAGYAZwBnAGgAaABpAGkAagBqAGsAawBsAGwAbQBtAG4AbgBvAG8AcABwAHEAcQByAHIAcwBzAHQAdAB1AHUAdgB2AHcAdwB4AHgAeQB5AHoAegB7AHsAfAB8AH0AfQB+AH4AfwB/AIAAgACBAIEAggCCAIMAgwCEAIQAhQCFAIYAhgCHAIcAiACIAIkAiQCKAIoAiwCLAIwAjACNAI0AjgCOAI8AjwCQAJAAkQCRAJIAkgCTAJMAlACUAJUAlQCWAJYAlwCXAJgAmACZAJkAmgCaAJsAmwCcAJwAnQCdAJ4AngCfAJ8AoACgAKEAoQCiAKIAowCjAKQApAClAKUApgCmAKcApwCoAKgAqQCpAKoAqgCrAKsArACsAK0ArQCuAK4ArwCvALAAsACxALEAsgCyALMAswC0ALQAtQC1ALYAtgC3ALcAuAC4ALkAuQC6ALoAuwC7ALwAvAC9AL0AvgC+AL8AvwDAAMAAwQDBAMIAwgDDAMMAxADEAMUAxQDGAMYAxwDHAMgAyADJAMkAygDKAMsAywDMAMwAzQDNAM4AzgDPAM8A0ADQANEA0QDSANIA0wDTANQA1ADVANUA1gDWANcA1wDYANgA2QDZANoA2gDbANsA3ADcAN0A3QDeAN4A3wDfAOAA4ADhAOEA4gDiAOMA4wDkAOQA5QDlAOYA5gDnAOcA6ADoAOkA6QDqAOoA6wDrAOwA7ADtAO0A7gDuAO8A7wDwAPAA8QDxAPIA8gDzAPMA9AD0APUA9QD2APYA9wD3APgA+AD5APkA+gD6APoA+gD6APoA+gD6APoA+gD6APoA+gD6APoA+gD6APoA+gD6APoA+gD6APoA+gD6APoA+gD6APoA+gD6APoA+gD6APoA+gD6APoA+gD6APoA+gD6APoA+gD6APoA+gD6APoA+gD6APoA+gD6APoA+gD6APoA+gD6APoA+gD6APoA+gD6APoA+gD6APoA+gD6APoA+gD6APoA+gD6APoA+gD6APoA+gD6APoA+gD6APoA+gD6AA==",
          "dtype": "i2"
         },
         "xaxis": "x",
         "y": {
          "bdata": "AAAAAAAAAAAAAAAAAAAAAAAAAAAAAAAAAAAAAAAAAAAAAAAAAAAAAAAAAAAAAAAAAAAAAAAAAAAAAAAAAAAAAAAAAAAAAAAAAAAAAAAAAAAAAAAAAAAAAAAAAAAAAAAAAAAAAAAAAAAAAAAAAAAAAAAAAAAAAAAAAAAAAAAAAAAAAAAAAAAAAAAAAAAAAAAAAAAAAAAAAAAAAAAAAAAAAAAAAAAAAAAAAAAAAAAAAAAAAAAAAAAAAAAAAAAAAAAAAAAAAAAAAAAAAAAAAAAAAAAAAAAAAAAAAAAAAAAAAAAAAAAAAAAAAAAAAAAAAAAAAAAAAAAAAAAAAAAAAAAAAAAAAAAAAAAAAAAAAAAAAAAAAAAAAAAAAAAAAAAAAAAAAAAAAAAAAAAAAAAAAAAAAAAAAAAAAAAAAAAAAAAAAAAAAAAAAAAAAAAAAAAAAAAAAAAAAAAAAAAAAAAAAAAAAAAAAAAAAAAAAAAAAAAAAAAAAAAAAAAAAAAAAAAAAAAAAAAAAAAAAAAAAAAAAAAAAAAAAAAAAAAAAAAAAAAAAAAAAAAAAAAAAAAAAAAAAAAAAAAAAAAAAAAAAAAAAAAAAAAAAAAAAAAAAAAAAAAAAACamZmZmZm5P5qZmZmZmbk/zczMzMzM7D/NzMzMzMzsPzMzMzMzMxlAMzMzMzMzGUAzMzMzMzMyQDMzMzMzMzJAZmZmZmamQUBmZmZmZqZBQAAAAAAAgEtAAAAAAACAS0CamZmZmdlSQJqZmZmZ2VJAZmZmZmYmWEBmZmZmZiZYQM3MzMzMrF1AzczMzMysXUAzMzMzM9NhQDMzMzMz02FAMzMzMzPTZEAzMzMzM9NkQGZmZmZm1mdAZmZmZmbWZ0AzMzMzM2NqQDMzMzMzY2pAAAAAAABQbEAAAAAAAFBsQDMzMzMzY21AMzMzMzNjbUBmZmZmZlZuQGZmZmZmVm5AZmZmZmZ2b0BmZmZmZnZvQM3MzMzMRHBAzczMzMxEcEBmZmZmZrZwQGZmZmZmtnBAZmZmZmYecUBmZmZmZh5xQGZmZmZmlnFAZmZmZmaWcUAzMzMzMwNyQDMzMzMzA3JAmpmZmZl5ckCamZmZmXlyQM3MzMzMxHJAzczMzMzEckAzMzMzM1NzQDMzMzMzU3NAMzMzMzO7c0AzMzMzM7tzQM3MzMzM7HNAzczMzMzsc0AAAAAAAEh0QAAAAAAASHRAzczMzMzEdEDNzMzMzMR0QGZmZmZmNnVAZmZmZmY2dUAzMzMzM5N1QDMzMzMzk3VAAAAAAAAQdkAAAAAAABB2QM3MzMzMbHZAzczMzMxsdkAzMzMzM9t2QDMzMzMz23ZAmpmZmZkhd0CamZmZmSF3QM3MzMzM7HZAzczMzMzsdkAzMzMzMyt1QDMzMzMzK3VAZmZmZmYGc0BmZmZmZgZzQGZmZmZmBnFAZmZmZmYGcUAzMzMzM9NtQDMzMzMz021AZmZmZmZGaUBmZmZmZkZpQGZmZmZmZmRAZmZmZmZmZEDNzMzMzAxfQM3MzMzMDF9AMzMzMzNTVUAzMzMzM1NVQGZmZmZmJkdAZmZmZmYmR0AAAAAAAAAwQAAAAAAAADBAAAAAAAAAL0AAAAAAAAAvQDMzMzMzMzxAMzMzMzMzPEAzMzMzMzNKQDMzMzMzM0pAzczMzMxsVkDNzMzMzGxWQM3MzMzMPGFAzczMzMw8YUAzMzMzM6NnQDMzMzMzo2dAMzMzMzNDbkAzMzMzM0NuQDMzMzMzy3BAMzMzMzPLcECamZmZmXlzQJqZmZmZeXNAzczMzMxcdkDNzMzMzFx2QJqZmZmZAXlAmpmZmZkBeUAzMzMzMyt5QDMzMzMzK3lAMzMzMzO7ekAzMzMzM7t6QDMzMzMzw3tAMzMzMzPDe0AzMzMzM1t8QDMzMzMzW3xAmpmZmZnRfECamZmZmdF8QJqZmZmZMX1AmpmZmZkxfUCamZmZmUF/QJqZmZmZQX9AZmZmZmYygEBmZmZmZjKAQGZmZmZmmoBAZmZmZmaagEDNzMzMzAiBQM3MzMzMCIFAzczMzMxwgkDNzMzMzHCCQM3MzMzMnIJAzczMzMycgkDNzMzMzLyCQM3MzMzMvIJAAAAAAADkgkAAAAAAAOSCQAAAAAAAIINAAAAAAAAgg0AzMzMzM0ODQDMzMzMzQ4NAAAAAAABsg0AAAAAAAGyDQJqZmZmZTYNAmpmZmZlNg0DNzMzMzFyDQM3MzMzMXINAmpmZmZldg0CamZmZmV2DQDMzMzMzS4JAMzMzMzNLgkAzMzMzMweCQDMzMzMzB4JAAAAAAADQgUAAAAAAANCBQAAAAAAAuIFAAAAAAAC4gUDNzMzMzOyAQM3MzMzM7IBAzczMzMx8f0DNzMzMzHx/QGZmZmZmnn9AZmZmZmaef0AzMzMzMyuAQDMzMzMzK4BAzczMzMx8f0DNzMzMzHx/QM3MzMzMlH9AzczMzMyUf0AAAAAAAFh/QAAAAAAAWH9AmpmZmZkJgECamZmZmQmAQDMzMzMzi39AMzMzMzOLf0AAAAAAAByAQAAAAAAAHIBAmpmZmZmNgECamZmZmY2AQGZmZmZmgoFAZmZmZmaCgUDNzMzMzHiAQM3MzMzMeIBAAAAAAADQfkAAAAAAANB+QM3MzMzMXH5AzczMzMxcfkBmZmZmZsZ7QGZmZmZmxntAZmZmZmYue0BmZmZmZi57QM3MzMzMvHdAzczMzMy8d0AAAAAAABB1QAAAAAAAEHVAzczMzMy8cEDNzMzMzLxwQDMzMzMzs2pAMzMzMzOzakBmZmZmZhZkQGZmZmZmFmRAmpmZmZnZYECamZmZmdlgQGZmZmZmJl5AZmZmZmYmXkBmZmZmZoZeQGZmZmZmhl5AZmZmZmbmXEBmZmZmZuZcQJqZmZmZOWBAmpmZmZk5YEAzMzMzM8NoQDMzMzMzw2hAMzMzMzPzb0AzMzMzM/NvQDMzMzMz829AMzMzMzPzb0DNzMzMzDx5QM3MzMzMPHlAmpmZmZmJfECamZmZmYl8QJqZmZmZ8XxAmpmZmZnxfEDNzMzMzPx/QM3MzMzM/H9AzczMzMz8gEDNzMzMzPyAQDMzMzMzE4NAMzMzMzMTg0AzMzMzMyeEQDMzMzMzJ4RAAAAAAAAghEAAAAAAACCEQGZmZmZmFoRAZmZmZmYWhEAzMzMzMx+EQDMzMzMzH4RAAAAAAABMhEAAAAAAAEyEQGZmZmZmeoRAZmZmZmZ6hEDNzMzMzNiFQM3MzMzM2IVAAAAAAAB8hUAAAAAAAHyFQAAAAAAAcIVAAAAAAABwhUAAAAAAABSFQAAAAAAAFIVAmpmZmZnJhUCamZmZmcmFQM3MzMzMaIRAzczMzMxohEAAAAAAAJiEQAAAAAAAmIRAMzMzMzNrhEAzMzMzM2uEQAAAAAAAUIRAAAAAAABQhEAzMzMzM+OEQDMzMzMz44RAZmZmZmYKhUBmZmZmZgqFQAAAAAAAYIRAAAAAAABghEDNzMzMzJCEQM3MzMzMkIRAZmZmZmZyhEBmZmZmZnKEQJqZmZmZfYJAmpmZmZl9gkDNzMzMzASEQM3MzMzMBIRAzczMzMysg0DNzMzMzKyDQM3MzMzMeIRAzczMzMx4hECamZmZmXWDQJqZmZmZdYNAMzMzMzO3g0AzMzMzM7eDQM3MzMzMpIRAzczMzMykhEAAAAAAABiGQAAAAAAAGIZAMzMzMzM7hEAzMzMzMzuEQDMzMzMzO4RAMzMzMzM7hECamZmZmbmEQJqZmZmZuYRAZmZmZmbGhEBmZmZmZsaEQDMzMzMzo4NAMzMzMzOjg0AzMzMzM6ODQDMzMzMzo4NAAAAAAADQhEAAAAAAANCEQM3MzMzMsINAzczMzMywg0CamZmZmVmBQJqZmZmZWYFAmpmZmZmxgUCamZmZmbGBQM3MzMzMfIJAzczMzMx8gkAAAAAAAASEQAAAAAAABIRAAAAAAADwgUAAAAAAAPCBQM3MzMzMJH9AzczMzMwkf0DNzMzMzIx+QM3MzMzMjH5AmpmZmZkhekCamZmZmSF6QM3MzMzMvHRAzczMzMy8dEBmZmZmZvZyQGZmZmZm9nJAZmZmZmYGdUBmZmZmZgZ1QM3MzMzMnHNAzczMzMycc0BmZmZmZi5zQGZmZmZmLnNAMzMzMzNjckAzMzMzM2NyQDMzMzMzy3ZAMzMzMzPLdkDNzMzMzGx8QM3MzMzMbHxAmpmZmZl5gECamZmZmXmAQAAAAAAAqIJAAAAAAACogkDNzMzMzHCEQM3MzMzMcIRAAAAAAAAwhkAAAAAAADCGQAAAAAAAVIdAAAAAAABUh0DNzMzMzNiHQM3MzMzM2IdAAAAAAACQiUAAAAAAAJCJQGZmZmZmRopAZmZmZmZGikBmZmZmZl6JQGZmZmZmXolAMzMzMzOTh0AzMzMzM5OHQAAAAAAAVIZAAAAAAABUhkBmZmZmZuqFQGZmZmZm6oVAMzMzMzN/hkAzMzMzM3+GQAAAAAAAeIVAAAAAAAB4hUAzMzMzM++EQDMzMzMz74RAAAAAAACYg0AAAAAAAJiDQJqZmZmZfYNAmpmZmZl9g0DNzMzMzIiCQM3MzMzMiIJAmpmZmZmtgUCamZmZma2BQDMzMzMzl4NAMzMzMzOXg0AAAAAAAESDQAAAAAAARINAZmZmZmaugUBmZmZmZq6BQDMzMzMzL4NAMzMzMzMvg0DNzMzMzOSDQM3MzMzM5INAAAAAAABMhEAAAAAAAEyEQAAAAAAATIRAAAAAAABMhEAzMzMzMz+EQDMzMzMzP4RAZmZmZmaahUBmZmZmZpqFQAAAAAAAIIVAAAAAAAAghUCamZmZmamGQJqZmZmZqYZAAAAAAADYhkAAAAAAANiGQAAAAAAA2IZAAAAAAADYhkAzMzMzM9OGQDMzMzMz04ZAZmZmZmbKhUBmZmZmZsqFQGZmZmZmcoVAZmZmZmZyhUBmZmZmZnKFQGZmZmZmcoVAMzMzMzMnhkAzMzMzMyeGQDMzMzMzJ4ZAMzMzMzMnhkAzMzMzM2OFQDMzMzMzY4VAAAAAAADMhEAAAAAAAMyEQGZmZmZmtoRAZmZmZma2hECamZmZmVmGQJqZmZmZWYZAmpmZmZm1hkCamZmZmbWGQJqZmZmZYYZAmpmZmZlhhkCamZmZmXGHQJqZmZmZcYdAmpmZmZlxiECamZmZmXGIQJqZmZmZvYZAmpmZmZm9hkAzMzMzM8+FQDMzMzMzz4VAMzMzMzNbhEAzMzMzM1uEQDMzMzMzT4JAMzMzMzNPgkDNzMzMzNiAQM3MzMzM2IBAzczMzMw0fEDNzMzMzDR8QJqZmZmZUXdAmpmZmZlRd0BmZmZmZsZ3QGZmZmZmxndAMzMzMzMreUAzMzMzMyt5QGZmZmZmXnpAZmZmZmZeekAAAAAAAKB7QAAAAAAAoHtAZmZmZmZ+f0BmZmZmZn5/QGZmZmZmUoJAZmZmZmZSgkAzMzMzM+OEQDMzMzMz44RAMzMzMzO3h0AzMzMzM7eHQGZmZmZmtolAZmZmZma2iUCamZmZmfWKQJqZmZmZ9YpAmpmZmZlNi0CamZmZmU2LQM3MzMzM2IlAzczMzMzYiUAzMzMzM1OIQDMzMzMzU4hAAAAAAAB0iEAAAAAAAHSIQJqZmZmZwYhAmpmZmZnBiEAzMzMzM2OIQDMzMzMzY4hAMzMzMzN7iEAzMzMzM3uIQJqZmZmZmYhAmpmZmZmZiEBmZmZmZpqJQGZmZmZmmolAzczMzMwYi0DNzMzMzBiLQGZmZmZmSoxAZmZmZmZKjECamZmZmb2NQJqZmZmZvY1AmpmZmZkRj0CamZmZmRGPQJqZmZmZP5BAmpmZmZk/kEDNzMzMzCiQQM3MzMzMKJBAAAAAAAA8kEAAAAAAADyQQJqZmZmZC5BAmpmZmZkLkEDNzMzMzCyQQM3MzMzMLJBAZmZmZmYUkEBmZmZmZhSQQGZmZmZmpo9AZmZmZmamj0BmZmZmZhKPQGZmZmZmEo9AmpmZmZkBj0CamZmZmQGPQDMzMzMzF49AMzMzMzMXj0CamZmZmd2NQJqZmZmZ3Y1AAAAAAADkjUAAAAAAAOSNQGZmZmZmao1AZmZmZmZqjUBmZmZmZrqNQGZmZmZmuo1AZmZmZmaWjUBmZmZmZpaNQM3MzMzMxI1AzczMzMzEjUDNzMzMzPyNQM3MzMzM/I1AZmZmZmZGjkBmZmZmZkaOQM3MzMzMqI5AzczMzMyojkCamZmZmUGPQJqZmZmZQY9AAAAAAAAoj0AAAAAAACiPQA==",
          "dtype": "f8"
         },
         "yaxis": "y"
        },
        {
         "hovertemplate": "test=VertexAIMaaS - gemini-2.5-flash-thinking<br>User Count=%{x}<br>Failures/s=%{y}<extra></extra>",
         "legendgroup": "VertexAIMaaS - gemini-2.5-flash-thinking",
         "marker": {
          "color": "#00cc96",
          "symbol": "circle"
         },
         "mode": "markers",
         "name": "VertexAIMaaS - gemini-2.5-flash-thinking",
         "showlegend": true,
         "type": "scattergl",
         "x": {
          "bdata": "AAABAAIAAwAEAAQABQAFAAYABgAHAAcACAAIAAkACQAKAAoACwALAAwADAANAA0ADgAOAA8ADwAQABAAEQARABIAEgATABMAFAAUABUAFQAWABYAFwAXABgAGAAZABkAGgAaABsAGwAcABwAHQAdAB4AHgAfAB8AIAAgACEAIQAiACIAIwAjACQAJAAlACUAJgAmACcAJwAoACgAKQApACoAKgArACsALAAsAC0ALQAuAC4ALwAvADAAMAAxADEAMgAyADMAMwA0ADQANQA1ADYANgA3ADcAOAA4ADkAOQA6ADoAOwA7ADwAPAA9AD0APgA+AD8APwBAAEAAQQBBAEIAQgBDAEMARABEAEUARQBGAEYARwBHAEgASABJAEkASgBKAEsASwBMAEwATQBNAE4ATgBPAE8AUABQAFEAUQBSAFIAUwBTAFQAVABVAFUAVgBWAFcAVwBYAFgAWQBZAFoAWgBbAFsAXABcAF0AXQBeAF4AXwBfAGAAYABhAGEAYgBiAGMAYwBkAGQAZQBlAGYAZgBnAGcAaABoAGkAaQBqAGoAawBrAGwAbABtAG0AbgBuAG8AbwBwAHAAcQBxAHIAcgBzAHMAdAB0AHUAdQB2AHYAdwB3AHgAeAB5AHkAegB6AHsAewB8AHwAfQB9AH4AfgB/AH8AgACAAIEAgQCCAIIAgwCDAIQAhACFAIUAhgCGAIcAhwCIAIgAiQCJAIoAigCLAIsAjACMAI0AjQCOAI4AjwCPAJAAkACRAJEAkgCSAJMAkwCUAJQAlQCVAJYAlgCXAJcAmACYAJkAmQCaAJoAmwCbAJwAnACdAJ0AngCeAJ8AnwCgAKAAoQChAKIAogCjAKMApACkAKUApQCmAKYApwCnAKgAqACpAKkAqgCqAKsAqwCsAKwArQCtAK4ArgCvAK8AsACwALEAsQCyALIAswCzALQAtAC1ALUAtgC2ALcAtwC4ALgAuQC5ALoAugC7ALsAvAC8AL0AvQC+AL4AvwC/AMAAwADBAMEAwgDCAMMAwwDEAMQAxQDFAMYAxgDHAMcAyADIAMkAyQDKAMoAywDLAMwAzADNAM0AzgDOAM8AzwDQANAA0QDRANIA0gDTANMA1ADUANUA1QDWANYA1wDXANgA2ADZANkA2gDaANsA2wDcANwA3QDdAN4A3gDfAN8A4ADgAOEA4QDiAOIA4wDjAOQA5ADlAOUA5gDmAOcA5wDoAOgA6QDpAOoA6gDrAOsA7ADsAO0A7QDuAO4A7wDvAPAA8ADxAPEA8gDyAPMA8wD0APQA9QD1APYA9gD3APcA+AD4APkA+QD6APoA+gD6APoA+gD6APoA+gD6APoA+gD6APoA+gD6APoA+gD6APoA+gD6APoA+gD6APoA+gD6APoA+gD6APoA+gD6APoA+gD6APoA+gD6APoA+gD6APoA+gD6APoA+gD6APoA+gD6APoA+gD6APoA+gD6APoA+gD6APoA+gD6APoA+gD6APoA+gD6APoA+gD6APoA+gD6APoA+gD6APoA+gD6APoA+gD6APoA+gD6APoA+gD6APoA",
          "dtype": "i2"
         },
         "xaxis": "x",
         "y": {
          "bdata": "AAAAAAAAAAAAAAAAAAAAAAAAAAAAAAAAAAAAAAAAAAAAAAAAAAAAAAAAAAAAAAAAAAAAAAAAAAAAAAAAAAAAAAAAAAAAAAAAAAAAAAAAAAAAAAAAAAAAAAAAAAAAAAAAAAAAAAAAAAAAAAAAAAAAAAAAAAAAAAAAAAAAAAAAAAAAAAAAAAAAAAAAAAAAAAAAAAAAAAAAAAAAAAAAAAAAAAAAAAAAAAAAAAAAAAAAAAAAAAAAAAAAAAAAAAAAAAAAAAAAAAAAAAAAAAAAAAAAAAAAAAAAAAAAAAAAAAAAAAAAAAAAAAAAAAAAAAAAAAAAAAAAAAAAAAAAAAAAAAAAAAAAAAAAAAAAAAAAAAAAAAAAAAAAAAAAAAAAAAAAAAAAAAAAAAAAAAAAAAAAAAAAAAAAAAAAAAAAAAAAAAAAAAAAAAAAAAAAAAAAAAAAAAAAAAAAAAAAAAAAAAAAAAAAAAAAAAAAAAAAAAAAAAAAAAAAAAAAAAAAAAAAAAAAAAAAAAAAAAAAAAAAAAAAAAAAAAAAAAAAAAAAAAAAAAAAAAAAAAAAAAAAAAAAAAAAAAAAAAAAAAAAAAAAAAAAAAAAAAAAAAAAAAAAAAAAAAAAAAAAAAAAAAAAAAAAAAAAAAAAAAAAAAAAAAAAAAAAAAAAAAAAAAAAAAAAAAAAAAAAAAAAAAAAAAAAAAAAAAAAAAAAAAAAAAAAAAAAAAAAAAAAAAAAAAAAAAAAAAAAAAAAAAAAAAAAAAAAAAAAAAAAAAAAAAAAAAAAAAAAAAAAAAAAAAAAAAAAAAAAAAAAAAAAAAAAAAAAAAAAAAAAAAAAAAAAAAAAAAAAAAAAAAAAAAAAAAAAAAAAAAAAAAAAAAAAAAAAAAAAAAAAAAAAAAAAAAAAAAAAAAAAAAAAAAAAAAAAAAAAAAAAAAAAAAAAAAAAAAAAAAAAAAAAAAAAAAAAAAAAAAAAAAAAAAAAAAAAAAAAAAAAAAAAAAAAAAAAAAAAAAAAAAAAAAAAAAAAAAAAAAAAAAAAAAAAAAAAAAAAAAAAAJqZmZmZmbk/mpmZmZmZuT8zMzMzMzPjPzMzMzMzM+M/AAAAAAAACEAAAAAAAAAIQM3MzMzMzCFAzczMzMzMIUBmZmZmZmY1QGZmZmZmZjVAAAAAAABAREAAAAAAAEBEQM3MzMzMjE9AzczMzMyMT0AAAAAAAKBWQAAAAAAAoFZAZmZmZmYmXkBmZmZmZiZeQM3MzMzMbGNAzczMzMxsY0CamZmZmRloQJqZmZmZGWhAZmZmZmbGbEBmZmZmZsZsQDMzMzMzI3BAMzMzMzMjcEBmZmZmZvZxQGZmZmZm9nFAzczMzMykcUDNzMzMzKRxQGZmZmZmdnBAZmZmZmZ2cEAzMzMzMyNuQDMzMzMzI25AAAAAAADAakAAAAAAAMBqQAAAAAAAAGdAAAAAAAAAZ0DNzMzMzKxiQM3MzMzMrGJAmpmZmZn5W0CamZmZmflbQM3MzMzMjFJAzczMzMyMUkBmZmZmZuZFQGZmZmZm5kVAZmZmZmZmIUBmZmZmZmYhQM3MzMzMzPQ/zczMzMzM9D+amZmZmZnxP5qZmZmZmfE/mpmZmZmZ6T+amZmZmZnpPwAAAAAAAOA/AAAAAAAA4D+amZmZmZnZP5qZmZmZmdk/mpmZmZmZyT+amZmZmZnJP5qZmZmZmck/mpmZmZmZyT8AAAAAAAAAAAAAAAAAAAAAAAAAAAAAAAAAAAAAAAAAAAAAAAAAAAAAAAAAAAAAAACamZmZmZm5P5qZmZmZmbk/ZmZmZmZmEkBmZmZmZmYSQM3MzMzMTDZAzczMzMxMNkBmZmZmZuZIQGZmZmZm5khAzczMzMxMVUDNzMzMzExVQDMzMzMzI2BAMzMzMzMjYEAAAAAAABBmQAAAAAAAEGZAzczMzMy8bEDNzMzMzLxsQM3MzMzM9HFAzczMzMz0cUAAAAAAAIB1QAAAAAAAgHVAMzMzMzMDeUAzMzMzMwN5QM3MzMzMXHxAzczMzMxcfEBmZmZmZvZ8QGZmZmZm9nxAzczMzMycfUDNzMzMzJx9QM3MzMzMPH9AzczMzMw8f0CamZmZmUmAQJqZmZmZSYBAAAAAAADEgEAAAAAAAMSAQJqZmZmZ2YBAmpmZmZnZgEAAAAAAALyAQAAAAAAAvIBAzczMzMywgEDNzMzMzLCAQJqZmZmZZYBAmpmZmZllgEBmZmZmZpaAQGZmZmZmloBAzczMzMyggUDNzMzMzKCBQM3MzMzMMIJAzczMzMwwgkDNzMzMzDCCQM3MzMzMMIJAMzMzMzNfgkAzMzMzM1+CQDMzMzMzs4JAMzMzMzOzgkBmZmZmZiqDQGZmZmZmKoNAzczMzMyog0DNzMzMzKiDQDMzMzMzQ4RAMzMzMzNDhECamZmZmQGFQJqZmZmZAYVAAAAAAAAohUAAAAAAACiFQM3MzMzMDIVAzczMzMwMhUCamZmZmYGFQJqZmZmZgYVAMzMzMzPXhUAzMzMzM9eFQGZmZmZmvoVAZmZmZma+hUAAAAAAAFyFQAAAAAAAXIVAmpmZmZlBhUCamZmZmUGFQAAAAAAAcIVAAAAAAABwhUAAAAAAAIiFQAAAAAAAiIVAMzMzMzNHhEAzMzMzM0eEQAAAAAAAKIJAAAAAAAAogkAzMzMzM2eAQDMzMzMzZ4BAmpmZmZlxfECamZmZmXF8QGZmZmZm9ndAZmZmZmb2d0AzMzMzM7tzQDMzMzMzu3NAmpmZmZnZb0CamZmZmdlvQJqZmZmZaWdAmpmZmZlpZ0AAAAAAAABcQAAAAAAAAFxAMzMzMzMzQUAzMzMzMzNBQGZmZmZmZg5AZmZmZmZmDkCamZmZmZkFQJqZmZmZmQVAmpmZmZmZ+T+amZmZmZn5P83MzMzMzOw/zczMzMzM7D8AAAAAAADgPwAAAAAAAOA/mpmZmZmZyT+amZmZmZnJP2ZmZmZmZuY/ZmZmZmZm5j/NzMzMzMwAQM3MzMzMzABAMzMzMzMzIkAzMzMzMzMiQAAAAAAAADxAAAAAAAAAPECamZmZmZlNQJqZmZmZmU1AAAAAAACgV0AAAAAAAKBXQJqZmZmZCWNAmpmZmZkJY0CamZmZmblqQJqZmZmZuWpAmpmZmZkRcUCamZmZmRFxQJqZmZmZAXNAmpmZmZkBc0DNzMzMzJx1QM3MzMzMnHVAAAAAAAC4eUAAAAAAALh5QM3MzMzMzH1AzczMzMzMfUDNzMzMzHiAQM3MzMzMeIBAAAAAAACwgEAAAAAAALCAQGZmZmZmaoBAZmZmZmZqgECamZmZmRWAQJqZmZmZFYBAmpmZmZkFgUCamZmZmQWBQM3MzMzMKIJAzczMzMwogkBmZmZmZjqEQGZmZmZmOoRAmpmZmZnRhUCamZmZmdGFQJqZmZmZcYZAmpmZmZlxhkCamZmZmSWGQJqZmZmZJYZAMzMzMzPbhUAzMzMzM9uFQGZmZmZmQodAZmZmZmZCh0CamZmZmZmHQJqZmZmZmYdAMzMzMzOHh0AzMzMzM4eHQJqZmZmZ0YZAmpmZmZnRhkAzMzMzM0OGQDMzMzMzQ4ZAzczMzMyghUDNzMzMzKCFQDMzMzMzG4VAMzMzMzMbhUAAAAAAAEiFQAAAAAAASIVAzczMzMxUhkDNzMzMzFSGQM3MzMzMqIVAzczMzMyohUDNzMzMzKiFQM3MzMzMqIVAmpmZmZm5h0CamZmZmbmHQDMzMzMz+4dAMzMzMzP7h0AzMzMzM0eIQDMzMzMzR4hAmpmZmZndiECamZmZmd2IQGZmZmZmLolAZmZmZmYuiUDNzMzMzNyIQM3MzMzM3IhAzczMzMyoiEDNzMzMzKiIQAAAAAAA2IhAAAAAAADYiEAzMzMzM2+IQDMzMzMzb4hAZmZmZmbWhkBmZmZmZtaGQM3MzMzMPIRAzczMzMw8hEDNzMzMzDyEQM3MzMzMPIRAmpmZmZm5fkCamZmZmbl+QAAAAAAAyHhAAAAAAADIeEAAAAAAAMh4QAAAAAAAyHhAAAAAAABwbEAAAAAAAHBsQGZmZmZm9mFAZmZmZmb2YUAzMzMzM/NRQDMzMzMz81FAZmZmZmZmN0BmZmZmZmY3QJqZmZmZmS9AmpmZmZmZL0BmZmZmZmYiQGZmZmZmZiJAZmZmZmZmDkBmZmZmZmYOQDMzMzMzMwdAMzMzMzMzB0BmZmZmZmY0QGZmZmZmZjRAMzMzMzMzUEAzMzMzMzNQQGZmZmZmxl9AZmZmZmbGX0AzMzMzM3NpQDMzMzMzc2lAMzMzMzMzckAzMzMzMzNyQGZmZmZm/ndAZmZmZmb+d0DNzMzMzIR9QM3MzMzMhH1AMzMzMzNPgkAzMzMzM0+CQDMzMzMzx4VAMzMzMzPHhUCamZmZmR2JQJqZmZmZHYlAMzMzMzODi0AzMzMzM4OLQM3MzMzMRI1AzczMzMxEjUBmZmZmZj6OQGZmZmZmPo5AzczMzMwAj0DNzMzMzACPQDMzMzMzc49AMzMzMzNzj0CamZmZmaWPQJqZmZmZpY9AmpmZmZkFkECamZmZmQWQQDMzMzMzu49AMzMzMzO7j0AAAAAAAESPQAAAAAAARI9AzczMzMzAjkDNzMzMzMCOQGZmZmZmgo5AZmZmZmaCjkBmZmZmZoaOQGZmZmZmho5AmpmZmZl9jkCamZmZmX2OQJqZmZmZMY5AmpmZmZkxjkAAAAAAALiNQAAAAAAAuI1AMzMzMzN7jUAzMzMzM3uNQAAAAAAAHI1AAAAAAAAcjUDNzMzMzLiMQM3MzMzMuIxAzczMzMy4jEDNzMzMzLiMQDMzMzMzv4lAMzMzMzO/iUAzMzMzM9eIQDMzMzMz14hAzczMzMzAhkDNzMzMzMCGQJqZmZmZNYZAmpmZmZk1hkAzMzMzMwOFQDMzMzMzA4VAZmZmZmY2hUBmZmZmZjaFQGZmZmZm6oRAZmZmZmbqhECamZmZmSmFQJqZmZmZKYVAZmZmZmYKhkBmZmZmZgqGQAAAAAAAQIZAAAAAAABAhkBmZmZmZsqHQGZmZmZmyodAAAAAAAAgiUAAAAAAACCJQDMzMzMzN4tAMzMzMzM3i0DNzMzMzOiLQM3MzMzM6ItAAAAAAADcjEAAAAAAANyMQDMzMzMzO41AMzMzMzM7jUCamZmZmaGMQJqZmZmZoYxAMzMzMzODjEAzMzMzM4OMQAAAAAAAvItAAAAAAAC8i0AAAAAAAOCNQAAAAAAA4I1AmpmZmZktjECamZmZmS2MQM3MzMzMLIxAzczMzMwsjEBmZmZmZsaLQGZmZmZmxotAZmZmZmZCikBmZmZmZkKKQDMzMzMzj4hAMzMzMzOPiEBmZmZmZkqFQGZmZmZmSoVAZmZmZmZqg0BmZmZmZmqDQJqZmZmZwYBAmpmZmZnBgECamZmZmZl8QJqZmZmZmXxAmpmZmZn5dkCamZmZmfl2QDMzMzMze3ZAMzMzMzN7dkBmZmZmZhZ0QGZmZmZmFnRAMzMzMzPDckAzMzMzM8NyQGZmZmZmLnJAZmZmZmYuckDNzMzMzGR2QM3MzMzMZHZAAAAAAACofEAAAAAAAKh8QGZmZmZmjoBAZmZmZmaOgEBmZmZmZg6CQGZmZmZmDoJAAAAAAACohEAAAAAAAKiEQAAAAAAAMIdAAAAAAAAwh0BmZmZmZnaIQGZmZmZmdohAZmZmZmZqiUBmZmZmZmqJQGZmZmZmdopAZmZmZmZ2ikAzMzMzM6uMQDMzMzMzq4xAAAAAAACojEAAAAAAAKiMQGZmZmZmboxAZmZmZmZujEBmZmZmZoaNQGZmZmZmho1AZmZmZmZOjkBmZmZmZk6OQJqZmZmZdY1AmpmZmZl1jUDNzMzMzCSMQM3MzMzMJIxAAAAAAABgi0AAAAAAAGCLQGZmZmZmAotAZmZmZmYCi0AzMzMzMwOMQDMzMzMzA4xAAAAAAACIi0AAAAAAAIiLQM3MzMzM7ItAzczMzMzsi0BmZmZmZn6MQGZmZmZmfoxAMzMzMzMbi0AzMzMzMxuLQAAAAAAAKItAAAAAAAAoi0BmZmZmZgqMQGZmZmZmCoxAAAAAAAC4jUAAAAAAALiNQAAAAAAAuI1AAAAAAAC4jUDNzMzMzECOQM3MzMzMQI5AZmZmZmaSjUBmZmZmZpKNQJqZmZmZqYtAmpmZmZmpi0AzMzMzM2+LQDMzMzMzb4tAmpmZmZkRi0CamZmZmRGLQJqZmZmZsYtAmpmZmZmxi0CamZmZmZ2MQJqZmZmZnYxA",
          "dtype": "f8"
         },
         "yaxis": "y"
        },
        {
         "hovertemplate": "test=VertexAIMaaS - gemini-2.5-flash-lite-preview-06-17<br>User Count=%{x}<br>Failures/s=%{y}<extra></extra>",
         "legendgroup": "VertexAIMaaS - gemini-2.5-flash-lite-preview-06-17",
         "marker": {
          "color": "#ab63fa",
          "symbol": "circle"
         },
         "mode": "markers",
         "name": "VertexAIMaaS - gemini-2.5-flash-lite-preview-06-17",
         "showlegend": true,
         "type": "scattergl",
         "x": {
          "bdata": "AAABAAIAAgADAAMABAAEAAUABQAGAAYABwAHAAgACAAJAAkACgAKAAsACwAMAAwADQANAA4ADgAPAA8AEAAQABEAEQASABIAEwATABQAFAAVABUAFgAWABcAFwAYABgAGQAZABoAGgAbABsAHAAcAB0AHQAeAB4AHwAfACAAIAAhACEAIgAiACMAIwAkACQAJQAlACYAJgAnACcAKAAoACkAKQAqACoAKwArACwALAAtAC0ALgAuAC8ALwAwADAAMQAxADIAMgAzADMANAA0ADUANQA2ADYANwA3ADgAOAA5ADkAOgA6ADsAOwA8ADwAPQA9AD4APgA/AD8AQABAAEEAQQBCAEIAQwBDAEQARABFAEUARgBGAEcARwBIAEgASQBJAEoASgBLAEsATABMAE0ATQBOAE4ATwBPAFAAUABRAFEAUgBSAFMAUwBUAFQAVQBVAFYAVgBXAFcAWABYAFkAWQBaAFoAWwBbAFwAXABdAF0AXgBeAF8AXwBgAGAAYQBhAGIAYgBjAGMAZABkAGUAZQBmAGYAZwBnAGgAaABpAGkAagBqAGsAawBsAGwAbQBtAG4AbgBvAG8AcABwAHEAcQByAHIAcwBzAHQAdAB1AHUAdgB2AHcAdwB4AHgAeQB5AHoAegB7AHsAfAB8AH0AfQB+AH4AfwB/AIAAgACBAIEAggCCAIMAgwCEAIQAhQCFAIYAhgCHAIcAiACIAIkAiQCKAIoAiwCLAIwAjACNAI0AjgCOAI8AjwCQAJAAkQCRAJIAkgCTAJMAlACUAJUAlQCWAJYAlwCXAJgAmACZAJkAmgCaAJsAmwCcAJwAnQCdAJ4AngCfAJ8AoACgAKEAoQCiAKIAowCjAKQApAClAKUApgCmAKcApwCoAKgAqQCpAKoAqgCrAKsArACsAK0ArQCuAK4ArwCvALAAsACxALEAsgCyALMAswC0ALQAtQC1ALYAtgC3ALcAuAC4ALkAuQC6ALoAuwC7ALwAvAC9AL0AvgC+AL8AvwDAAMAAwQDBAMIAwgDDAMMAxADEAMUAxQDGAMYAxwDHAMgAyADJAMkAygDKAMsAywDMAMwAzQDNAM4AzgDPAM8A0ADQANEA0QDSANIA0wDTANQA1ADVANUA1gDWANcA1wDYANgA2QDZANoA2gDbANsA3ADcAN0A3QDeAN4A3wDfAOAA4ADhAOEA4gDiAOMA4wDkAOQA5QDlAOYA5gDnAOcA6ADoAOkA6QDqAOoA6wDrAOwA7ADtAO0A7gDuAO8A7wDwAPAA8QDxAPIA8gDzAPMA9AD0APUA9QD2APYA9wD3APgA+AD5APkA+gD6APoA+gD6APoA+gD6APoA+gD6APoA+gD6APoA+gD6APoA+gD6APoA+gD6APoA+gD6APoA+gD6APoA+gD6APoA+gD6APoA+gD6APoA+gD6APoA+gD6APoA+gD6APoA+gD6APoA+gD6APoA+gD6APoA+gD6APoA+gD6APoA+gD6APoA+gD6APoA+gD6APoA+gD6APoA+gD6APoA+gD6APoA+gD6APoA+gD6APoA+gD6APoA+gD6AA==",
          "dtype": "i2"
         },
         "xaxis": "x",
         "y": {
          "bdata": "AAAAAAAAAAAAAAAAAAAAAAAAAAAAAAAAAAAAAAAAAAAAAAAAAAAAAAAAAAAAAAAAAAAAAAAAAAAAAAAAAAAAAAAAAAAAAAAAAAAAAAAAAAAAAAAAAAAAAAAAAAAAAAAAAAAAAAAAAAAAAAAAAAAAAAAAAAAAAAAAAAAAAAAAAAAAAAAAAAAAAAAAAAAAAAAAAAAAAAAAAAAAAAAAAAAAAAAAAAAAAAAAAAAAAAAAAAAAAAAAAAAAAAAAAAAAAAAAAAAAAAAAAAAAAAAAAAAAAAAAAAAAAAAAAAAAAAAAAAAAAAAAAAAAAAAAAAAAAAAAAAAAAAAAAAAAAAAAAAAAAAAAAAAAAAAAAAAAAAAAAAAAAAAAAAAAAAAAAAAAAAAAAAAAAAAAAAAAAAAAAAAAAAAAAAAAAAAAAAAAAAAAAAAAAAAAAAAAAAAAAAAAAAAAAAAAAAAAAAAAAAAAAAAAAAAAAAAAAAAAAAAAAAAAAAAAAAAAAAAAAAAAAAAAAAAAAAAAAAAAAAAAAAAAAAAAAAAAAAAAAAAAAAAAAAAAAAAAAAAAAAAAAAAAAAAAAAAAAAAAAAAAAAAAAAAAAAAAAAAAAAAAAAAAAAAAAAAAAAAAAAAAAAAAAAAAAAAAAAAAAAAAAAAAAAAAAAAAAAAAAAAAAAAAAAhAAAAAAAAACEAzMzMzMzMsQDMzMzMzMyxAAAAAAACAP0AAAAAAAIA/QGZmZmZmpkZAZmZmZmamRkDNzMzMzCxQQM3MzMzMLFBAmpmZmZlZVUCamZmZmVlVQJqZmZmZWVtAmpmZmZlZW0DNzMzMzJxgQM3MzMzMnGBAMzMzMzPDY0AzMzMzM8NjQJqZmZmZCWdAmpmZmZkJZ0AzMzMzM7NpQDMzMzMzs2lAMzMzMzODa0AzMzMzM4NrQDMzMzMzo2xAMzMzMzOjbEAzMzMzM4NuQDMzMzMzg25AzczMzMyMb0DNzMzMzIxvQGZmZmZmRnBAZmZmZmZGcECamZmZmZFwQJqZmZmZkXBAZmZmZmb+cEBmZmZmZv5wQJqZmZmZcXFAmpmZmZlxcUDNzMzMzLRxQM3MzMzMtHFAAAAAAABIckAAAAAAAEhyQM3MzMzM1HJAzczMzMzUckBmZmZmZlZzQGZmZmZmVnNAAAAAAACYc0AAAAAAAJhzQDMzMzMzC3RAMzMzMzMLdEDNzMzMzGx0QM3MzMzMbHRAzczMzMy0dEDNzMzMzLR0QGZmZmZm5nRAZmZmZmbmdEAAAAAAAAB1QAAAAAAAAHVAMzMzMzNTdUAzMzMzM1N1QAAAAAAAiHRAAAAAAACIdEDNzMzMzKx0QM3MzMzMrHRAZmZmZmYWdUBmZmZmZhZ1QDMzMzMzK3VAMzMzMzMrdUCamZmZmWFzQJqZmZmZYXNAMzMzMzO7cUAzMzMzM7txQJqZmZmZUXBAmpmZmZlRcEDNzMzMzMxsQM3MzMzMzGxAzczMzMysaEDNzMzMzKxoQAAAAAAAQGRAAAAAAABAZEBmZmZmZqZhQGZmZmZmpmFAAAAAAAAgWkAAAAAAACBaQDMzMzMzs09AMzMzMzOzT0AzMzMzMzM9QDMzMzMzMz1AZmZmZmbmNkBmZmZmZuY2QM3MzMzMzC5AzczMzMzMLkAAAAAAAAAqQAAAAAAAACpAzczMzMzMQkDNzMzMzMxCQM3MzMzMTFNAzczMzMxMU0DNzMzMzIxfQM3MzMzMjF9AZmZmZmbGZUBmZmZmZsZlQJqZmZmZWWtAmpmZmZlZa0DNzMzMzLxwQM3MzMzMvHBAZmZmZmb+c0BmZmZmZv5zQJqZmZmZYXZAmpmZmZlhdkCamZmZmWF2QJqZmZmZYXZAzczMzMwse0DNzMzMzCx7QAAAAAAAaHxAAAAAAABofECamZmZmWl6QJqZmZmZaXpAmpmZmZkZeUCamZmZmRl5QJqZmZmZ6XhAmpmZmZnpeEDNzMzMzIR5QM3MzMzMhHlAAAAAAAD4eUAAAAAAAPh5QM3MzMzMpHlAzczMzMykeUBmZmZmZu56QGZmZmZm7npAAAAAAAAwfEAAAAAAADB8QM3MzMzMTHpAzczMzMxMekAAAAAAAFh5QAAAAAAAWHlAAAAAAABQfEAAAAAAAFB8QJqZmZmZGX5AmpmZmZkZfkAAAAAAAAB/QAAAAAAAAH9AzczMzMw0f0DNzMzMzDR/QAAAAAAA4H1AAAAAAADgfUAzMzMzM2t+QDMzMzMza35AmpmZmZmhe0CamZmZmaF7QJqZmZmZ0XtAmpmZmZnRe0AzMzMzM+t9QDMzMzMz631AzczMzMxcf0DNzMzMzFx/QM3MzMzMdH9AzczMzMx0f0AAAAAAALh+QAAAAAAAuH5AZmZmZmaWfkBmZmZmZpZ+QGZmZmZmJn5AZmZmZmYmfkCamZmZmdF/QJqZmZmZ0X9AAAAAAAAwgEAAAAAAADCAQJqZmZmZwYFAmpmZmZnBgUAzMzMzM1OCQDMzMzMzU4JAzczMzMzEgUDNzMzMzMSBQGZmZmZmQoFAZmZmZmZCgUAzMzMzMzOAQDMzMzMzM4BAAAAAAAAsgEAAAAAAACyAQDMzMzMzA39AMzMzMzMDf0AzMzMzM0OAQDMzMzMzQ4BAmpmZmZmRgECamZmZmZGAQDMzMzMzX4BAMzMzMzNfgEAAAAAAAFB/QAAAAAAAUH9AMzMzMzNTe0AzMzMzM1N7QJqZmZmZiXlAmpmZmZmJeUCamZmZmWF3QJqZmZmZYXdAAAAAAAAQdkAAAAAAABB2QGZmZmZmTnNAZmZmZmZOc0DNzMzMzDRxQM3MzMzMNHFAmpmZmZmZakCamZmZmZlqQDMzMzMzI2ZAMzMzMzMjZkDNzMzMzLxmQM3MzMzMvGZAzczMzMy8ZkDNzMzMzLxmQJqZmZmZwXJAmpmZmZnBckBmZmZmZkZ0QGZmZmZmRnRAZmZmZmYGdEBmZmZmZgZ0QGZmZmZmPnZAZmZmZmY+dkDNzMzMzLx7QM3MzMzMvHtAZmZmZmbOfkBmZmZmZs5+QJqZmZmZnYBAmpmZmZmdgEAAAAAAAPCBQAAAAAAA8IFAAAAAAADQgUAAAAAAANCBQAAAAAAATIFAAAAAAABMgUCamZmZmS2AQJqZmZmZLYBAAAAAAABQgUAAAAAAAFCBQJqZmZmZ5YFAmpmZmZnlgUDNzMzMzCiCQM3MzMzMKIJAAAAAAAC4gUAAAAAAALiBQM3MzMzMeIJAzczMzMx4gkBmZmZmZnqDQGZmZmZmeoNAMzMzMzN7g0AzMzMzM3uDQJqZmZmZpYNAmpmZmZmlg0DNzMzMzDSEQM3MzMzMNIRAMzMzMzNHhUAzMzMzM0eFQDMzMzMzF4dAMzMzMzMXh0BmZmZmZoKIQGZmZmZmgohAZmZmZmYaiUBmZmZmZhqJQM3MzMzMtIlAzczMzMy0iUDNzMzMzLSJQM3MzMzMtIlAzczMzMzkiUDNzMzMzOSJQAAAAAAAMIpAAAAAAAAwikCamZmZmaGKQJqZmZmZoYpAzczMzMzkh0DNzMzMzOSHQJqZmZmZ7YZAmpmZmZnthkCamZmZme2GQJqZmZmZ7YZAmpmZmZm9hkCamZmZmb2GQGZmZmZmgoZAZmZmZmaChkAAAAAAAASFQAAAAAAABIVAAAAAAACwg0AAAAAAALCDQAAAAAAAlINAAAAAAACUg0AzMzMzM/ODQDMzMzMz84NAmpmZmZnthUCamZmZme2FQAAAAAAA3IdAAAAAAADch0AAAAAAAECKQAAAAAAAQIpAZmZmZmaCiUBmZmZmZoKJQDMzMzMzY4pAMzMzMzNjikAAAAAAAIyLQAAAAAAAjItAMzMzMzMPjUAzMzMzMw+NQJqZmZmZNY9AmpmZmZk1j0AAAAAAAOSPQAAAAAAA5I9AMzMzMzMPkEAzMzMzMw+QQM3MzMzM6I1AzczMzMzojUDNzMzMzPiKQM3MzMzM+IpAMzMzMzPPh0AzMzMzM8+HQDMzMzMza4ZAMzMzMzNrhkCamZmZmf2CQJqZmZmZ/YJAzczMzMx0f0DNzMzMzHR/QDMzMzMzA31AMzMzMzMDfUAzMzMzM8t4QDMzMzMzy3hAZmZmZmZ+dkBmZmZmZn52QGZmZmZmLnNAZmZmZmYuc0BmZmZmZvZ2QGZmZmZm9nZAzczMzMz8e0DNzMzMzPx7QM3MzMzM9H9AzczMzMz0f0DNzMzMzPiBQM3MzMzM+IFAZmZmZmY6g0BmZmZmZjqDQGZmZmZmpoVAZmZmZmamhUDNzMzMzCCGQM3MzMzMIIZAzczMzMyEh0DNzMzMzISHQM3MzMzMhIdAzczMzMyEh0BmZmZmZjqJQGZmZmZmOolAZmZmZmauiEBmZmZmZq6IQGZmZmZm/oZAZmZmZmb+hkBmZmZmZv6GQGZmZmZm/oZAZmZmZmb+hkBmZmZmZv6GQJqZmZmZfYdAmpmZmZl9h0CamZmZmY2FQJqZmZmZjYVAmpmZmZmNhUCamZmZmY2FQJqZmZmZWYRAmpmZmZlZhEBmZmZmZnaDQGZmZmZmdoNAMzMzMzN7gkAzMzMzM3uCQDMzMzMz24FAMzMzMzPbgUAzMzMzM6eDQDMzMzMzp4NAZmZmZmYKg0BmZmZmZgqDQGZmZmZmhoNAZmZmZmaGg0CamZmZme2DQJqZmZmZ7YNAmpmZmZntg0CamZmZme2DQAAAAAAALIdAAAAAAAAsh0DNzMzMzGCIQM3MzMzMYIhAzczMzMxUh0DNzMzMzFSHQJqZmZmZQYlAmpmZmZlBiUAzMzMzM++KQDMzMzMz74pAAAAAAADMikAAAAAAAMyKQDMzMzMzl4tAMzMzMzOXi0CamZmZmcGLQJqZmZmZwYtAmpmZmZnpi0CamZmZmemLQDMzMzMzk4xAMzMzMzOTjEBmZmZmZnqNQGZmZmZmeo1AAAAAAADojkAAAAAAAOiOQJqZmZmZv5BAmpmZmZm/kEBmZmZmZsqQQGZmZmZmypBAZmZmZmbqkEBmZmZmZuqQQDMzMzMzS5FAMzMzMzNLkUBmZmZmZpyRQGZmZmZmnJFAMzMzMzN5kEAzMzMzM3mQQDMzMzMzeZBAMzMzMzN5kEBmZmZmZhKOQGZmZmZmEo5AMzMzMzMTjEAzMzMzMxOMQDMzMzMzf4lAMzMzMzN/iUBmZmZmZhqHQGZmZmZmGodAmpmZmZmdhkCamZmZmZ2GQAAAAAAA9INAAAAAAAD0g0BmZmZmZjaBQGZmZmZmNoFAzczMzMykfEDNzMzMzKR8QDMzMzMzE3xAMzMzMzMTfEDNzMzMzEx4QM3MzMzMTHhAmpmZmZnxdUCamZmZmfF1QJqZmZmZ8XVAmpmZmZnxdUCamZmZmUF1QJqZmZmZQXVAAAAAAACQeUAAAAAAAJB5QM3MzMzMvHZAzczMzMy8dkCamZmZmaF7QJqZmZmZoXtAMzMzMzObgEAzMzMzM5uAQAAAAAAApINAAAAAAACkg0AzMzMzMzOGQDMzMzMzM4ZAAAAAAAA4iUAAAAAAADiJQGZmZmZmqolAZmZmZmaqiUAzMzMzMyOMQDMzMzMzI4xAzczMzMzsjEDNzMzMzOyMQDMzMzMzp4xAMzMzMzOnjECamZmZmYWOQJqZmZmZhY5AZmZmZmbCjUBmZmZmZsKNQAAAAAAAdI1AAAAAAAB0jUBmZmZmZgqNQGZmZmZmCo1AZmZmZmbii0BmZmZmZuKLQDMzMzMz74tAMzMzMzPvi0CamZmZmTmOQJqZmZmZOY5AZmZmZmZKjkBmZmZmZkqOQDMzMzMzT45AMzMzMzNPjkCamZmZmWmOQJqZmZmZaY5AmpmZmZmRjUCamZmZmZGNQJqZmZmZwY1AmpmZmZnBjUAAAAAAAKSLQAAAAAAApItAmpmZmZlZi0CamZmZmVmLQGZmZmZmpoxAZmZmZmamjEDNzMzMzNiMQM3MzMzM2IxAAAAAAAAIjUAAAAAAAAiNQDMzMzMzE41AMzMzMzMTjUAzMzMzMxONQDMzMzMzE41AZmZmZmYijEBmZmZmZiKMQAAAAAAAqIxAAAAAAACojEAzMzMzM/+NQDMzMzMz/41AMzMzMzP/jUAzMzMzM/+NQDMzMzMz/41AMzMzMzP/jUAAAAAAAKSLQAAAAAAApItAAAAAAABYiEAAAAAAAFiIQGZmZmZmwoVAZmZmZmbChUAAAAAAAGSGQAAAAAAAZIZAMzMzMzPPhkAzMzMzM8+GQJqZmZmZGYZAmpmZmZkZhkBmZmZmZhqFQGZmZmZmGoVAMzMzMzM3hkAzMzMzMzeGQA==",
          "dtype": "f8"
         },
         "yaxis": "y"
        },
        {
         "hovertemplate": "test=VertexAIMaaS - gemini-2.5-flash<br>User Count=%{x}<br>Failures/s=%{y}<extra></extra>",
         "legendgroup": "VertexAIMaaS - gemini-2.5-flash",
         "marker": {
          "color": "#FFA15A",
          "symbol": "circle"
         },
         "mode": "markers",
         "name": "VertexAIMaaS - gemini-2.5-flash",
         "showlegend": true,
         "type": "scattergl",
         "x": {
          "bdata": "AAABAAIAAgADAAMABAAEAAUABQAGAAYABwAHAAgACAAJAAkACgAKAAsACwAMAAwADQANAA4ADgAPAA8AEAAQABEAEQASABIAEwATABQAFAAVABUAFgAWABcAFwAYABgAGQAZABoAGgAbABsAHAAcAB0AHQAeAB4AHwAfACAAIAAhACEAIgAiACMAIwAkACQAJQAlACYAJgAnACcAKAAoACkAKQAqACoAKwArACwALAAtAC0ALgAuAC8ALwAwADAAMQAxADIAMgAzADMANAA0ADUANQA2ADYANwA3ADgAOAA5ADkAOgA6ADsAOwA8ADwAPQA9AD4APgA/AD8AQABAAEEAQQBCAEIAQwBDAEQARABFAEUARgBGAEcARwBIAEgASQBJAEoASgBLAEsATABMAE0ATQBOAE4ATwBPAFAAUABRAFEAUgBSAFMAUwBUAFQAVQBVAFYAVgBXAFcAWABYAFkAWQBaAFoAWwBbAFwAXABdAF0AXgBeAF8AXwBgAGAAYQBhAGIAYgBjAGMAZABkAGUAZQBmAGYAZwBnAGgAaABpAGkAagBqAGsAawBsAGwAbQBtAG4AbgBvAG8AcABwAHEAcQByAHIAcwBzAHQAdAB1AHUAdgB2AHcAdwB4AHgAeQB5AHoAegB7AHsAfAB8AH0AfQB+AH4AfwB/AIAAgACBAIEAggCCAIMAgwCEAIQAhQCFAIYAhgCHAIcAiACIAIkAiQCKAIoAiwCLAIwAjACNAI0AjgCOAI8AjwCQAJAAkQCRAJIAkgCTAJMAlACUAJUAlQCWAJYAlwCXAJgAmACZAJkAmgCaAJsAmwCcAJwAnQCdAJ4AngCfAJ8AoACgAKEAoQCiAKIAowCjAKQApAClAKUApgCmAKcApwCoAKgAqQCpAKoAqgCrAKsArACsAK0ArQCuAK4ArwCvALAAsACxALEAsgCyALMAswC0ALQAtQC1ALYAtgC3ALcAuAC4ALkAuQC6ALoAuwC7ALwAvAC9AL0AvgC+AL8AvwDAAMAAwQDBAMIAwgDDAMMAxADEAMUAxQDGAMYAxwDHAMgAyADJAMkAygDKAMsAywDMAMwAzQDNAM4AzgDPAM8A0ADQANEA0QDSANIA0wDTANQA1ADVANUA1gDWANcA1wDYANgA2QDZANoA2gDbANsA3ADcAN0A3QDeAN4A3wDfAOAA4ADhAOEA4gDiAOMA4wDkAOQA5QDlAOYA5gDnAOcA6ADoAOkA6QDqAOoA6wDrAOwA7ADtAO0A7gDuAO8A7wDwAPAA8QDxAPIA8gDzAPMA9AD0APUA9QD2APYA9wD3APgA+AD5APkA+gD6APoA+gD6APoA+gD6APoA+gD6APoA+gD6APoA+gD6APoA+gD6APoA+gA=",
          "dtype": "i2"
         },
         "xaxis": "x",
         "y": {
          "bdata": "AAAAAAAAAAAAAAAAAAAAAAAAAAAAAAAAAAAAAAAAAAAAAAAAAAAAAAAAAAAAAAAAAAAAAAAAAAAAAAAAAAAAAAAAAAAAAAAAAAAAAAAAAAAAAAAAAAAAAAAAAAAAAAAAAAAAAAAAAAAAAAAAAAAAAAAAAAAAAAAAAAAAAAAAAAAAAAAAAAAAAAAAAAAAAAAAAAAAAAAAAAAAAAAAAAAAAAAAAAAAAAAAAAAAAAAAAAAAAAAAAAAAAAAAAAAAAAAAAAAAAAAAAAAAAAAAAAAAAAAAAAAAAAAAAAAAAAAAAAAAAAAAAAAAAAAAAAAAAAAAAAAAAAAAAAAAAAAAAAAAAAAAAAAAAAAAAAAAAAAAAAAAAAAAAAAAAAAAAAAAAAAAAAAAAAAAAAAAAAAAAAAAAAAAAAAAAAAAAAAAAAAAAAAAAAAAAAAAAAAAAAAAAAAAAAAAAAAAAAAAAAAAAAAAAAAAAAAAAAAAAAAAAAAAAAAAAAAAAAAAAAAAAAAAAAAAAAAAAAAAAAAAAAAAAAAAAAAAAAAAAAAAAAAAAAAAAAAAAAAAAAAAAAAAAAAAAAAAAAAAAAAAAAAAAAAAAAAAAAAAAAAAAAAAAAAAAAAAAAAAAAAAAAAAAAAAAAAAAAAAAAAAAAAAAAAAAAAAAAAAAAAAAAAAAAAAAAAAAAAAAAAAAAAAAAAAAAAAAAAAAAAAAAAAAAAAAAAAAAAAAAAAAAAAAAAAAAAAAAAAAAAAAAAAAAAAAAAAAAAAAAAAAAAAAAAAAAAAAAAAAAAAAAAAAAAAAAAAAAAAAAAAAAAAAAAAAAAAAAAAAAAAAAAAAAAAAAAAAAAAAAAAAAAAAAAAAAAAAAAAAAAAAAAAAAAAAAAAAAAAAAAAAAAAAAAAAAAAAAAAAAAAAAAAAAAAAAAAAAAAAAAAAAAAAAAAAAAAAAAAAAAAAAAAAAAAAAAAAAAAAAAAAAAAAAAAAAAAAAAAAJqZmZmZmbk/mpmZmZmZuT8AAAAAAAAUQAAAAAAAABRAzczMzMzML0DNzMzMzMwvQM3MzMzMTEBAzczMzMxMQEBmZmZmZuZKQGZmZmZm5kpAmpmZmZn5U0CamZmZmflTQAAAAAAAIFtAAAAAAAAgW0BmZmZmZoZhQGZmZmZmhmFAZmZmZmaGZUBmZmZmZoZlQGZmZmZm5mlAZmZmZmbmaUBmZmZmZiZuQGZmZmZmJm5AAAAAAAAYcUAAAAAAABhxQDMzMzMzs3JAMzMzMzOzckDNzMzMzAx0QM3MzMzMDHRAmpmZmZk5dUCamZmZmTl1QGZmZmZm/nVAZmZmZmb+dUCamZmZmal2QJqZmZmZqXZAmpmZmZlBd0CamZmZmUF3QAAAAAAAwHdAAAAAAADAd0AAAAAAALB3QAAAAAAAsHdAzczMzMz0d0DNzMzMzPR3QJqZmZmZcXhAmpmZmZlxeEAzMzMzM9t4QDMzMzMz23hAAAAAAABYeUAAAAAAAFh5QDMzMzMzm3lAMzMzMzObeUDNzMzMzPx5QM3MzMzM/HlAzczMzMyMekDNzMzMzIx6QAAAAAAA8HpAAAAAAADwekBmZmZmZmZ7QGZmZmZmZntAZmZmZmYefEBmZmZmZh58QM3MzMzMNHxAzczMzMw0fEAzMzMzMzN7QDMzMzMzM3tAMzMzMzPjeUAzMzMzM+N5QAAAAAAAOHpAAAAAAAA4ekBmZmZmZp56QGZmZmZmnnpAAAAAAABgekAAAAAAAGB6QGZmZmZmpndAZmZmZmamd0AzMzMzM+t0QDMzMzMz63RAZmZmZmYuckBmZmZmZi5yQAAAAAAAQG9AAAAAAABAb0CamZmZmVlqQJqZmZmZWWpAmpmZmZnJZkCamZmZmclmQGZmZmZmBmRAZmZmZmYGZEBmZmZmZkZbQGZmZmZmRltAAAAAAABATUAAAAAAAEBNQGZmZmZm5jFAZmZmZmbmMUBmZmZmZmYqQGZmZmZmZipAAAAAAAAAI0AAAAAAAAAjQAAAAAAAABhAAAAAAAAAGEBmZmZmZmb2P2ZmZmZmZvY/zczMzMzM9D/NzMzMzMz0P83MzMzMzCBAzczMzMzMIEBmZmZmZuY6QGZmZmZm5jpAzczMzMzMS0DNzMzMzMxLQAAAAAAAgFdAAAAAAACAV0CamZmZmWlhQJqZmZmZaWFAmpmZmZm5Z0CamZmZmblnQGZmZmZmtm5AZmZmZma2bkAAAAAAAFhyQAAAAAAAWHJAmpmZmZmJdUCamZmZmYl1QJqZmZmZkXlAmpmZmZmReUAzMzMzM2t9QDMzMzMza31AZmZmZmZegEBmZmZmZl6AQGZmZmZm6oBAZmZmZmbqgEDNzMzMzOCAQM3MzMzM4IBAmpmZmZl9gECamZmZmX2AQAAAAAAA0IBAAAAAAADQgECamZmZmWWBQJqZmZmZZYFAmpmZmZktgkCamZmZmS2CQJqZmZmZ7YJAmpmZmZntgkDNzMzMzBSDQM3MzMzMFINAZmZmZmY+g0BmZmZmZj6DQGZmZmZmaoNAZmZmZmZqg0CamZmZmXGEQJqZmZmZcYRAmpmZmZlhhUCamZmZmWGFQDMzMzMzs4VAMzMzMzOzhUAzMzMzMw+GQDMzMzMzD4ZAmpmZmZkVhkCamZmZmRWGQM3MzMzMIIZAzczMzMwghkBmZmZmZlKGQGZmZmZmUoZAZmZmZmaGhkBmZmZmZoaGQGZmZmZmhoZAZmZmZmaGhkBmZmZmZoaGQGZmZmZmhoZAZmZmZmaGhkBmZmZmZoaGQJqZmZmZaYNAmpmZmZlpg0DNzMzMzBCCQM3MzMzMEIJAzczMzMycf0DNzMzMzJx/QM3MzMzM3HxAzczMzMzcfEAAAAAAAMB8QAAAAAAAwHxAzczMzMysfEDNzMzMzKx8QDMzMzMzA31AMzMzMzMDfUAAAAAAANh8QAAAAAAA2HxAmpmZmZmBfECamZmZmYF8QGZmZmZm5n5AZmZmZmbmfkBmZmZmZsKBQGZmZmZmwoFAzczMzMw0hEDNzMzMzDSEQGZmZmZm5oRAZmZmZmbmhEAAAAAAABCEQAAAAAAAEIRAzczMzMzggUDNzMzMzOCBQAAAAAAA+H5AAAAAAAD4fkBmZmZmZv55QGZmZmZm/nlAAAAAAABocEAAAAAAAGhwQAAAAAAAaHBAAAAAAABocEAzMzMzM5NcQDMzMzMzk1xAAAAAAAAAQkAAAAAAAABCQJqZmZmZmStAmpmZmZmZK0AzMzMzMzMqQDMzMzMzMypAZmZmZmZmPEBmZmZmZmY8QGZmZmZmpk1AZmZmZmamTUAAAAAAAKBYQAAAAAAAoFhAzczMzMyMYkDNzMzMzIxiQM3MzMzMLGpAzczMzMwsakDNzMzMzCxqQM3MzMzMLGpAzczMzMz8dUDNzMzMzPx1QM3MzMzM/HVAzczMzMz8dUDNzMzMzJR9QM3MzMzMlH1AAAAAAAAIgEAAAAAAAAiAQAAAAAAA2H9AAAAAAADYf0DNzMzMzPCAQM3MzMzM8IBAzczMzMz4gUDNzMzMzPiBQM3MzMzM+IFAzczMzMz4gUAzMzMzM0+DQDMzMzMzT4NAMzMzMzNPg0AzMzMzM0+DQJqZmZmZZYJAmpmZmZllgkAzMzMzM3eCQDMzMzMzd4JAAAAAAAAogkAAAAAAACiCQDMzMzMzp4NAMzMzMzOng0AAAAAAAKyFQAAAAAAArIVAzczMzMyEhkDNzMzMzISGQM3MzMzMoIZAzczMzMyghkAAAAAAADSHQAAAAAAANIdAmpmZmZk1h0CamZmZmTWHQDMzMzMzK4dAMzMzMzMrh0DNzMzMzAiGQM3MzMzMCIZAMzMzMzNbhkAzMzMzM1uGQDMzMzMz54ZAMzMzMzPnhkDNzMzMzJyFQM3MzMzMnIVAZmZmZmYehUBmZmZmZh6FQAAAAAAAnIRAAAAAAACchEDNzMzMzCiFQM3MzMzMKIVAZmZmZmbWg0BmZmZmZtaDQDMzMzMz14NAMzMzMzPXg0BmZmZmZlKEQGZmZmZmUoRAAAAAAABUhkAAAAAAAFSGQM3MzMzMsIZAzczMzMywhkCamZmZmTWHQJqZmZmZNYdAMzMzMzMXiEAzMzMzMxeIQDMzMzMzF4hAMzMzMzMXiECamZmZmcGIQJqZmZmZwYhAMzMzMzN3hkAzMzMzM3eGQGZmZmZmgodAZmZmZmaCh0AAAAAAACCIQAAAAAAAIIhAMzMzMzOviEAzMzMzM6+IQDMzMzMz44hAMzMzMzPjiEAAAAAAAJiJQAAAAAAAmIlAZmZmZmZCiEBmZmZmZkKIQDMzMzMz+4ZAMzMzMzP7hkDNzMzMzCyFQM3MzMzMLIVAMzMzMzOXgkAzMzMzM5eCQJqZmZmZ7YFAmpmZmZntgUAzMzMzM8t+QDMzMzMzy35AZmZmZmZ2eEBmZmZmZnZ4QM3MzMzMjHJAzczMzMyMckBmZmZmZoZqQGZmZmZmhmpAAAAAAADAWkAAAAAAAMBaQM3MzMzM7FFAzczMzMzsUUAzMzMzM/NOQDMzMzMz805AmpmZmZm5VUCamZmZmblVQM3MzMzMDGJAzczMzMwMYkAAAAAAAFBrQAAAAAAAUGtAZmZmZmbWckBmZmZmZtZyQJqZmZmZKXhAmpmZmZkpeEAAAAAAAAB+QAAAAAAAAH5AMzMzMzMngUAzMzMzMyeBQDMzMzMza4JAMzMzMzNrgkCamZmZmemEQJqZmZmZ6YRAmpmZmZkth0CamZmZmS2HQM3MzMzM/IhAzczMzMz8iEAzMzMzMyuKQDMzMzMzK4pAmpmZmZkJi0CamZmZmQmLQM3MzMzMhIpAzczMzMyEikAAAAAAAOSKQAAAAAAA5IpAAAAAAAAki0AAAAAAACSLQAAAAAAAMIxAAAAAAAAwjEBmZmZmZsqLQGZmZmZmyotAZmZmZmY6ikBmZmZmZjqKQGZmZmZmOopAZmZmZmY6ikCamZmZmV2JQJqZmZmZXYlAzczMzMysh0DNzMzMzKyHQGZmZmZmKoVAZmZmZmYqhUBmZmZmZiqFQGZmZmZmKoVAAAAAAAD0hEAAAAAAAPSEQM3MzMzMKIRAzczMzMwohEAAAAAAALyBQAAAAAAAvIFAZmZmZmbyg0BmZmZmZvKDQDMzMzMzR4RAMzMzMzNHhEBmZmZmZtaDQGZmZmZm1oNAMzMzMzMbg0AzMzMzMxuDQGZmZmZm+oRAZmZmZmb6hEAzMzMzM1OGQDMzMzMzU4ZAMzMzMzPfhEAzMzMzM9+EQM3MzMzMuIRAzczMzMy4hEDNzMzMzByEQM3MzMzMHIRAzczMzMyshUDNzMzMzKyFQGZmZmZmxoNAZmZmZmbGg0DNzMzMzPiEQM3MzMzM+IRAZmZmZmbShEBmZmZmZtKEQAAAAAAAkIZAAAAAAACQhkAAAAAAALiHQAAAAAAAuIdAZmZmZmbSiEBmZmZmZtKIQGZmZmZmeodAZmZmZmZ6h0CamZmZmRGJQJqZmZmZEYlAmpmZmZnVikCamZmZmdWKQAAAAAAAAAAAAAAAAAAAAAA=",
          "dtype": "f8"
         },
         "yaxis": "y"
        },
        {
         "hovertemplate": "test=CloudRunOllama - gemma3:12b<br>User Count=%{x}<br>Failures/s=%{y}<extra></extra>",
         "legendgroup": "CloudRunOllama - gemma3:12b",
         "marker": {
          "color": "#19d3f3",
          "symbol": "circle"
         },
         "mode": "markers",
         "name": "CloudRunOllama - gemma3:12b",
         "showlegend": true,
         "type": "scattergl",
         "x": {
          "bdata": "AAABAAIAAgADAAMABAAEAAUABQAGAAYABwAHAAgACAAJAAkACgAKAAsACwAMAAwADQANAA4ADgAPAA8AEAAQABEAEQASABIAEwATABQAFAAVABUAFgAWABcAFwAYABgAGQAZABoAGgAbABsAHAAcAB0AHQAeAB4AHwAfACAAIAAhACEAIgAiACMAIwAkACQAJQAlACYAJgAnACcAKAAoACkAKQAqACoAKwArACwALAAtAC0ALgAuAC8ALwAwADAAMQAxADIAMgAzADMANAA0ADUANQA2ADYANwA3ADgAOAA5ADkAOgA6ADsAOwA8ADwAPQA9AD4APgA/AD8AQABAAEEAQQBCAEIAQwBDAEQARABFAEUARgBGAEcARwBIAEgASQBJAEoASgBLAEsATABMAE0ATQBOAE4ATwBPAFAAUABRAFEAUgBSAFMAUwBUAFQAVQBVAFYAVgBXAFcAWABYAFkAWQBaAFoAWwBbAFwAXABdAF0AXgBeAF8AXwBgAGAAYQBhAGIAYgBjAGMAZABkAGUAZQBmAGYAZwBnAGgAaABpAGkAagBqAGsAawBsAGwAbQBtAG4AbgBvAG8AcABwAHEAcQByAHIAcwBzAHQAdAB1AHUAdgB2AHcAdwB4AHgAeQB5AHoAegB7AHsAfAB8AH0AfQB+AH4AfwB/AIAAgACBAIEAggCCAIMAgwCEAIQAhQCFAIYAhgCHAIcAiACIAIkAiQCKAIoAiwCLAIwAjACNAI0AjgCOAI8AjwCQAJAAkQCRAJIAkgCTAJMAlACUAJUAlQCWAJYAlwCXAJgAmACZAJkAmgCaAJsAmwCcAJwAnQCdAJ4AngCfAJ8AoACgAKEAoQCiAKIAowCjAKQApAClAKUApgCmAKcApwCoAKgAqQCpAKoAqgCrAKsArACsAK0ArQCuAK4ArwCvALAAsACxALEAsgCyALMAswC0ALQAtQC1ALYAtgC3ALcAuAC4ALkAuQC6ALoAuwC7ALwAvAC9AL0AvgC+AL8AvwDAAMAAwQDBAMIAwgDDAMMAxADEAMUAxQDGAMYAxwDHAMgAyADJAMkAygDKAMsAywDMAMwAzQDNAM4AzgDPAM8A0ADQANEA0QDSANIA0wDTANQA1ADVANUA1gDWANcA1wDYANgA2QDZANoA2gDbANsA3ADcAN0A3QDeAN4A3wDfAOAA4ADhAOEA4gDiAOMA4wDkAOQA5QDlAOYA5gDnAOcA6ADoAOkA6QDqAOoA6wDrAOwA7ADtAO0A7gDuAO8A7wDwAPAA8QDxAPIA8gDzAPMA9AD0APUA9QD2APYA9wD3APgA+AD5APkA+gD6APoA+gD6APoA+gD6APoA+gD6APoA+gD6APoA+gD6APoA+gD6APoA+gD6APoA+gD6APoA+gD6APoA+gD6APoA+gD6APoA+gD6APoA+gD6APoA+gD6APoA+gD6APoA+gD6APoA+gD6APoA+gD6APoA+gD6APoA+gD6APoA+gD6APoA+gD6APoA+gD6APoA+gD6APoA+gD6APoA+gD6APoA+gD6APoA+gD6APoA+gD6APoA+gD6AA==",
          "dtype": "i2"
         },
         "xaxis": "x",
         "y": {
          "bdata": "AAAAAAAAAAAAAAAAAAAAAAAAAAAAAAAAAAAAAAAAAAAAAAAAAAAAAAAAAAAAAAAAAAAAAAAAAAAAAAAAAAAAAAAAAAAAAAAAAAAAAAAAAAAAAAAAAAAAAAAAAAAAAAAAAAAAAAAAAAAAAAAAAAAAAAAAAAAAAAAAAAAAAAAAAAAAAAAAAAAAAAAAAAAAAAAAAAAAAAAAAAAAAAAAAAAAAAAAAAAAAAAAAAAAAAAAAAAAAAAAAAAAAAAAAAAAAAAAAAAAAAAAAAAAAAAAAAAAAAAAAAAAAAAAAAAAAAAAAAAAAAAAAAAAAAAAAAAAAAAAAAAAAAAAAAAAAAAAAAAAAAAAAAAAAAAAAAAAAAAAAAAAAAAAAAAAAAAAAAAAAAAAAAAAAAAAAAAAAAAAAAAAAAAAAAAAAAAAAAAAAAAAAAAAAAAAAAAAAAAAAAAAAAAAAAAAAAAAAAAAAAAAAAAAAAAAAAAAAAAAAAAAAAAAAAAAAAAAAAAAAAAAAAAAAAAAAAAAAAAAAAAAAAAAAAAAAAAAAAAAAAAAAAAAAAAAAAAAAAAAAAAAAAAAAAAAAAAAAAAAAAAAAAAAAAAAAAAAAAAAAAAAAAAAAAAAAAAAAAAAAAAAAAAAAAAAAAAAAAAAAAAAAAAAAAAAAAAAAAAAAAAAAAAAAAAAAAAAAAAAAAAAAAAAAAAAAAAAAAAAAAAAAAAAAAAAAAAAAAAAAAAAAAAAAAAAAAAAAAAAAAAAAAAAAAAAAAAAAAAAAAAAAAAAAAAAAAAAAAAAAAAAAAAAAAAAAAAAAAAAAAAAAAAAAAAAAAAAAAAAAAAAAAAAAAAAAAAAAAAAAAAAAAAAAAAAAAAAAAAAAAAAAAAAAAAAAAAAAAAAAAAAAAAAAAAAAAAAAAAAAAAAAAAAAAAAAAAAAAAAAAAAAAAAAAAAAAAAAAAAAAAAAAAAAAAAAAAAAAAAAAAAAAAAAAAAAAAAAAAAAJqZmZmZmbk/mpmZmZmZuT+amZmZmZm5P5qZmZmZmbk/mpmZmZmZuT+amZmZmZm5P5qZmZmZmbk/mpmZmZmZuT8AAAAAAAAAAAAAAAAAAAAAAAAAAAAAAAAAAAAAAAAAAJqZmZmZmck/mpmZmZmZyT+amZmZmZnZP5qZmZmZmdk/MzMzMzMz4z8zMzMzMzPjP2ZmZmZmZuY/ZmZmZmZm5j+amZmZmZnpP5qZmZmZmek/mpmZmZmZ6T+amZmZmZnpP5qZmZmZmek/mpmZmZmZ6T+amZmZmZnpP5qZmZmZmek/mpmZmZmZ6T+amZmZmZnpP5qZmZmZmek/mpmZmZmZ6T9mZmZmZmbmP2ZmZmZmZuY/AAAAAAAA4D8AAAAAAADgPzMzMzMzM9M/MzMzMzMz0z+amZmZmZnJP5qZmZmZmck/mpmZmZmZyT+amZmZmZnJPzMzMzMzM+M/MzMzMzMz4z8zMzMzMzPjPzMzMzMzM+M/mpmZmZmZ8T+amZmZmZnxPzMzMzMzM/M/MzMzMzMz8z8zMzMzMzPzPzMzMzMzM/M/mpmZmZmZ8T+amZmZmZnxP5qZmZmZmfE/mpmZmZmZ8T+amZmZmZnxP5qZmZmZmfE/AAAAAAAAAEAAAAAAAAAAQGZmZmZmZv4/ZmZmZmZm/j8AAAAAAAD4PwAAAAAAAPg/ZmZmZmZm/j9mZmZmZmb+P2ZmZmZmZv4/ZmZmZmZm/j9mZmZmZmYCQGZmZmZmZgJAAAAAAAAABEAAAAAAAAAEQGZmZmZmZgZAZmZmZmZmBkBmZmZmZmYKQGZmZmZmZgpAAAAAAAAADEAAAAAAAAAMQDMzMzMzMw9AMzMzMzMzD0BmZmZmZmYSQGZmZmZmZhJAMzMzMzMzFUAzMzMzMzMVQJqZmZmZmRlAmpmZmZmZGUAAAAAAAAAaQAAAAAAAABpAzczMzMzMHEDNzMzMzMwcQJqZmZmZmSFAmpmZmZmZIUAzMzMzMzMhQDMzMzMzMyFAmpmZmZmZIkCamZmZmZkiQAAAAAAAACVAAAAAAAAAJUBmZmZmZmYoQGZmZmZmZihAAAAAAAAAKUAAAAAAAAApQGZmZmZmZixAZmZmZmZmLEDNzMzMzMwpQM3MzMzMzClAmpmZmZmZLUCamZmZmZktQAAAAAAAAC5AAAAAAAAALkCamZmZmRkwQJqZmZmZGTBAMzMzMzMzNUAzMzMzMzM1QAAAAAAAgDlAAAAAAACAOUAAAAAAAAA7QAAAAAAAADtAmpmZmZmZPECamZmZmZk8QDMzMzMzMz9AMzMzMzMzP0BmZmZmZuZAQGZmZmZm5kBAmpmZmZnZQkCamZmZmdlCQDMzMzMzM0NAMzMzMzMzQ0AzMzMzM/NEQDMzMzMz80RAzczMzMwMRkDNzMzMzAxGQDMzMzMzs0ZAMzMzMzOzRkAAAAAAAMBIQAAAAAAAwEhAAAAAAAAATUAAAAAAAABNQDMzMzMzs1BAMzMzMzOzUEDNzMzMzMxSQM3MzMzMzFJAmpmZmZlZWECamZmZmVlYQDMzMzMz81tAMzMzMzPzW0DNzMzMzOxeQM3MzMzM7F5AzczMzMzsXkDNzMzMzOxeQM3MzMzMnGJAzczMzMycYkAAAAAAAEBkQAAAAAAAQGRAZmZmZmbmZUBmZmZmZuZlQM3MzMzMXGdAzczMzMxcZ0DNzMzMzFxnQM3MzMzMXGdAAAAAAAAwbEAAAAAAADBsQM3MzMzM3G1AzczMzMzcbUDNzMzMzNxtQM3MzMzM3G1AmpmZmZnpcUCamZmZmelxQAAAAAAAqHNAAAAAAACoc0AAAAAAAEB1QAAAAAAAQHVAmpmZmZnJdkCamZmZmcl2QJqZmZmZIXhAmpmZmZkheEBmZmZmZnZ5QGZmZmZmdnlAMzMzMzMDe0AzMzMzMwN7QDMzMzMzY3xAMzMzMzNjfEBmZmZmZoZ+QGZmZmZmhn5AmpmZmZkhf0CamZmZmSF/QDMzMzMzV4BAMzMzMzNXgEAzMzMzMxOBQDMzMzMzE4FAmpmZmZnFgUCamZmZmcWBQJqZmZmZaYFAmpmZmZlpgUBmZmZmZqKAQGZmZmZmooBAZmZmZmbqgEBmZmZmZuqAQAAAAAAA3IBAAAAAAADcgECamZmZmYmAQJqZmZmZiYBAZmZmZmbWfkBmZmZmZtZ+QGZmZmZmzn9AZmZmZmbOf0AAAAAAAFh/QAAAAAAAWH9AmpmZmZmZf0CamZmZmZl/QJqZmZmZKX9AmpmZmZkpf0BmZmZmZlKAQGZmZmZmUoBAMzMzMzNvgUAzMzMzM2+BQDMzMzMzT4JAMzMzMzNPgkAAAAAAAKiCQAAAAAAAqIJAMzMzMzPTg0AzMzMzM9ODQGZmZmZmnoVAZmZmZmaehUAzMzMzM4eGQDMzMzMzh4ZAZmZmZmaCh0BmZmZmZoKHQM3MzMzMFIhAzczMzMwUiEAAAAAAAByJQAAAAAAAHIlAmpmZmZkFiUCamZmZmQWJQGZmZmZmTopAZmZmZmZOikDNzMzMzMSKQM3MzMzMxIpAzczMzMzEikDNzMzMzMSKQDMzMzMzD4tAMzMzMzMPi0AzMzMzM/eKQDMzMzMz94pAMzMzMzMziEAzMzMzMzOIQAAAAAAAKIhAAAAAAAAoiECamZmZmemHQJqZmZmZ6YdAmpmZmZllh0CamZmZmWWHQM3MzMzM3IdAzczMzMzch0CamZmZmfGHQJqZmZmZ8YdAmpmZmZnxh0CamZmZmfGHQAAAAAAAOIhAAAAAAAA4iEAAAAAAAGiGQAAAAAAAaIZAAAAAAADghUAAAAAAAOCFQDMzMzMzu4hAMzMzMzO7iEAzMzMzM0+JQDMzMzMzT4lAMzMzMzMnikAzMzMzMyeKQJqZmZmZAYtAmpmZmZkBi0AzMzMzM9uLQDMzMzMz24tAzczMzMwEi0DNzMzMzASLQM3MzMzMtItAzczMzMy0i0AzMzMzM/OLQDMzMzMz84tAAAAAAAAwi0AAAAAAADCLQAAAAAAAZIxAAAAAAABkjEBmZmZmZu6MQGZmZmZm7oxAzczMzMwcjUDNzMzMzByNQDMzMzMzi4xAMzMzMzOLjEAAAAAAAPCLQAAAAAAA8ItAZmZmZmaGjEBmZmZmZoaMQDMzMzMz641AMzMzMzPrjUDNzMzMzFSOQM3MzMzMVI5AMzMzMzNTjkAzMzMzM1OOQJqZmZmZmZBAmpmZmZmZkEBmZmZmZkSQQGZmZmZmRJBAmpmZmZl5j0CamZmZmXmPQDMzMzMze49AMzMzMzN7j0CamZmZmamOQJqZmZmZqY5AzczMzMwsjkDNzMzMzCyOQJqZmZmZhY1AmpmZmZmFjUDNzMzMzPiMQM3MzMzM+IxAZmZmZmY2jUBmZmZmZjaNQGZmZmZmSo1AZmZmZmZKjUBmZmZmZuKMQGZmZmZm4oxAZmZmZmb2jEBmZmZmZvaMQDMzMzMzP4tAMzMzMzM/i0AzMzMzM8uKQDMzMzMzy4pAMzMzMzMfi0AzMzMzMx+LQJqZmZmZ+YpAmpmZmZn5ikAAAAAAAMyLQAAAAAAAzItAMzMzMzOzjEAzMzMzM7OMQJqZmZmZjYxAmpmZmZmNjEDNzMzMzJCMQM3MzMzMkIxAmpmZmZlZjECamZmZmVmMQM3MzMzMxIxAzczMzMzEjEDNzMzMzHCPQM3MzMzMcI9AZmZmZmYqkEBmZmZmZiqQQDMzMzMzd5BAMzMzMzN3kEAzMzMzM7WQQDMzMzMztZBAAAAAAAC0j0AAAAAAALSPQAAAAAAAkI9AAAAAAACQj0AzMzMzM7OMQDMzMzMzs4xAzczMzMxMi0DNzMzMzEyLQJqZmZmZRYtAmpmZmZlFi0AAAAAAANiLQAAAAAAA2ItAzczMzMwAjEDNzMzMzACMQJqZmZmZHYxAmpmZmZkdjEAzMzMzM5+MQDMzMzMzn4xAzczMzMzgjUDNzMzMzOCNQAAAAAAAuI9AAAAAAAC4j0DNzMzMzMSPQM3MzMzMxI9AmpmZmZl5kUCamZmZmXmRQM3MzMzMVpJAzczMzMxWkkAzMzMzMxOTQDMzMzMzE5NAAAAAAAAck0AAAAAAAByTQGZmZmZmJJNAZmZmZmYkk0BmZmZmZvCSQGZmZmZm8JJAMzMzMzNbkUAzMzMzM1uRQJqZmZmZPZBAmpmZmZk9kEDNzMzMzDCOQM3MzMzMMI5AAAAAAAD0ikAAAAAAAPSKQGZmZmZm/olAZmZmZmb+iUBmZmZmZvaGQGZmZmZm9oZAMzMzMzObhUAzMzMzM5uFQDMzMzMzI4ZAMzMzMzMjhkAzMzMzM7ODQDMzMzMzs4NAMzMzMzPLgkAzMzMzM8uCQJqZmZmZHYRAmpmZmZkdhEDNzMzMzICFQM3MzMzMgIVAMzMzMzPDhEAzMzMzM8OEQJqZmZmZ5YRAmpmZmZnlhEAzMzMzM/+CQDMzMzMz/4JAMzMzMzP/gkAzMzMzM/+CQDMzMzMzc4JAMzMzMzNzgkCamZmZmZF8QJqZmZmZkXxAMzMzMzNLekAzMzMzM0t6QAAAAAAAMHlAAAAAAAAweUBmZmZmZqZ7QGZmZmZmpntAzczMzMxMfkDNzMzMzEx+QM3MzMzMVIJAzczMzMxUgkCamZmZmUWDQJqZmZmZRYNAAAAAAADcgkAAAAAAANyCQDMzMzMz74NAMzMzMzPvg0CamZmZmS2EQJqZmZmZLYRAzczMzMz0hEDNzMzMzPSEQDMzMzMzO4hAMzMzMzM7iEBmZmZmZl6KQGZmZmZmXopAzczMzMxAikDNzMzMzECKQGZmZmZmyohAZmZmZmbKiEAzMzMzM5uIQDMzMzMzm4hAAAAAAAAUi0AAAAAAABSLQJqZmZmZ+YtAmpmZmZn5i0DNzMzMzHCMQM3MzMzMcIxAmpmZmZldjECamZmZmV2MQM3MzMzM0I5AzczMzMzQjkCamZmZmTGPQJqZmZmZMY9AzczMzMwUjkDNzMzMzBSOQDMzMzMzS45AMzMzMzNLjkAzMzMzM++NQDMzMzMz741AAAAAAACki0AAAAAAAKSLQGZmZmZmyolAZmZmZmbKiUBmZmZmZo6LQGZmZmZmjotAmpmZmZkZjECamZmZmRmMQJqZmZmZBYxAmpmZmZkFjEDNzMzMzECLQM3MzMzMQItAmpmZmZkFi0CamZmZmQWLQDMzMzMzV4tAMzMzMzNXi0CamZmZmSWLQJqZmZmZJYtAmpmZmZnRi0CamZmZmdGLQM3MzMzMJIxAzczMzMwkjEDNzMzMzNyLQM3MzMzM3ItAMzMzMzPLi0AzMzMzM8uLQA==",
          "dtype": "f8"
         },
         "yaxis": "y"
        }
       ],
       "layout": {
        "legend": {
         "title": {
          "text": "test"
         },
         "tracegroupgap": 0
        },
        "template": {
         "data": {
          "bar": [
           {
            "error_x": {
             "color": "#2a3f5f"
            },
            "error_y": {
             "color": "#2a3f5f"
            },
            "marker": {
             "line": {
              "color": "#E5ECF6",
              "width": 0.5
             },
             "pattern": {
              "fillmode": "overlay",
              "size": 10,
              "solidity": 0.2
             }
            },
            "type": "bar"
           }
          ],
          "barpolar": [
           {
            "marker": {
             "line": {
              "color": "#E5ECF6",
              "width": 0.5
             },
             "pattern": {
              "fillmode": "overlay",
              "size": 10,
              "solidity": 0.2
             }
            },
            "type": "barpolar"
           }
          ],
          "carpet": [
           {
            "aaxis": {
             "endlinecolor": "#2a3f5f",
             "gridcolor": "white",
             "linecolor": "white",
             "minorgridcolor": "white",
             "startlinecolor": "#2a3f5f"
            },
            "baxis": {
             "endlinecolor": "#2a3f5f",
             "gridcolor": "white",
             "linecolor": "white",
             "minorgridcolor": "white",
             "startlinecolor": "#2a3f5f"
            },
            "type": "carpet"
           }
          ],
          "choropleth": [
           {
            "colorbar": {
             "outlinewidth": 0,
             "ticks": ""
            },
            "type": "choropleth"
           }
          ],
          "contour": [
           {
            "colorbar": {
             "outlinewidth": 0,
             "ticks": ""
            },
            "colorscale": [
             [
              0,
              "#0d0887"
             ],
             [
              0.1111111111111111,
              "#46039f"
             ],
             [
              0.2222222222222222,
              "#7201a8"
             ],
             [
              0.3333333333333333,
              "#9c179e"
             ],
             [
              0.4444444444444444,
              "#bd3786"
             ],
             [
              0.5555555555555556,
              "#d8576b"
             ],
             [
              0.6666666666666666,
              "#ed7953"
             ],
             [
              0.7777777777777778,
              "#fb9f3a"
             ],
             [
              0.8888888888888888,
              "#fdca26"
             ],
             [
              1,
              "#f0f921"
             ]
            ],
            "type": "contour"
           }
          ],
          "contourcarpet": [
           {
            "colorbar": {
             "outlinewidth": 0,
             "ticks": ""
            },
            "type": "contourcarpet"
           }
          ],
          "heatmap": [
           {
            "colorbar": {
             "outlinewidth": 0,
             "ticks": ""
            },
            "colorscale": [
             [
              0,
              "#0d0887"
             ],
             [
              0.1111111111111111,
              "#46039f"
             ],
             [
              0.2222222222222222,
              "#7201a8"
             ],
             [
              0.3333333333333333,
              "#9c179e"
             ],
             [
              0.4444444444444444,
              "#bd3786"
             ],
             [
              0.5555555555555556,
              "#d8576b"
             ],
             [
              0.6666666666666666,
              "#ed7953"
             ],
             [
              0.7777777777777778,
              "#fb9f3a"
             ],
             [
              0.8888888888888888,
              "#fdca26"
             ],
             [
              1,
              "#f0f921"
             ]
            ],
            "type": "heatmap"
           }
          ],
          "histogram": [
           {
            "marker": {
             "pattern": {
              "fillmode": "overlay",
              "size": 10,
              "solidity": 0.2
             }
            },
            "type": "histogram"
           }
          ],
          "histogram2d": [
           {
            "colorbar": {
             "outlinewidth": 0,
             "ticks": ""
            },
            "colorscale": [
             [
              0,
              "#0d0887"
             ],
             [
              0.1111111111111111,
              "#46039f"
             ],
             [
              0.2222222222222222,
              "#7201a8"
             ],
             [
              0.3333333333333333,
              "#9c179e"
             ],
             [
              0.4444444444444444,
              "#bd3786"
             ],
             [
              0.5555555555555556,
              "#d8576b"
             ],
             [
              0.6666666666666666,
              "#ed7953"
             ],
             [
              0.7777777777777778,
              "#fb9f3a"
             ],
             [
              0.8888888888888888,
              "#fdca26"
             ],
             [
              1,
              "#f0f921"
             ]
            ],
            "type": "histogram2d"
           }
          ],
          "histogram2dcontour": [
           {
            "colorbar": {
             "outlinewidth": 0,
             "ticks": ""
            },
            "colorscale": [
             [
              0,
              "#0d0887"
             ],
             [
              0.1111111111111111,
              "#46039f"
             ],
             [
              0.2222222222222222,
              "#7201a8"
             ],
             [
              0.3333333333333333,
              "#9c179e"
             ],
             [
              0.4444444444444444,
              "#bd3786"
             ],
             [
              0.5555555555555556,
              "#d8576b"
             ],
             [
              0.6666666666666666,
              "#ed7953"
             ],
             [
              0.7777777777777778,
              "#fb9f3a"
             ],
             [
              0.8888888888888888,
              "#fdca26"
             ],
             [
              1,
              "#f0f921"
             ]
            ],
            "type": "histogram2dcontour"
           }
          ],
          "mesh3d": [
           {
            "colorbar": {
             "outlinewidth": 0,
             "ticks": ""
            },
            "type": "mesh3d"
           }
          ],
          "parcoords": [
           {
            "line": {
             "colorbar": {
              "outlinewidth": 0,
              "ticks": ""
             }
            },
            "type": "parcoords"
           }
          ],
          "pie": [
           {
            "automargin": true,
            "type": "pie"
           }
          ],
          "scatter": [
           {
            "fillpattern": {
             "fillmode": "overlay",
             "size": 10,
             "solidity": 0.2
            },
            "type": "scatter"
           }
          ],
          "scatter3d": [
           {
            "line": {
             "colorbar": {
              "outlinewidth": 0,
              "ticks": ""
             }
            },
            "marker": {
             "colorbar": {
              "outlinewidth": 0,
              "ticks": ""
             }
            },
            "type": "scatter3d"
           }
          ],
          "scattercarpet": [
           {
            "marker": {
             "colorbar": {
              "outlinewidth": 0,
              "ticks": ""
             }
            },
            "type": "scattercarpet"
           }
          ],
          "scattergeo": [
           {
            "marker": {
             "colorbar": {
              "outlinewidth": 0,
              "ticks": ""
             }
            },
            "type": "scattergeo"
           }
          ],
          "scattergl": [
           {
            "marker": {
             "colorbar": {
              "outlinewidth": 0,
              "ticks": ""
             }
            },
            "type": "scattergl"
           }
          ],
          "scattermap": [
           {
            "marker": {
             "colorbar": {
              "outlinewidth": 0,
              "ticks": ""
             }
            },
            "type": "scattermap"
           }
          ],
          "scattermapbox": [
           {
            "marker": {
             "colorbar": {
              "outlinewidth": 0,
              "ticks": ""
             }
            },
            "type": "scattermapbox"
           }
          ],
          "scatterpolar": [
           {
            "marker": {
             "colorbar": {
              "outlinewidth": 0,
              "ticks": ""
             }
            },
            "type": "scatterpolar"
           }
          ],
          "scatterpolargl": [
           {
            "marker": {
             "colorbar": {
              "outlinewidth": 0,
              "ticks": ""
             }
            },
            "type": "scatterpolargl"
           }
          ],
          "scatterternary": [
           {
            "marker": {
             "colorbar": {
              "outlinewidth": 0,
              "ticks": ""
             }
            },
            "type": "scatterternary"
           }
          ],
          "surface": [
           {
            "colorbar": {
             "outlinewidth": 0,
             "ticks": ""
            },
            "colorscale": [
             [
              0,
              "#0d0887"
             ],
             [
              0.1111111111111111,
              "#46039f"
             ],
             [
              0.2222222222222222,
              "#7201a8"
             ],
             [
              0.3333333333333333,
              "#9c179e"
             ],
             [
              0.4444444444444444,
              "#bd3786"
             ],
             [
              0.5555555555555556,
              "#d8576b"
             ],
             [
              0.6666666666666666,
              "#ed7953"
             ],
             [
              0.7777777777777778,
              "#fb9f3a"
             ],
             [
              0.8888888888888888,
              "#fdca26"
             ],
             [
              1,
              "#f0f921"
             ]
            ],
            "type": "surface"
           }
          ],
          "table": [
           {
            "cells": {
             "fill": {
              "color": "#EBF0F8"
             },
             "line": {
              "color": "white"
             }
            },
            "header": {
             "fill": {
              "color": "#C8D4E3"
             },
             "line": {
              "color": "white"
             }
            },
            "type": "table"
           }
          ]
         },
         "layout": {
          "annotationdefaults": {
           "arrowcolor": "#2a3f5f",
           "arrowhead": 0,
           "arrowwidth": 1
          },
          "autotypenumbers": "strict",
          "coloraxis": {
           "colorbar": {
            "outlinewidth": 0,
            "ticks": ""
           }
          },
          "colorscale": {
           "diverging": [
            [
             0,
             "#8e0152"
            ],
            [
             0.1,
             "#c51b7d"
            ],
            [
             0.2,
             "#de77ae"
            ],
            [
             0.3,
             "#f1b6da"
            ],
            [
             0.4,
             "#fde0ef"
            ],
            [
             0.5,
             "#f7f7f7"
            ],
            [
             0.6,
             "#e6f5d0"
            ],
            [
             0.7,
             "#b8e186"
            ],
            [
             0.8,
             "#7fbc41"
            ],
            [
             0.9,
             "#4d9221"
            ],
            [
             1,
             "#276419"
            ]
           ],
           "sequential": [
            [
             0,
             "#0d0887"
            ],
            [
             0.1111111111111111,
             "#46039f"
            ],
            [
             0.2222222222222222,
             "#7201a8"
            ],
            [
             0.3333333333333333,
             "#9c179e"
            ],
            [
             0.4444444444444444,
             "#bd3786"
            ],
            [
             0.5555555555555556,
             "#d8576b"
            ],
            [
             0.6666666666666666,
             "#ed7953"
            ],
            [
             0.7777777777777778,
             "#fb9f3a"
            ],
            [
             0.8888888888888888,
             "#fdca26"
            ],
            [
             1,
             "#f0f921"
            ]
           ],
           "sequentialminus": [
            [
             0,
             "#0d0887"
            ],
            [
             0.1111111111111111,
             "#46039f"
            ],
            [
             0.2222222222222222,
             "#7201a8"
            ],
            [
             0.3333333333333333,
             "#9c179e"
            ],
            [
             0.4444444444444444,
             "#bd3786"
            ],
            [
             0.5555555555555556,
             "#d8576b"
            ],
            [
             0.6666666666666666,
             "#ed7953"
            ],
            [
             0.7777777777777778,
             "#fb9f3a"
            ],
            [
             0.8888888888888888,
             "#fdca26"
            ],
            [
             1,
             "#f0f921"
            ]
           ]
          },
          "colorway": [
           "#636efa",
           "#EF553B",
           "#00cc96",
           "#ab63fa",
           "#FFA15A",
           "#19d3f3",
           "#FF6692",
           "#B6E880",
           "#FF97FF",
           "#FECB52"
          ],
          "font": {
           "color": "#2a3f5f"
          },
          "geo": {
           "bgcolor": "white",
           "lakecolor": "white",
           "landcolor": "#E5ECF6",
           "showlakes": true,
           "showland": true,
           "subunitcolor": "white"
          },
          "hoverlabel": {
           "align": "left"
          },
          "hovermode": "closest",
          "mapbox": {
           "style": "light"
          },
          "paper_bgcolor": "white",
          "plot_bgcolor": "#E5ECF6",
          "polar": {
           "angularaxis": {
            "gridcolor": "white",
            "linecolor": "white",
            "ticks": ""
           },
           "bgcolor": "#E5ECF6",
           "radialaxis": {
            "gridcolor": "white",
            "linecolor": "white",
            "ticks": ""
           }
          },
          "scene": {
           "xaxis": {
            "backgroundcolor": "#E5ECF6",
            "gridcolor": "white",
            "gridwidth": 2,
            "linecolor": "white",
            "showbackground": true,
            "ticks": "",
            "zerolinecolor": "white"
           },
           "yaxis": {
            "backgroundcolor": "#E5ECF6",
            "gridcolor": "white",
            "gridwidth": 2,
            "linecolor": "white",
            "showbackground": true,
            "ticks": "",
            "zerolinecolor": "white"
           },
           "zaxis": {
            "backgroundcolor": "#E5ECF6",
            "gridcolor": "white",
            "gridwidth": 2,
            "linecolor": "white",
            "showbackground": true,
            "ticks": "",
            "zerolinecolor": "white"
           }
          },
          "shapedefaults": {
           "line": {
            "color": "#2a3f5f"
           }
          },
          "ternary": {
           "aaxis": {
            "gridcolor": "white",
            "linecolor": "white",
            "ticks": ""
           },
           "baxis": {
            "gridcolor": "white",
            "linecolor": "white",
            "ticks": ""
           },
           "bgcolor": "#E5ECF6",
           "caxis": {
            "gridcolor": "white",
            "linecolor": "white",
            "ticks": ""
           }
          },
          "title": {
           "x": 0.05
          },
          "xaxis": {
           "automargin": true,
           "gridcolor": "white",
           "linecolor": "white",
           "ticks": "",
           "title": {
            "standoff": 15
           },
           "zerolinecolor": "white",
           "zerolinewidth": 2
          },
          "yaxis": {
           "automargin": true,
           "gridcolor": "white",
           "linecolor": "white",
           "ticks": "",
           "title": {
            "standoff": 15
           },
           "zerolinecolor": "white",
           "zerolinewidth": 2
          }
         }
        },
        "title": {
         "text": "User Count vs Failures/s"
        },
        "xaxis": {
         "anchor": "y",
         "domain": [
          0,
          1
         ],
         "title": {
          "text": "User Count"
         }
        },
        "yaxis": {
         "anchor": "x",
         "domain": [
          0,
          1
         ],
         "title": {
          "text": "Failures/s"
         }
        }
       }
      }
     },
     "metadata": {},
     "output_type": "display_data"
    }
   ],
   "source": [
    "px.scatter(\n",
    "    history,\n",
    "    x=\"User Count\",\n",
    "    y=\"Failures/s\",\n",
    "    color=\"test\",\n",
    "    title=\"User Count vs Failures/s\"\n",
    ")"
   ]
  },
  {
   "cell_type": "code",
   "execution_count": null,
   "id": "10a9af9a",
   "metadata": {},
   "outputs": [
    {
     "data": {
      "application/vnd.plotly.v1+json": {
       "config": {
        "plotlyServerURL": "https://plot.ly"
       },
       "data": [
        {
         "hovertemplate": "variable=Total Request Count<br>index=%{x}<br>value=%{y}<extra></extra>",
         "legendgroup": "Total Request Count",
         "line": {
          "color": "#636efa",
          "dash": "solid"
         },
         "marker": {
          "symbol": "circle"
         },
         "mode": "lines",
         "name": "Total Request Count",
         "showlegend": true,
         "type": "scattergl",
         "x": {
          "bdata": "AAABAAIAAwAEAAUABgAHAAgACQAKAAsADAANAA4ADwAQABEAEgATABQAFQAWABcAGAAZABoAGwAcAB0AHgAfACAAIQAiACMAJAAlACYAJwAoACkAKgArACwALQAuAC8AMAAxADIAMwA0ADUANgA3ADgAOQA6ADsAPAA9AD4APwBAAEEAQgBDAEQARQBGAEcASABJAEoASwBMAE0ATgBPAFAAUQBSAFMAVABVAFYAVwBYAFkAWgBbAFwAXQBeAF8AYABhAGIAYwBkAGUAZgBnAGgAaQBqAGsAbABtAG4AbwBwAHEAcgBzAHQAdQB2AHcAeAB5AHoAewB8AH0AfgB/AIAAgQCCAIMAhACFAIYAhwCIAIkAigCLAIwAjQCOAI8AkACRAJIAkwCUAJUAlgCXAJgAmQCaAJsAnACdAJ4AnwCgAKEAogCjAKQApQCmAKcAqACpAKoAqwCsAK0ArgCvALAAsQCyALMAtAC1ALYAtwC4ALkAugC7ALwAvQC+AL8AwADBAMIAwwDEAMUAxgDHAMgAyQDKAMsAzADNAM4AzwDQANEA0gDTANQA1QDWANcA2ADZANoA2wDcAN0A3gDfAOAA4QDiAOMA5ADlAOYA5wDoAOkA6gDrAOwA7QDuAO8A8ADxAPIA8wD0APUA9gD3APgA+QD6APsA/AD9AP4A/wAAAQEBAgEDAQQBBQEGAQcBCAEJAQoBCwEMAQ0BDgEPARABEQESARMBFAEVARYBFwEYARkBGgEbARwBHQEeAR8BIAEhASIBIwEkASUBJgEnASgBKQEqASsBLAEtAS4BLwEwATEBMgEzATQBNQE2ATcBOAE5AToBOwE8AT0BPgE/AUABQQFCAUMBRAFFAUYBRwFIAUkBSgFLAUwBTQFOAU8BUAFRAVIBUwFUAVUBVgFXAVgBWQFaAVsBXAFdAV4BXwFgAWEBYgFjAWQBZQFmAWcBaAFpAWoBawFsAW0BbgFvAXABcQFyAXMBdAF1AXYBdwF4AXkBegF7AXwBfQF+AX8BgAGBAYIBgwGEAYUBhgGHAYgBiQGKAYsBjAGNAY4BjwGQAZEBkgGTAZQBlQGWAZcBmAGZAZoBmwGcAZ0BngGfAaABoQGiAaMBpAGlAaYBpwGoAakBqgGrAawBrQGuAa8BsAGxAbIBswG0AbUBtgG3AbgBuQG6AbsBvAG9Ab4BvwHAAcEBwgHDAcQBxQHGAccByAHJAcoBywHMAc0BzgHPAdAB0QHSAdMB1AHVAdYB1wHYAdkB2gHbAdwB3QHeAd8B4AHhAeIB4wHkAeUB5gHnAegB6QHqAesB7AHtAe4B7wHwAfEB8gHzAfQB9QH2AfcB+AH5AfoB+wH8Af0B/gH/AQACAQICAgMCBAIFAgYCBwIIAgkCCgILAgwCDQIOAg8CEAIRAhICEwIUAhUCFgIXAhgCGQIaAhsCHAIdAh4CHwIgAiECIgIjAiQCJQImAicCKAIpAioCKwIsAi0CLgIvAjACMQIyAjMCNAI1AjYCNwI4AjkCOgI7AjwCPQI+Aj8CQAJBAkICQwJEAkUCRgJHAkgCSQJKAksCTAJNAg==",
          "dtype": "i2"
         },
         "xaxis": "x",
         "y": {
          "bdata": "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",
          "dtype": "i4"
         },
         "yaxis": "y"
        },
        {
         "hovertemplate": "variable=Total Failure Count<br>index=%{x}<br>value=%{y}<extra></extra>",
         "legendgroup": "Total Failure Count",
         "line": {
          "color": "#EF553B",
          "dash": "solid"
         },
         "marker": {
          "symbol": "circle"
         },
         "mode": "lines",
         "name": "Total Failure Count",
         "showlegend": true,
         "type": "scattergl",
         "x": {
          "bdata": "AAABAAIAAwAEAAUABgAHAAgACQAKAAsADAANAA4ADwAQABEAEgATABQAFQAWABcAGAAZABoAGwAcAB0AHgAfACAAIQAiACMAJAAlACYAJwAoACkAKgArACwALQAuAC8AMAAxADIAMwA0ADUANgA3ADgAOQA6ADsAPAA9AD4APwBAAEEAQgBDAEQARQBGAEcASABJAEoASwBMAE0ATgBPAFAAUQBSAFMAVABVAFYAVwBYAFkAWgBbAFwAXQBeAF8AYABhAGIAYwBkAGUAZgBnAGgAaQBqAGsAbABtAG4AbwBwAHEAcgBzAHQAdQB2AHcAeAB5AHoAewB8AH0AfgB/AIAAgQCCAIMAhACFAIYAhwCIAIkAigCLAIwAjQCOAI8AkACRAJIAkwCUAJUAlgCXAJgAmQCaAJsAnACdAJ4AnwCgAKEAogCjAKQApQCmAKcAqACpAKoAqwCsAK0ArgCvALAAsQCyALMAtAC1ALYAtwC4ALkAugC7ALwAvQC+AL8AwADBAMIAwwDEAMUAxgDHAMgAyQDKAMsAzADNAM4AzwDQANEA0gDTANQA1QDWANcA2ADZANoA2wDcAN0A3gDfAOAA4QDiAOMA5ADlAOYA5wDoAOkA6gDrAOwA7QDuAO8A8ADxAPIA8wD0APUA9gD3APgA+QD6APsA/AD9AP4A/wAAAQEBAgEDAQQBBQEGAQcBCAEJAQoBCwEMAQ0BDgEPARABEQESARMBFAEVARYBFwEYARkBGgEbARwBHQEeAR8BIAEhASIBIwEkASUBJgEnASgBKQEqASsBLAEtAS4BLwEwATEBMgEzATQBNQE2ATcBOAE5AToBOwE8AT0BPgE/AUABQQFCAUMBRAFFAUYBRwFIAUkBSgFLAUwBTQFOAU8BUAFRAVIBUwFUAVUBVgFXAVgBWQFaAVsBXAFdAV4BXwFgAWEBYgFjAWQBZQFmAWcBaAFpAWoBawFsAW0BbgFvAXABcQFyAXMBdAF1AXYBdwF4AXkBegF7AXwBfQF+AX8BgAGBAYIBgwGEAYUBhgGHAYgBiQGKAYsBjAGNAY4BjwGQAZEBkgGTAZQBlQGWAZcBmAGZAZoBmwGcAZ0BngGfAaABoQGiAaMBpAGlAaYBpwGoAakBqgGrAawBrQGuAa8BsAGxAbIBswG0AbUBtgG3AbgBuQG6AbsBvAG9Ab4BvwHAAcEBwgHDAcQBxQHGAccByAHJAcoBywHMAc0BzgHPAdAB0QHSAdMB1AHVAdYB1wHYAdkB2gHbAdwB3QHeAd8B4AHhAeIB4wHkAeUB5gHnAegB6QHqAesB7AHtAe4B7wHwAfEB8gHzAfQB9QH2AfcB+AH5AfoB+wH8Af0B/gH/AQACAQICAgMCBAIFAgYCBwIIAgkCCgILAgwCDQIOAg8CEAIRAhICEwIUAhUCFgIXAhgCGQIaAhsCHAIdAh4CHwIgAiECIgIjAiQCJQImAicCKAIpAioCKwIsAi0CLgIvAjACMQIyAjMCNAI1AjYCNwI4AjkCOgI7AjwCPQI+Aj8CQAJBAkICQwJEAkUCRgJHAkgCSQJKAksCTAJNAg==",
          "dtype": "i2"
         },
         "xaxis": "x",
         "y": {
          "bdata": "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",
          "dtype": "i4"
         },
         "yaxis": "y"
        }
       ],
       "layout": {
        "legend": {
         "title": {
          "text": "variable"
         },
         "tracegroupgap": 0
        },
        "template": {
         "data": {
          "bar": [
           {
            "error_x": {
             "color": "#2a3f5f"
            },
            "error_y": {
             "color": "#2a3f5f"
            },
            "marker": {
             "line": {
              "color": "#E5ECF6",
              "width": 0.5
             },
             "pattern": {
              "fillmode": "overlay",
              "size": 10,
              "solidity": 0.2
             }
            },
            "type": "bar"
           }
          ],
          "barpolar": [
           {
            "marker": {
             "line": {
              "color": "#E5ECF6",
              "width": 0.5
             },
             "pattern": {
              "fillmode": "overlay",
              "size": 10,
              "solidity": 0.2
             }
            },
            "type": "barpolar"
           }
          ],
          "carpet": [
           {
            "aaxis": {
             "endlinecolor": "#2a3f5f",
             "gridcolor": "white",
             "linecolor": "white",
             "minorgridcolor": "white",
             "startlinecolor": "#2a3f5f"
            },
            "baxis": {
             "endlinecolor": "#2a3f5f",
             "gridcolor": "white",
             "linecolor": "white",
             "minorgridcolor": "white",
             "startlinecolor": "#2a3f5f"
            },
            "type": "carpet"
           }
          ],
          "choropleth": [
           {
            "colorbar": {
             "outlinewidth": 0,
             "ticks": ""
            },
            "type": "choropleth"
           }
          ],
          "contour": [
           {
            "colorbar": {
             "outlinewidth": 0,
             "ticks": ""
            },
            "colorscale": [
             [
              0,
              "#0d0887"
             ],
             [
              0.1111111111111111,
              "#46039f"
             ],
             [
              0.2222222222222222,
              "#7201a8"
             ],
             [
              0.3333333333333333,
              "#9c179e"
             ],
             [
              0.4444444444444444,
              "#bd3786"
             ],
             [
              0.5555555555555556,
              "#d8576b"
             ],
             [
              0.6666666666666666,
              "#ed7953"
             ],
             [
              0.7777777777777778,
              "#fb9f3a"
             ],
             [
              0.8888888888888888,
              "#fdca26"
             ],
             [
              1,
              "#f0f921"
             ]
            ],
            "type": "contour"
           }
          ],
          "contourcarpet": [
           {
            "colorbar": {
             "outlinewidth": 0,
             "ticks": ""
            },
            "type": "contourcarpet"
           }
          ],
          "heatmap": [
           {
            "colorbar": {
             "outlinewidth": 0,
             "ticks": ""
            },
            "colorscale": [
             [
              0,
              "#0d0887"
             ],
             [
              0.1111111111111111,
              "#46039f"
             ],
             [
              0.2222222222222222,
              "#7201a8"
             ],
             [
              0.3333333333333333,
              "#9c179e"
             ],
             [
              0.4444444444444444,
              "#bd3786"
             ],
             [
              0.5555555555555556,
              "#d8576b"
             ],
             [
              0.6666666666666666,
              "#ed7953"
             ],
             [
              0.7777777777777778,
              "#fb9f3a"
             ],
             [
              0.8888888888888888,
              "#fdca26"
             ],
             [
              1,
              "#f0f921"
             ]
            ],
            "type": "heatmap"
           }
          ],
          "histogram": [
           {
            "marker": {
             "pattern": {
              "fillmode": "overlay",
              "size": 10,
              "solidity": 0.2
             }
            },
            "type": "histogram"
           }
          ],
          "histogram2d": [
           {
            "colorbar": {
             "outlinewidth": 0,
             "ticks": ""
            },
            "colorscale": [
             [
              0,
              "#0d0887"
             ],
             [
              0.1111111111111111,
              "#46039f"
             ],
             [
              0.2222222222222222,
              "#7201a8"
             ],
             [
              0.3333333333333333,
              "#9c179e"
             ],
             [
              0.4444444444444444,
              "#bd3786"
             ],
             [
              0.5555555555555556,
              "#d8576b"
             ],
             [
              0.6666666666666666,
              "#ed7953"
             ],
             [
              0.7777777777777778,
              "#fb9f3a"
             ],
             [
              0.8888888888888888,
              "#fdca26"
             ],
             [
              1,
              "#f0f921"
             ]
            ],
            "type": "histogram2d"
           }
          ],
          "histogram2dcontour": [
           {
            "colorbar": {
             "outlinewidth": 0,
             "ticks": ""
            },
            "colorscale": [
             [
              0,
              "#0d0887"
             ],
             [
              0.1111111111111111,
              "#46039f"
             ],
             [
              0.2222222222222222,
              "#7201a8"
             ],
             [
              0.3333333333333333,
              "#9c179e"
             ],
             [
              0.4444444444444444,
              "#bd3786"
             ],
             [
              0.5555555555555556,
              "#d8576b"
             ],
             [
              0.6666666666666666,
              "#ed7953"
             ],
             [
              0.7777777777777778,
              "#fb9f3a"
             ],
             [
              0.8888888888888888,
              "#fdca26"
             ],
             [
              1,
              "#f0f921"
             ]
            ],
            "type": "histogram2dcontour"
           }
          ],
          "mesh3d": [
           {
            "colorbar": {
             "outlinewidth": 0,
             "ticks": ""
            },
            "type": "mesh3d"
           }
          ],
          "parcoords": [
           {
            "line": {
             "colorbar": {
              "outlinewidth": 0,
              "ticks": ""
             }
            },
            "type": "parcoords"
           }
          ],
          "pie": [
           {
            "automargin": true,
            "type": "pie"
           }
          ],
          "scatter": [
           {
            "fillpattern": {
             "fillmode": "overlay",
             "size": 10,
             "solidity": 0.2
            },
            "type": "scatter"
           }
          ],
          "scatter3d": [
           {
            "line": {
             "colorbar": {
              "outlinewidth": 0,
              "ticks": ""
             }
            },
            "marker": {
             "colorbar": {
              "outlinewidth": 0,
              "ticks": ""
             }
            },
            "type": "scatter3d"
           }
          ],
          "scattercarpet": [
           {
            "marker": {
             "colorbar": {
              "outlinewidth": 0,
              "ticks": ""
             }
            },
            "type": "scattercarpet"
           }
          ],
          "scattergeo": [
           {
            "marker": {
             "colorbar": {
              "outlinewidth": 0,
              "ticks": ""
             }
            },
            "type": "scattergeo"
           }
          ],
          "scattergl": [
           {
            "marker": {
             "colorbar": {
              "outlinewidth": 0,
              "ticks": ""
             }
            },
            "type": "scattergl"
           }
          ],
          "scattermap": [
           {
            "marker": {
             "colorbar": {
              "outlinewidth": 0,
              "ticks": ""
             }
            },
            "type": "scattermap"
           }
          ],
          "scattermapbox": [
           {
            "marker": {
             "colorbar": {
              "outlinewidth": 0,
              "ticks": ""
             }
            },
            "type": "scattermapbox"
           }
          ],
          "scatterpolar": [
           {
            "marker": {
             "colorbar": {
              "outlinewidth": 0,
              "ticks": ""
             }
            },
            "type": "scatterpolar"
           }
          ],
          "scatterpolargl": [
           {
            "marker": {
             "colorbar": {
              "outlinewidth": 0,
              "ticks": ""
             }
            },
            "type": "scatterpolargl"
           }
          ],
          "scatterternary": [
           {
            "marker": {
             "colorbar": {
              "outlinewidth": 0,
              "ticks": ""
             }
            },
            "type": "scatterternary"
           }
          ],
          "surface": [
           {
            "colorbar": {
             "outlinewidth": 0,
             "ticks": ""
            },
            "colorscale": [
             [
              0,
              "#0d0887"
             ],
             [
              0.1111111111111111,
              "#46039f"
             ],
             [
              0.2222222222222222,
              "#7201a8"
             ],
             [
              0.3333333333333333,
              "#9c179e"
             ],
             [
              0.4444444444444444,
              "#bd3786"
             ],
             [
              0.5555555555555556,
              "#d8576b"
             ],
             [
              0.6666666666666666,
              "#ed7953"
             ],
             [
              0.7777777777777778,
              "#fb9f3a"
             ],
             [
              0.8888888888888888,
              "#fdca26"
             ],
             [
              1,
              "#f0f921"
             ]
            ],
            "type": "surface"
           }
          ],
          "table": [
           {
            "cells": {
             "fill": {
              "color": "#EBF0F8"
             },
             "line": {
              "color": "white"
             }
            },
            "header": {
             "fill": {
              "color": "#C8D4E3"
             },
             "line": {
              "color": "white"
             }
            },
            "type": "table"
           }
          ]
         },
         "layout": {
          "annotationdefaults": {
           "arrowcolor": "#2a3f5f",
           "arrowhead": 0,
           "arrowwidth": 1
          },
          "autotypenumbers": "strict",
          "coloraxis": {
           "colorbar": {
            "outlinewidth": 0,
            "ticks": ""
           }
          },
          "colorscale": {
           "diverging": [
            [
             0,
             "#8e0152"
            ],
            [
             0.1,
             "#c51b7d"
            ],
            [
             0.2,
             "#de77ae"
            ],
            [
             0.3,
             "#f1b6da"
            ],
            [
             0.4,
             "#fde0ef"
            ],
            [
             0.5,
             "#f7f7f7"
            ],
            [
             0.6,
             "#e6f5d0"
            ],
            [
             0.7,
             "#b8e186"
            ],
            [
             0.8,
             "#7fbc41"
            ],
            [
             0.9,
             "#4d9221"
            ],
            [
             1,
             "#276419"
            ]
           ],
           "sequential": [
            [
             0,
             "#0d0887"
            ],
            [
             0.1111111111111111,
             "#46039f"
            ],
            [
             0.2222222222222222,
             "#7201a8"
            ],
            [
             0.3333333333333333,
             "#9c179e"
            ],
            [
             0.4444444444444444,
             "#bd3786"
            ],
            [
             0.5555555555555556,
             "#d8576b"
            ],
            [
             0.6666666666666666,
             "#ed7953"
            ],
            [
             0.7777777777777778,
             "#fb9f3a"
            ],
            [
             0.8888888888888888,
             "#fdca26"
            ],
            [
             1,
             "#f0f921"
            ]
           ],
           "sequentialminus": [
            [
             0,
             "#0d0887"
            ],
            [
             0.1111111111111111,
             "#46039f"
            ],
            [
             0.2222222222222222,
             "#7201a8"
            ],
            [
             0.3333333333333333,
             "#9c179e"
            ],
            [
             0.4444444444444444,
             "#bd3786"
            ],
            [
             0.5555555555555556,
             "#d8576b"
            ],
            [
             0.6666666666666666,
             "#ed7953"
            ],
            [
             0.7777777777777778,
             "#fb9f3a"
            ],
            [
             0.8888888888888888,
             "#fdca26"
            ],
            [
             1,
             "#f0f921"
            ]
           ]
          },
          "colorway": [
           "#636efa",
           "#EF553B",
           "#00cc96",
           "#ab63fa",
           "#FFA15A",
           "#19d3f3",
           "#FF6692",
           "#B6E880",
           "#FF97FF",
           "#FECB52"
          ],
          "font": {
           "color": "#2a3f5f"
          },
          "geo": {
           "bgcolor": "white",
           "lakecolor": "white",
           "landcolor": "#E5ECF6",
           "showlakes": true,
           "showland": true,
           "subunitcolor": "white"
          },
          "hoverlabel": {
           "align": "left"
          },
          "hovermode": "closest",
          "mapbox": {
           "style": "light"
          },
          "paper_bgcolor": "white",
          "plot_bgcolor": "#E5ECF6",
          "polar": {
           "angularaxis": {
            "gridcolor": "white",
            "linecolor": "white",
            "ticks": ""
           },
           "bgcolor": "#E5ECF6",
           "radialaxis": {
            "gridcolor": "white",
            "linecolor": "white",
            "ticks": ""
           }
          },
          "scene": {
           "xaxis": {
            "backgroundcolor": "#E5ECF6",
            "gridcolor": "white",
            "gridwidth": 2,
            "linecolor": "white",
            "showbackground": true,
            "ticks": "",
            "zerolinecolor": "white"
           },
           "yaxis": {
            "backgroundcolor": "#E5ECF6",
            "gridcolor": "white",
            "gridwidth": 2,
            "linecolor": "white",
            "showbackground": true,
            "ticks": "",
            "zerolinecolor": "white"
           },
           "zaxis": {
            "backgroundcolor": "#E5ECF6",
            "gridcolor": "white",
            "gridwidth": 2,
            "linecolor": "white",
            "showbackground": true,
            "ticks": "",
            "zerolinecolor": "white"
           }
          },
          "shapedefaults": {
           "line": {
            "color": "#2a3f5f"
           }
          },
          "ternary": {
           "aaxis": {
            "gridcolor": "white",
            "linecolor": "white",
            "ticks": ""
           },
           "baxis": {
            "gridcolor": "white",
            "linecolor": "white",
            "ticks": ""
           },
           "bgcolor": "#E5ECF6",
           "caxis": {
            "gridcolor": "white",
            "linecolor": "white",
            "ticks": ""
           }
          },
          "title": {
           "x": 0.05
          },
          "xaxis": {
           "automargin": true,
           "gridcolor": "white",
           "linecolor": "white",
           "ticks": "",
           "title": {
            "standoff": 15
           },
           "zerolinecolor": "white",
           "zerolinewidth": 2
          },
          "yaxis": {
           "automargin": true,
           "gridcolor": "white",
           "linecolor": "white",
           "ticks": "",
           "title": {
            "standoff": 15
           },
           "zerolinecolor": "white",
           "zerolinewidth": 2
          }
         }
        },
        "title": {
         "text": "VertexAIMaaS - gemini-2.5-flash-lite-preview-06-17-thinking"
        },
        "xaxis": {
         "anchor": "y",
         "domain": [
          0,
          1
         ],
         "title": {
          "text": "index"
         }
        },
        "yaxis": {
         "anchor": "x",
         "domain": [
          0,
          1
         ],
         "title": {
          "text": "value"
         }
        }
       }
      }
     },
     "metadata": {},
     "output_type": "display_data"
    },
    {
     "data": {
      "application/vnd.plotly.v1+json": {
       "config": {
        "plotlyServerURL": "https://plot.ly"
       },
       "data": [
        {
         "hovertemplate": "variable=Total Request Count<br>index=%{x}<br>value=%{y}<extra></extra>",
         "legendgroup": "Total Request Count",
         "line": {
          "color": "#636efa",
          "dash": "solid"
         },
         "marker": {
          "symbol": "circle"
         },
         "mode": "lines",
         "name": "Total Request Count",
         "showlegend": true,
         "type": "scattergl",
         "x": {
          "bdata": "AAABAAIAAwAEAAUABgAHAAgACQAKAAsADAANAA4ADwAQABEAEgATABQAFQAWABcAGAAZABoAGwAcAB0AHgAfACAAIQAiACMAJAAlACYAJwAoACkAKgArACwALQAuAC8AMAAxADIAMwA0ADUANgA3ADgAOQA6ADsAPAA9AD4APwBAAEEAQgBDAEQARQBGAEcASABJAEoASwBMAE0ATgBPAFAAUQBSAFMAVABVAFYAVwBYAFkAWgBbAFwAXQBeAF8AYABhAGIAYwBkAGUAZgBnAGgAaQBqAGsAbABtAG4AbwBwAHEAcgBzAHQAdQB2AHcAeAB5AHoAewB8AH0AfgB/AIAAgQCCAIMAhACFAIYAhwCIAIkAigCLAIwAjQCOAI8AkACRAJIAkwCUAJUAlgCXAJgAmQCaAJsAnACdAJ4AnwCgAKEAogCjAKQApQCmAKcAqACpAKoAqwCsAK0ArgCvALAAsQCyALMAtAC1ALYAtwC4ALkAugC7ALwAvQC+AL8AwADBAMIAwwDEAMUAxgDHAMgAyQDKAMsAzADNAM4AzwDQANEA0gDTANQA1QDWANcA2ADZANoA2wDcAN0A3gDfAOAA4QDiAOMA5ADlAOYA5wDoAOkA6gDrAOwA7QDuAO8A8ADxAPIA8wD0APUA9gD3APgA+QD6APsA/AD9AP4A/wAAAQEBAgEDAQQBBQEGAQcBCAEJAQoBCwEMAQ0BDgEPARABEQESARMBFAEVARYBFwEYARkBGgEbARwBHQEeAR8BIAEhASIBIwEkASUBJgEnASgBKQEqASsBLAEtAS4BLwEwATEBMgEzATQBNQE2ATcBOAE5AToBOwE8AT0BPgE/AUABQQFCAUMBRAFFAUYBRwFIAUkBSgFLAUwBTQFOAU8BUAFRAVIBUwFUAVUBVgFXAVgBWQFaAVsBXAFdAV4BXwFgAWEBYgFjAWQBZQFmAWcBaAFpAWoBawFsAW0BbgFvAXABcQFyAXMBdAF1AXYBdwF4AXkBegF7AXwBfQF+AX8BgAGBAYIBgwGEAYUBhgGHAYgBiQGKAYsBjAGNAY4BjwGQAZEBkgGTAZQBlQGWAZcBmAGZAZoBmwGcAZ0BngGfAaABoQGiAaMBpAGlAaYBpwGoAakBqgGrAawBrQGuAa8BsAGxAbIBswG0AbUBtgG3AbgBuQG6AbsBvAG9Ab4BvwHAAcEBwgHDAcQBxQHGAccByAHJAcoBywHMAc0BzgHPAdAB0QHSAdMB1AHVAdYB1wHYAdkB2gHbAdwB3QHeAd8B4AHhAeIB4wHkAeUB5gHnAegB6QHqAesB7AHtAe4B7wHwAfEB8gHzAfQB9QH2AfcB+AH5AfoB+wH8Af0B/gH/AQACAQICAgMCBAIFAgYCBwI=",
          "dtype": "i2"
         },
         "xaxis": "x",
         "y": {
          "bdata": "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",
          "dtype": "i4"
         },
         "yaxis": "y"
        },
        {
         "hovertemplate": "variable=Total Failure Count<br>index=%{x}<br>value=%{y}<extra></extra>",
         "legendgroup": "Total Failure Count",
         "line": {
          "color": "#EF553B",
          "dash": "solid"
         },
         "marker": {
          "symbol": "circle"
         },
         "mode": "lines",
         "name": "Total Failure Count",
         "showlegend": true,
         "type": "scattergl",
         "x": {
          "bdata": "AAABAAIAAwAEAAUABgAHAAgACQAKAAsADAANAA4ADwAQABEAEgATABQAFQAWABcAGAAZABoAGwAcAB0AHgAfACAAIQAiACMAJAAlACYAJwAoACkAKgArACwALQAuAC8AMAAxADIAMwA0ADUANgA3ADgAOQA6ADsAPAA9AD4APwBAAEEAQgBDAEQARQBGAEcASABJAEoASwBMAE0ATgBPAFAAUQBSAFMAVABVAFYAVwBYAFkAWgBbAFwAXQBeAF8AYABhAGIAYwBkAGUAZgBnAGgAaQBqAGsAbABtAG4AbwBwAHEAcgBzAHQAdQB2AHcAeAB5AHoAewB8AH0AfgB/AIAAgQCCAIMAhACFAIYAhwCIAIkAigCLAIwAjQCOAI8AkACRAJIAkwCUAJUAlgCXAJgAmQCaAJsAnACdAJ4AnwCgAKEAogCjAKQApQCmAKcAqACpAKoAqwCsAK0ArgCvALAAsQCyALMAtAC1ALYAtwC4ALkAugC7ALwAvQC+AL8AwADBAMIAwwDEAMUAxgDHAMgAyQDKAMsAzADNAM4AzwDQANEA0gDTANQA1QDWANcA2ADZANoA2wDcAN0A3gDfAOAA4QDiAOMA5ADlAOYA5wDoAOkA6gDrAOwA7QDuAO8A8ADxAPIA8wD0APUA9gD3APgA+QD6APsA/AD9AP4A/wAAAQEBAgEDAQQBBQEGAQcBCAEJAQoBCwEMAQ0BDgEPARABEQESARMBFAEVARYBFwEYARkBGgEbARwBHQEeAR8BIAEhASIBIwEkASUBJgEnASgBKQEqASsBLAEtAS4BLwEwATEBMgEzATQBNQE2ATcBOAE5AToBOwE8AT0BPgE/AUABQQFCAUMBRAFFAUYBRwFIAUkBSgFLAUwBTQFOAU8BUAFRAVIBUwFUAVUBVgFXAVgBWQFaAVsBXAFdAV4BXwFgAWEBYgFjAWQBZQFmAWcBaAFpAWoBawFsAW0BbgFvAXABcQFyAXMBdAF1AXYBdwF4AXkBegF7AXwBfQF+AX8BgAGBAYIBgwGEAYUBhgGHAYgBiQGKAYsBjAGNAY4BjwGQAZEBkgGTAZQBlQGWAZcBmAGZAZoBmwGcAZ0BngGfAaABoQGiAaMBpAGlAaYBpwGoAakBqgGrAawBrQGuAa8BsAGxAbIBswG0AbUBtgG3AbgBuQG6AbsBvAG9Ab4BvwHAAcEBwgHDAcQBxQHGAccByAHJAcoBywHMAc0BzgHPAdAB0QHSAdMB1AHVAdYB1wHYAdkB2gHbAdwB3QHeAd8B4AHhAeIB4wHkAeUB5gHnAegB6QHqAesB7AHtAe4B7wHwAfEB8gHzAfQB9QH2AfcB+AH5AfoB+wH8Af0B/gH/AQACAQICAgMCBAIFAgYCBwI=",
          "dtype": "i2"
         },
         "xaxis": "x",
         "y": {
          "bdata": "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",
          "dtype": "i4"
         },
         "yaxis": "y"
        }
       ],
       "layout": {
        "legend": {
         "title": {
          "text": "variable"
         },
         "tracegroupgap": 0
        },
        "template": {
         "data": {
          "bar": [
           {
            "error_x": {
             "color": "#2a3f5f"
            },
            "error_y": {
             "color": "#2a3f5f"
            },
            "marker": {
             "line": {
              "color": "#E5ECF6",
              "width": 0.5
             },
             "pattern": {
              "fillmode": "overlay",
              "size": 10,
              "solidity": 0.2
             }
            },
            "type": "bar"
           }
          ],
          "barpolar": [
           {
            "marker": {
             "line": {
              "color": "#E5ECF6",
              "width": 0.5
             },
             "pattern": {
              "fillmode": "overlay",
              "size": 10,
              "solidity": 0.2
             }
            },
            "type": "barpolar"
           }
          ],
          "carpet": [
           {
            "aaxis": {
             "endlinecolor": "#2a3f5f",
             "gridcolor": "white",
             "linecolor": "white",
             "minorgridcolor": "white",
             "startlinecolor": "#2a3f5f"
            },
            "baxis": {
             "endlinecolor": "#2a3f5f",
             "gridcolor": "white",
             "linecolor": "white",
             "minorgridcolor": "white",
             "startlinecolor": "#2a3f5f"
            },
            "type": "carpet"
           }
          ],
          "choropleth": [
           {
            "colorbar": {
             "outlinewidth": 0,
             "ticks": ""
            },
            "type": "choropleth"
           }
          ],
          "contour": [
           {
            "colorbar": {
             "outlinewidth": 0,
             "ticks": ""
            },
            "colorscale": [
             [
              0,
              "#0d0887"
             ],
             [
              0.1111111111111111,
              "#46039f"
             ],
             [
              0.2222222222222222,
              "#7201a8"
             ],
             [
              0.3333333333333333,
              "#9c179e"
             ],
             [
              0.4444444444444444,
              "#bd3786"
             ],
             [
              0.5555555555555556,
              "#d8576b"
             ],
             [
              0.6666666666666666,
              "#ed7953"
             ],
             [
              0.7777777777777778,
              "#fb9f3a"
             ],
             [
              0.8888888888888888,
              "#fdca26"
             ],
             [
              1,
              "#f0f921"
             ]
            ],
            "type": "contour"
           }
          ],
          "contourcarpet": [
           {
            "colorbar": {
             "outlinewidth": 0,
             "ticks": ""
            },
            "type": "contourcarpet"
           }
          ],
          "heatmap": [
           {
            "colorbar": {
             "outlinewidth": 0,
             "ticks": ""
            },
            "colorscale": [
             [
              0,
              "#0d0887"
             ],
             [
              0.1111111111111111,
              "#46039f"
             ],
             [
              0.2222222222222222,
              "#7201a8"
             ],
             [
              0.3333333333333333,
              "#9c179e"
             ],
             [
              0.4444444444444444,
              "#bd3786"
             ],
             [
              0.5555555555555556,
              "#d8576b"
             ],
             [
              0.6666666666666666,
              "#ed7953"
             ],
             [
              0.7777777777777778,
              "#fb9f3a"
             ],
             [
              0.8888888888888888,
              "#fdca26"
             ],
             [
              1,
              "#f0f921"
             ]
            ],
            "type": "heatmap"
           }
          ],
          "histogram": [
           {
            "marker": {
             "pattern": {
              "fillmode": "overlay",
              "size": 10,
              "solidity": 0.2
             }
            },
            "type": "histogram"
           }
          ],
          "histogram2d": [
           {
            "colorbar": {
             "outlinewidth": 0,
             "ticks": ""
            },
            "colorscale": [
             [
              0,
              "#0d0887"
             ],
             [
              0.1111111111111111,
              "#46039f"
             ],
             [
              0.2222222222222222,
              "#7201a8"
             ],
             [
              0.3333333333333333,
              "#9c179e"
             ],
             [
              0.4444444444444444,
              "#bd3786"
             ],
             [
              0.5555555555555556,
              "#d8576b"
             ],
             [
              0.6666666666666666,
              "#ed7953"
             ],
             [
              0.7777777777777778,
              "#fb9f3a"
             ],
             [
              0.8888888888888888,
              "#fdca26"
             ],
             [
              1,
              "#f0f921"
             ]
            ],
            "type": "histogram2d"
           }
          ],
          "histogram2dcontour": [
           {
            "colorbar": {
             "outlinewidth": 0,
             "ticks": ""
            },
            "colorscale": [
             [
              0,
              "#0d0887"
             ],
             [
              0.1111111111111111,
              "#46039f"
             ],
             [
              0.2222222222222222,
              "#7201a8"
             ],
             [
              0.3333333333333333,
              "#9c179e"
             ],
             [
              0.4444444444444444,
              "#bd3786"
             ],
             [
              0.5555555555555556,
              "#d8576b"
             ],
             [
              0.6666666666666666,
              "#ed7953"
             ],
             [
              0.7777777777777778,
              "#fb9f3a"
             ],
             [
              0.8888888888888888,
              "#fdca26"
             ],
             [
              1,
              "#f0f921"
             ]
            ],
            "type": "histogram2dcontour"
           }
          ],
          "mesh3d": [
           {
            "colorbar": {
             "outlinewidth": 0,
             "ticks": ""
            },
            "type": "mesh3d"
           }
          ],
          "parcoords": [
           {
            "line": {
             "colorbar": {
              "outlinewidth": 0,
              "ticks": ""
             }
            },
            "type": "parcoords"
           }
          ],
          "pie": [
           {
            "automargin": true,
            "type": "pie"
           }
          ],
          "scatter": [
           {
            "fillpattern": {
             "fillmode": "overlay",
             "size": 10,
             "solidity": 0.2
            },
            "type": "scatter"
           }
          ],
          "scatter3d": [
           {
            "line": {
             "colorbar": {
              "outlinewidth": 0,
              "ticks": ""
             }
            },
            "marker": {
             "colorbar": {
              "outlinewidth": 0,
              "ticks": ""
             }
            },
            "type": "scatter3d"
           }
          ],
          "scattercarpet": [
           {
            "marker": {
             "colorbar": {
              "outlinewidth": 0,
              "ticks": ""
             }
            },
            "type": "scattercarpet"
           }
          ],
          "scattergeo": [
           {
            "marker": {
             "colorbar": {
              "outlinewidth": 0,
              "ticks": ""
             }
            },
            "type": "scattergeo"
           }
          ],
          "scattergl": [
           {
            "marker": {
             "colorbar": {
              "outlinewidth": 0,
              "ticks": ""
             }
            },
            "type": "scattergl"
           }
          ],
          "scattermap": [
           {
            "marker": {
             "colorbar": {
              "outlinewidth": 0,
              "ticks": ""
             }
            },
            "type": "scattermap"
           }
          ],
          "scattermapbox": [
           {
            "marker": {
             "colorbar": {
              "outlinewidth": 0,
              "ticks": ""
             }
            },
            "type": "scattermapbox"
           }
          ],
          "scatterpolar": [
           {
            "marker": {
             "colorbar": {
              "outlinewidth": 0,
              "ticks": ""
             }
            },
            "type": "scatterpolar"
           }
          ],
          "scatterpolargl": [
           {
            "marker": {
             "colorbar": {
              "outlinewidth": 0,
              "ticks": ""
             }
            },
            "type": "scatterpolargl"
           }
          ],
          "scatterternary": [
           {
            "marker": {
             "colorbar": {
              "outlinewidth": 0,
              "ticks": ""
             }
            },
            "type": "scatterternary"
           }
          ],
          "surface": [
           {
            "colorbar": {
             "outlinewidth": 0,
             "ticks": ""
            },
            "colorscale": [
             [
              0,
              "#0d0887"
             ],
             [
              0.1111111111111111,
              "#46039f"
             ],
             [
              0.2222222222222222,
              "#7201a8"
             ],
             [
              0.3333333333333333,
              "#9c179e"
             ],
             [
              0.4444444444444444,
              "#bd3786"
             ],
             [
              0.5555555555555556,
              "#d8576b"
             ],
             [
              0.6666666666666666,
              "#ed7953"
             ],
             [
              0.7777777777777778,
              "#fb9f3a"
             ],
             [
              0.8888888888888888,
              "#fdca26"
             ],
             [
              1,
              "#f0f921"
             ]
            ],
            "type": "surface"
           }
          ],
          "table": [
           {
            "cells": {
             "fill": {
              "color": "#EBF0F8"
             },
             "line": {
              "color": "white"
             }
            },
            "header": {
             "fill": {
              "color": "#C8D4E3"
             },
             "line": {
              "color": "white"
             }
            },
            "type": "table"
           }
          ]
         },
         "layout": {
          "annotationdefaults": {
           "arrowcolor": "#2a3f5f",
           "arrowhead": 0,
           "arrowwidth": 1
          },
          "autotypenumbers": "strict",
          "coloraxis": {
           "colorbar": {
            "outlinewidth": 0,
            "ticks": ""
           }
          },
          "colorscale": {
           "diverging": [
            [
             0,
             "#8e0152"
            ],
            [
             0.1,
             "#c51b7d"
            ],
            [
             0.2,
             "#de77ae"
            ],
            [
             0.3,
             "#f1b6da"
            ],
            [
             0.4,
             "#fde0ef"
            ],
            [
             0.5,
             "#f7f7f7"
            ],
            [
             0.6,
             "#e6f5d0"
            ],
            [
             0.7,
             "#b8e186"
            ],
            [
             0.8,
             "#7fbc41"
            ],
            [
             0.9,
             "#4d9221"
            ],
            [
             1,
             "#276419"
            ]
           ],
           "sequential": [
            [
             0,
             "#0d0887"
            ],
            [
             0.1111111111111111,
             "#46039f"
            ],
            [
             0.2222222222222222,
             "#7201a8"
            ],
            [
             0.3333333333333333,
             "#9c179e"
            ],
            [
             0.4444444444444444,
             "#bd3786"
            ],
            [
             0.5555555555555556,
             "#d8576b"
            ],
            [
             0.6666666666666666,
             "#ed7953"
            ],
            [
             0.7777777777777778,
             "#fb9f3a"
            ],
            [
             0.8888888888888888,
             "#fdca26"
            ],
            [
             1,
             "#f0f921"
            ]
           ],
           "sequentialminus": [
            [
             0,
             "#0d0887"
            ],
            [
             0.1111111111111111,
             "#46039f"
            ],
            [
             0.2222222222222222,
             "#7201a8"
            ],
            [
             0.3333333333333333,
             "#9c179e"
            ],
            [
             0.4444444444444444,
             "#bd3786"
            ],
            [
             0.5555555555555556,
             "#d8576b"
            ],
            [
             0.6666666666666666,
             "#ed7953"
            ],
            [
             0.7777777777777778,
             "#fb9f3a"
            ],
            [
             0.8888888888888888,
             "#fdca26"
            ],
            [
             1,
             "#f0f921"
            ]
           ]
          },
          "colorway": [
           "#636efa",
           "#EF553B",
           "#00cc96",
           "#ab63fa",
           "#FFA15A",
           "#19d3f3",
           "#FF6692",
           "#B6E880",
           "#FF97FF",
           "#FECB52"
          ],
          "font": {
           "color": "#2a3f5f"
          },
          "geo": {
           "bgcolor": "white",
           "lakecolor": "white",
           "landcolor": "#E5ECF6",
           "showlakes": true,
           "showland": true,
           "subunitcolor": "white"
          },
          "hoverlabel": {
           "align": "left"
          },
          "hovermode": "closest",
          "mapbox": {
           "style": "light"
          },
          "paper_bgcolor": "white",
          "plot_bgcolor": "#E5ECF6",
          "polar": {
           "angularaxis": {
            "gridcolor": "white",
            "linecolor": "white",
            "ticks": ""
           },
           "bgcolor": "#E5ECF6",
           "radialaxis": {
            "gridcolor": "white",
            "linecolor": "white",
            "ticks": ""
           }
          },
          "scene": {
           "xaxis": {
            "backgroundcolor": "#E5ECF6",
            "gridcolor": "white",
            "gridwidth": 2,
            "linecolor": "white",
            "showbackground": true,
            "ticks": "",
            "zerolinecolor": "white"
           },
           "yaxis": {
            "backgroundcolor": "#E5ECF6",
            "gridcolor": "white",
            "gridwidth": 2,
            "linecolor": "white",
            "showbackground": true,
            "ticks": "",
            "zerolinecolor": "white"
           },
           "zaxis": {
            "backgroundcolor": "#E5ECF6",
            "gridcolor": "white",
            "gridwidth": 2,
            "linecolor": "white",
            "showbackground": true,
            "ticks": "",
            "zerolinecolor": "white"
           }
          },
          "shapedefaults": {
           "line": {
            "color": "#2a3f5f"
           }
          },
          "ternary": {
           "aaxis": {
            "gridcolor": "white",
            "linecolor": "white",
            "ticks": ""
           },
           "baxis": {
            "gridcolor": "white",
            "linecolor": "white",
            "ticks": ""
           },
           "bgcolor": "#E5ECF6",
           "caxis": {
            "gridcolor": "white",
            "linecolor": "white",
            "ticks": ""
           }
          },
          "title": {
           "x": 0.05
          },
          "xaxis": {
           "automargin": true,
           "gridcolor": "white",
           "linecolor": "white",
           "ticks": "",
           "title": {
            "standoff": 15
           },
           "zerolinecolor": "white",
           "zerolinewidth": 2
          },
          "yaxis": {
           "automargin": true,
           "gridcolor": "white",
           "linecolor": "white",
           "ticks": "",
           "title": {
            "standoff": 15
           },
           "zerolinecolor": "white",
           "zerolinewidth": 2
          }
         }
        },
        "title": {
         "text": "VertexAIMaaS - gemini-2.5-flash"
        },
        "xaxis": {
         "anchor": "y",
         "domain": [
          0,
          1
         ],
         "title": {
          "text": "index"
         }
        },
        "yaxis": {
         "anchor": "x",
         "domain": [
          0,
          1
         ],
         "title": {
          "text": "value"
         }
        }
       }
      }
     },
     "metadata": {},
     "output_type": "display_data"
    },
    {
     "data": {
      "application/vnd.plotly.v1+json": {
       "config": {
        "plotlyServerURL": "https://plot.ly"
       },
       "data": [
        {
         "hovertemplate": "variable=Total Request Count<br>index=%{x}<br>value=%{y}<extra></extra>",
         "legendgroup": "Total Request Count",
         "line": {
          "color": "#636efa",
          "dash": "solid"
         },
         "marker": {
          "symbol": "circle"
         },
         "mode": "lines",
         "name": "Total Request Count",
         "showlegend": true,
         "type": "scattergl",
         "x": {
          "bdata": "AAABAAIAAwAEAAUABgAHAAgACQAKAAsADAANAA4ADwAQABEAEgATABQAFQAWABcAGAAZABoAGwAcAB0AHgAfACAAIQAiACMAJAAlACYAJwAoACkAKgArACwALQAuAC8AMAAxADIAMwA0ADUANgA3ADgAOQA6ADsAPAA9AD4APwBAAEEAQgBDAEQARQBGAEcASABJAEoASwBMAE0ATgBPAFAAUQBSAFMAVABVAFYAVwBYAFkAWgBbAFwAXQBeAF8AYABhAGIAYwBkAGUAZgBnAGgAaQBqAGsAbABtAG4AbwBwAHEAcgBzAHQAdQB2AHcAeAB5AHoAewB8AH0AfgB/AIAAgQCCAIMAhACFAIYAhwCIAIkAigCLAIwAjQCOAI8AkACRAJIAkwCUAJUAlgCXAJgAmQCaAJsAnACdAJ4AnwCgAKEAogCjAKQApQCmAKcAqACpAKoAqwCsAK0ArgCvALAAsQCyALMAtAC1ALYAtwC4ALkAugC7ALwAvQC+AL8AwADBAMIAwwDEAMUAxgDHAMgAyQDKAMsAzADNAM4AzwDQANEA0gDTANQA1QDWANcA2ADZANoA2wDcAN0A3gDfAOAA4QDiAOMA5ADlAOYA5wDoAOkA6gDrAOwA7QDuAO8A8ADxAPIA8wD0APUA9gD3APgA+QD6APsA/AD9AP4A/wAAAQEBAgEDAQQBBQEGAQcBCAEJAQoBCwEMAQ0BDgEPARABEQESARMBFAEVARYBFwEYARkBGgEbARwBHQEeAR8BIAEhASIBIwEkASUBJgEnASgBKQEqASsBLAEtAS4BLwEwATEBMgEzATQBNQE2ATcBOAE5AToBOwE8AT0BPgE/AUABQQFCAUMBRAFFAUYBRwFIAUkBSgFLAUwBTQFOAU8BUAFRAVIBUwFUAVUBVgFXAVgBWQFaAVsBXAFdAV4BXwFgAWEBYgFjAWQBZQFmAWcBaAFpAWoBawFsAW0BbgFvAXABcQFyAXMBdAF1AXYBdwF4AXkBegF7AXwBfQF+AX8BgAGBAYIBgwGEAYUBhgGHAYgBiQGKAYsBjAGNAY4BjwGQAZEBkgGTAZQBlQGWAZcBmAGZAZoBmwGcAZ0BngGfAaABoQGiAaMBpAGlAaYBpwGoAakBqgGrAawBrQGuAa8BsAGxAbIBswG0AbUBtgG3AbgBuQG6AbsBvAG9Ab4BvwHAAcEBwgHDAcQBxQHGAccByAHJAcoBywHMAc0BzgHPAdAB0QHSAdMB1AHVAdYB1wHYAdkB2gHbAdwB3QHeAd8B4AHhAeIB4wHkAeUB5gHnAegB6QHqAesB7AHtAe4B7wHwAfEB8gHzAfQB9QH2AfcB+AH5AfoB+wH8Af0B/gH/AQACAQICAgMCBAIFAgYCBwIIAgkCCgILAgwCDQIOAg8CEAIRAhICEwIUAhUCFgIXAhgCGQIaAhsCHAIdAh4CHwIgAiECIgIjAiQCJQImAicCKAIpAioCKwIsAi0CLgIvAjACMQIyAjMCNAI1AjYCNwI4AjkCOgI7AjwCPQI+Aj8CQAJBAkICQwJEAkUCRgJHAkgCSQJKAksC",
          "dtype": "i2"
         },
         "xaxis": "x",
         "y": {
          "bdata": "AAAAAAAAAAAAAAAAAAAAAAEAAAABAAAAAgAAAAIAAAAEAAAABAAAAAYAAAAGAAAACAAAAAgAAAAJAAAACQAAAAwAAAAMAAAADgAAAA4AAAAQAAAAEAAAABIAAAASAAAAFQAAABUAAAAYAAAAGAAAABsAAAAbAAAAIAAAACAAAAAoAAAAKAAAACsAAAArAAAAMgAAADIAAAA2AAAANgAAADwAAAA8AAAAQgAAAEIAAABHAAAARwAAAEwAAABMAAAAUAAAAFAAAABWAAAAVgAAAF4AAABeAAAAZgAAAGYAAABuAAAAbgAAAHYAAAB2AAAAewAAAHsAAACBAAAAgQAAAIkAAACJAAAAlQAAAJUAAACdAAAAnQAAAKEAAAChAAAAqgAAAKoAAAC1AAAAtQAAALsAAAC7AAAAxQAAAMUAAADOAAAAzgAAANUAAADVAAAA3gAAAN4AAADpAAAA6QAAAPAAAADwAAAA+QAAAPkAAAAGAQAABgEAABIBAAASAQAALAEAACwBAABSAQAAUgEAALgBAAC4AQAAYAIAAGACAAA4AwAAOAMAADEEAAAxBAAAXgUAAF4FAACyBgAAsgYAAAgIAAAICAAAlQkAAJUJAADKCgAAygoAADwMAAA8DAAAHw0AAB8NAAAxDQAAMQ0AADsNAAA7DQAARQ0AAEUNAABIDQAASA0AAE0NAABNDQAAUw0AAFMNAABjDQAAYw0AAIMNAACDDQAAjg0AAI4NAACaDQAAmg0AAKENAAChDQAAqQ0AAKkNAACyDQAAsg0AALwNAAC8DQAA0w0AANMNAADoDQAA6A0AAPoNAAD6DQAABw4AAAcOAAAUDgAAFA4AACEOAAAhDgAAPQ4AAD0OAADEDgAAxA4AALwPAAC8DwAAChEAAAoRAACsEgAArBIAAH8UAAB/FAAAhxYAAIcWAADCGAAAwhgAAPoaAAD6GgAAQB0AAEAdAABPHwAATx8AAHQhAAB0IQAAHCIAABwiAABbJAAAWyQAAMkmAADJJgAAYCkAAGApAADAKwAAwCsAAAguAAAILgAACDAAAAgwAADPMQAAzzEAABM0AAATNAAAtjYAALY2AADLOAAAyzgAAC47AAAuOwAAzT0AAM09AACsQAAArEAAAHNDAABzQwAAI0YAACNGAADtSAAA7UgAAO1LAADtSwAAj04AAI9OAABcUQAAXFEAAIxTAACMUwAAV1YAAFdWAABFWQAARVkAAHtbAAB7WwAAIV4AACFeAAAAYQAAAGEAAAFkAAABZAAAKmYAACpmAABCZgAAQmYAAFZmAABWZgAAZWYAAGVmAAByZgAAcmYAAH5mAAB+ZgAAhWYAAIVmAACZZgAAmWYAANZmAADWZgAA7WYAAO1mAAD2ZgAA9mYAAAdnAAAHZwAAF2cAABdnAAAnZwAAJ2cAADxnAAA8ZwAAXmcAAF5nAACHZwAAh2cAAKNnAACjZwAA4mcAAOJnAACOaAAAjmgAALNpAACzaQAA/GoAAPxqAAA1bQAANW0AANVvAADVbwAAXHIAAFxyAADrcwAA63MAABl1AAAZdQAA0HcAANB3AADTegAA03oAAFN9AABTfQAA6n4AAOp+AABXgAAAV4AAAJ2BAACdgQAAM4UAADOFAAAFiQAABYkAAOyMAADsjAAAmZAAAJmQAADekwAA3pMAANCWAADQlgAAw5gAAMOYAAAwnAAAMJwAANydAADcnQAAHp8AAB6fAADdoQAA3aEAAEOlAABDpQAAVqgAAFaoAABCqwAAQqsAANeuAADXrgAAQ7IAAEOyAAARtQAAEbUAAHO3AABztwAA5bkAAOW5AABOvQAATr0AAEfAAABHwAAAxsMAAMbDAACYxwAAmMcAAPjKAAD4ygAAGs4AABrOAABo0QAAaNEAACHUAAAh1AAACdYAAAnWAABg1gAAYNYAAK7WAACu1gAA+tYAAPrWAAAm1wAAJtcAADnXAAA51wAASdcAAEnXAACE1wAAhNcAALPXAACz1wAA1NcAANTXAADq1wAA6tcAAAbYAAAG2AAAH9gAAB/YAAA+2AAAPtgAAH3YAAB92AAAdtkAAHbZAAB52wAAedsAAPvdAAD73QAAHuEAAB7hAAC25AAAtuQAAEzoAABM6AAAFuwAABbsAABv8AAAb/AAAPT0AAD09AAAOvkAADr5AAD9/AAA/fwAAP8AAQD/AAEAnQQBAJ0EAQCdCAEAnQgBAJcMAQCXDAEAhhABAIYQAQChFAEAoRQBAIMYAQCDGAEAAhwBAAIcAQD4HwEA+B8BAJcjAQCXIwEAwScBAMEnAQA/KwEAPysBAMEuAQDBLgEAbzIBAG8yAQDINQEAyDUBAHw5AQB8OQEAFTwBABU8AQBpPgEAaT4BAJFAAQCRQAEAdUEBAHVBAQCuQwEArkMBAORGAQDkRgEAikkBAIpJAQC/TAEAv0wBAEZQAQBGUAEAtFQBALRUAQCCVwEAglcBACFbAQAhWwEAIF8BACBfAQBrYwEAa2MBAKJnAQCiZwEAj2sBAI9rAQDLbgEAy24BACdyAQAncgEAT3UBAE91AQCueAEArngBAAd9AQAHfQEAJ4ABACeAAQAKgwEACoMBAImHAQCJhwEAcokBAHKJAQCUigEAlIoBAKKKAQCiigEAv4oBAL+KAQAmiwEAJosBAMWLAQDFiwEAoYwBAKGMAQArjgEAK44BAIyQAQCMkAEAPJQBADyUAQDdlQEA3ZUBAO2YAQDtmAEAoJwBAKCcAQCCoAEAgqABABOiAQATogEANaYBADWmAQAqqgEAKqoBAOWtAQDlrQEA7LABAOywAQAttQEALbUBAJO5AQCTuQEAA70BAAO9AQDRwAEA0cABAE7FAQBOxQEALsgBAC7IAQBlywEAZcsBAMLNAQDCzQEAHdABAB3QAQA00wEANNMBADvYAQA72AEA/9sBAP/bAQBq4AEAauABAMDkAQDA5AEAlugBAJboAQB46gEAeOoBAFftAQBX7QEAL/EBAC/xAQDy9QEA8vUBAEf6AQBH+gEA3v4BAN7+AQAjAQIAIwECAC8DAgAvAwIA/gcCAP4HAgBRCwIAUQsCACkOAgApDgIAdBICAHQSAgC2FgIAthYCANoaAgDaGgIA",
          "dtype": "i4"
         },
         "yaxis": "y"
        },
        {
         "hovertemplate": "variable=Total Failure Count<br>index=%{x}<br>value=%{y}<extra></extra>",
         "legendgroup": "Total Failure Count",
         "line": {
          "color": "#EF553B",
          "dash": "solid"
         },
         "marker": {
          "symbol": "circle"
         },
         "mode": "lines",
         "name": "Total Failure Count",
         "showlegend": true,
         "type": "scattergl",
         "x": {
          "bdata": "AAABAAIAAwAEAAUABgAHAAgACQAKAAsADAANAA4ADwAQABEAEgATABQAFQAWABcAGAAZABoAGwAcAB0AHgAfACAAIQAiACMAJAAlACYAJwAoACkAKgArACwALQAuAC8AMAAxADIAMwA0ADUANgA3ADgAOQA6ADsAPAA9AD4APwBAAEEAQgBDAEQARQBGAEcASABJAEoASwBMAE0ATgBPAFAAUQBSAFMAVABVAFYAVwBYAFkAWgBbAFwAXQBeAF8AYABhAGIAYwBkAGUAZgBnAGgAaQBqAGsAbABtAG4AbwBwAHEAcgBzAHQAdQB2AHcAeAB5AHoAewB8AH0AfgB/AIAAgQCCAIMAhACFAIYAhwCIAIkAigCLAIwAjQCOAI8AkACRAJIAkwCUAJUAlgCXAJgAmQCaAJsAnACdAJ4AnwCgAKEAogCjAKQApQCmAKcAqACpAKoAqwCsAK0ArgCvALAAsQCyALMAtAC1ALYAtwC4ALkAugC7ALwAvQC+AL8AwADBAMIAwwDEAMUAxgDHAMgAyQDKAMsAzADNAM4AzwDQANEA0gDTANQA1QDWANcA2ADZANoA2wDcAN0A3gDfAOAA4QDiAOMA5ADlAOYA5wDoAOkA6gDrAOwA7QDuAO8A8ADxAPIA8wD0APUA9gD3APgA+QD6APsA/AD9AP4A/wAAAQEBAgEDAQQBBQEGAQcBCAEJAQoBCwEMAQ0BDgEPARABEQESARMBFAEVARYBFwEYARkBGgEbARwBHQEeAR8BIAEhASIBIwEkASUBJgEnASgBKQEqASsBLAEtAS4BLwEwATEBMgEzATQBNQE2ATcBOAE5AToBOwE8AT0BPgE/AUABQQFCAUMBRAFFAUYBRwFIAUkBSgFLAUwBTQFOAU8BUAFRAVIBUwFUAVUBVgFXAVgBWQFaAVsBXAFdAV4BXwFgAWEBYgFjAWQBZQFmAWcBaAFpAWoBawFsAW0BbgFvAXABcQFyAXMBdAF1AXYBdwF4AXkBegF7AXwBfQF+AX8BgAGBAYIBgwGEAYUBhgGHAYgBiQGKAYsBjAGNAY4BjwGQAZEBkgGTAZQBlQGWAZcBmAGZAZoBmwGcAZ0BngGfAaABoQGiAaMBpAGlAaYBpwGoAakBqgGrAawBrQGuAa8BsAGxAbIBswG0AbUBtgG3AbgBuQG6AbsBvAG9Ab4BvwHAAcEBwgHDAcQBxQHGAccByAHJAcoBywHMAc0BzgHPAdAB0QHSAdMB1AHVAdYB1wHYAdkB2gHbAdwB3QHeAd8B4AHhAeIB4wHkAeUB5gHnAegB6QHqAesB7AHtAe4B7wHwAfEB8gHzAfQB9QH2AfcB+AH5AfoB+wH8Af0B/gH/AQACAQICAgMCBAIFAgYCBwIIAgkCCgILAgwCDQIOAg8CEAIRAhICEwIUAhUCFgIXAhgCGQIaAhsCHAIdAh4CHwIgAiECIgIjAiQCJQImAicCKAIpAioCKwIsAi0CLgIvAjACMQIyAjMCNAI1AjYCNwI4AjkCOgI7AjwCPQI+Aj8CQAJBAkICQwJEAkUCRgJHAkgCSQJKAksC",
          "dtype": "i2"
         },
         "xaxis": "x",
         "y": {
          "bdata": "AAAAAAAAAAAAAAAAAAAAAAAAAAAAAAAAAAAAAAAAAAAAAAAAAAAAAAAAAAAAAAAAAAAAAAAAAAAAAAAAAAAAAAAAAAAAAAAAAAAAAAAAAAAAAAAAAAAAAAAAAAAAAAAAAAAAAAAAAAAAAAAAAAAAAAAAAAAAAAAAAAAAAAAAAAAAAAAAAAAAAAAAAAAAAAAAAAAAAAAAAAAAAAAAAAAAAAAAAAAAAAAAAAAAAAAAAAAAAAAAAAAAAAAAAAAAAAAAAAAAAAAAAAAAAAAAAAAAAAAAAAAAAAAAAAAAAAAAAAAAAAAAAAAAAAAAAAAAAAAAAAAAAAAAAAAAAAAAAAAAAAAAAAAAAAAAAAAAAAAAAAAAAAAAAAAAAAAAAAAAAAAAAAAAAAAAAAAAAAAAAAAAAAAAAAAAAAAAAAAAAAAAAAAAAAAAAAAAAAAAAAAAAAAAAAAAAAAAAAAAAAAAAAAAAAAAAAAAAAAAAAAAAAAAAAAAAAAAAAAAAAEAAAABAAAAEgAAABIAAAAxAAAAMQAAAIsAAACLAAAALQEAAC0BAAD+AQAA/gEAAPECAADxAgAAGgQAABoEAABqBQAAagUAALwGAAC8BgAASQgAAEkIAAB+CQAAfgkAAPAKAADwCgAA0wsAANMLAADeCwAA3gsAAOELAADhCwAA5AsAAOQLAADlCwAA5QsAAOYLAADmCwAA6AsAAOgLAADqCwAA6gsAAOoLAADqCwAA6gsAAOoLAADqCwAA6gsAAOoLAADqCwAA6gsAAOoLAADqCwAA6gsAAOoLAADqCwAA6gsAAOoLAADqCwAA6gsAAOoLAADqCwAA6gsAAOoLAADqCwAA6gsAAOoLAADqCwAA+AsAAPgLAABsDAAAbAwAAFYNAABWDQAAmQ4AAJkOAAAwEAAAMBAAAP0RAAD9EQAA/hMAAP4TAAA0FgAANBYAAGoYAABqGAAAsBoAALAaAAC+HAAAvhwAAOMeAADjHgAAix8AAIsfAADKIQAAyiEAADgkAAA4JAAAzyYAAM8mAAAvKQAALykAAHcrAAB3KwAAdy0AAHctAAA+LwAAPi8AAIIxAACCMQAAJTQAACU0AAA6NgAAOjYAAJ04AACdOAAAPDsAADw7AAAbPgAAGz4AAOJAAADiQAAAkkMAAJJDAABcRgAAXEYAAFxJAABcSQAA/ksAAP5LAADLTgAAy04AAPtQAAD7UAAAxlMAAMZTAAC0VgAAtFYAAOpYAADqWAAAkFsAAJBbAABvXgAAb14AAHBhAABwYQAAmWMAAJljAACuYwAArmMAALljAAC5YwAAwWMAAMFjAADHYwAAx2MAAMtjAADLYwAAy2MAAMtjAADNYwAAzWMAAM1jAADNYwAAzWMAAM1jAADNYwAAzWMAAM1jAADNYwAAzWMAAM1jAADNYwAAzWMAAM1jAADNYwAAzWMAAM1jAADPYwAAz2MAANpjAADaYwAABWQAAAVkAACfZAAAn2QAALVlAAC1ZQAA6WYAAOlmAAAKaQAACmkAAJZrAACWawAACm4AAApuAACVbwAAlW8AAMBwAADAcAAAd3MAAHdzAAB6dgAAenYAAPp4AAD6eAAAkXoAAJF6AAD+ewAA/nsAAER9AABEfQAA2oAAANqAAACshAAArIQAAJOIAACTiAAAQIwAAECMAACFjwAAhY8AAHeSAAB3kgAAapQAAGqUAADXlwAA15cAAIOZAACDmQAAxZoAAMWaAACEnQAAhJ0AAOqgAADqoAAA/aMAAP2jAADppgAA6aYAAH6qAAB+qgAA6q0AAOqtAAC4sAAAuLAAABqzAAAaswAAjLUAAIy1AAD1uAAA9bgAAO67AADuuwAAbb8AAG2/AAA/wwAAP8MAAJ/GAACfxgAAwckAAMHJAAAPzQAAD80AAMjPAADIzwAArNEAAKzRAAD30QAA99EAADrSAAA60gAAcNIAAHDSAACO0gAAjtIAAJLSAACS0gAAktIAAJLSAACU0gAAlNIAAJTSAACU0gAAlNIAAJTSAACU0gAAlNIAAJTSAACU0gAAlNIAAJTSAACU0gAAlNIAALLSAACy0gAAgNMAAIDTAABi1QAAYtUAAM3XAADN1wAA3toAAN7aAABi3gAAYt4AAOXhAADl4QAAneUAAJ3lAADu6QAA7ukAAHHuAABx7gAAt/IAALfyAAB69gAAevYAAHz6AAB8+gAAGv4AABr+AAAaAgEAGgIBABQGAQAUBgEAAwoBAAMKAQAeDgEAHg4BAAASAQAAEgEAfxUBAH8VAQB1GQEAdRkBABQdAQAUHQEAPiEBAD4hAQC8JAEAvCQBAD4oAQA+KAEA7CsBAOwrAQBFLwEARS8BAPkyAQD5MgEAkjUBAJI1AQDmNwEA5jcBAA46AQAOOgEA8joBAPI6AQArPQEAKz0BAGFAAQBhQAEAB0MBAAdDAQA8RgEAPEYBAMNJAQDDSQEAMU4BADFOAQD/UAEA/1ABAJ5UAQCeVAEAnVgBAJ1YAQDoXAEA6FwBAB9hAQAfYQEADGUBAAxlAQBIaAEASGgBAKRrAQCkawEAzG4BAMxuAQArcgEAK3IBAIR2AQCEdgEApHkBAKR5AQCHfAEAh3wBAAaBAQAGgQEA74IBAO+CAQAQhAEAEIQBABOEAQAThAEAH4QBAB+EAQBxhAEAcYQBAPyEAQD8hAEAyYUBAMmFAQBAhwEAQIcBAHGJAQBxiQEAwIwBAMCMAQBMjgEATI4BAFORAQBTkQEAAJUBAACVAQDimAEA4pgBAHOaAQBzmgEAlZ4BAJWeAQCKogEAiqIBAEWmAQBFpgEATKkBAEypAQCNrQEAja0BAPOxAQDzsQEAY7UBAGO1AQAxuQEAMbkBAK69AQCuvQEAjsABAI7AAQDFwwEAxcMBACLGAQAixgEAfcgBAH3IAQCUywEAlMsBAJvQAQCb0AEAX9QBAF/UAQDK2AEAytgBACDdAQAg3QEA9uABAPbgAQDY4gEA2OIBALflAQC35QEAj+kBAI/pAQBS7gEAUu4BAKfyAQCn8gEAPvcBAD73AQCD+QEAg/kBAI/7AQCP+wEAXgACAF4AAgCxAwIAsQMCAIkGAgCJBgIA1AoCANQKAgAWDwIAFg8CADoTAgA6EwIA",
          "dtype": "i4"
         },
         "yaxis": "y"
        }
       ],
       "layout": {
        "legend": {
         "title": {
          "text": "variable"
         },
         "tracegroupgap": 0
        },
        "template": {
         "data": {
          "bar": [
           {
            "error_x": {
             "color": "#2a3f5f"
            },
            "error_y": {
             "color": "#2a3f5f"
            },
            "marker": {
             "line": {
              "color": "#E5ECF6",
              "width": 0.5
             },
             "pattern": {
              "fillmode": "overlay",
              "size": 10,
              "solidity": 0.2
             }
            },
            "type": "bar"
           }
          ],
          "barpolar": [
           {
            "marker": {
             "line": {
              "color": "#E5ECF6",
              "width": 0.5
             },
             "pattern": {
              "fillmode": "overlay",
              "size": 10,
              "solidity": 0.2
             }
            },
            "type": "barpolar"
           }
          ],
          "carpet": [
           {
            "aaxis": {
             "endlinecolor": "#2a3f5f",
             "gridcolor": "white",
             "linecolor": "white",
             "minorgridcolor": "white",
             "startlinecolor": "#2a3f5f"
            },
            "baxis": {
             "endlinecolor": "#2a3f5f",
             "gridcolor": "white",
             "linecolor": "white",
             "minorgridcolor": "white",
             "startlinecolor": "#2a3f5f"
            },
            "type": "carpet"
           }
          ],
          "choropleth": [
           {
            "colorbar": {
             "outlinewidth": 0,
             "ticks": ""
            },
            "type": "choropleth"
           }
          ],
          "contour": [
           {
            "colorbar": {
             "outlinewidth": 0,
             "ticks": ""
            },
            "colorscale": [
             [
              0,
              "#0d0887"
             ],
             [
              0.1111111111111111,
              "#46039f"
             ],
             [
              0.2222222222222222,
              "#7201a8"
             ],
             [
              0.3333333333333333,
              "#9c179e"
             ],
             [
              0.4444444444444444,
              "#bd3786"
             ],
             [
              0.5555555555555556,
              "#d8576b"
             ],
             [
              0.6666666666666666,
              "#ed7953"
             ],
             [
              0.7777777777777778,
              "#fb9f3a"
             ],
             [
              0.8888888888888888,
              "#fdca26"
             ],
             [
              1,
              "#f0f921"
             ]
            ],
            "type": "contour"
           }
          ],
          "contourcarpet": [
           {
            "colorbar": {
             "outlinewidth": 0,
             "ticks": ""
            },
            "type": "contourcarpet"
           }
          ],
          "heatmap": [
           {
            "colorbar": {
             "outlinewidth": 0,
             "ticks": ""
            },
            "colorscale": [
             [
              0,
              "#0d0887"
             ],
             [
              0.1111111111111111,
              "#46039f"
             ],
             [
              0.2222222222222222,
              "#7201a8"
             ],
             [
              0.3333333333333333,
              "#9c179e"
             ],
             [
              0.4444444444444444,
              "#bd3786"
             ],
             [
              0.5555555555555556,
              "#d8576b"
             ],
             [
              0.6666666666666666,
              "#ed7953"
             ],
             [
              0.7777777777777778,
              "#fb9f3a"
             ],
             [
              0.8888888888888888,
              "#fdca26"
             ],
             [
              1,
              "#f0f921"
             ]
            ],
            "type": "heatmap"
           }
          ],
          "histogram": [
           {
            "marker": {
             "pattern": {
              "fillmode": "overlay",
              "size": 10,
              "solidity": 0.2
             }
            },
            "type": "histogram"
           }
          ],
          "histogram2d": [
           {
            "colorbar": {
             "outlinewidth": 0,
             "ticks": ""
            },
            "colorscale": [
             [
              0,
              "#0d0887"
             ],
             [
              0.1111111111111111,
              "#46039f"
             ],
             [
              0.2222222222222222,
              "#7201a8"
             ],
             [
              0.3333333333333333,
              "#9c179e"
             ],
             [
              0.4444444444444444,
              "#bd3786"
             ],
             [
              0.5555555555555556,
              "#d8576b"
             ],
             [
              0.6666666666666666,
              "#ed7953"
             ],
             [
              0.7777777777777778,
              "#fb9f3a"
             ],
             [
              0.8888888888888888,
              "#fdca26"
             ],
             [
              1,
              "#f0f921"
             ]
            ],
            "type": "histogram2d"
           }
          ],
          "histogram2dcontour": [
           {
            "colorbar": {
             "outlinewidth": 0,
             "ticks": ""
            },
            "colorscale": [
             [
              0,
              "#0d0887"
             ],
             [
              0.1111111111111111,
              "#46039f"
             ],
             [
              0.2222222222222222,
              "#7201a8"
             ],
             [
              0.3333333333333333,
              "#9c179e"
             ],
             [
              0.4444444444444444,
              "#bd3786"
             ],
             [
              0.5555555555555556,
              "#d8576b"
             ],
             [
              0.6666666666666666,
              "#ed7953"
             ],
             [
              0.7777777777777778,
              "#fb9f3a"
             ],
             [
              0.8888888888888888,
              "#fdca26"
             ],
             [
              1,
              "#f0f921"
             ]
            ],
            "type": "histogram2dcontour"
           }
          ],
          "mesh3d": [
           {
            "colorbar": {
             "outlinewidth": 0,
             "ticks": ""
            },
            "type": "mesh3d"
           }
          ],
          "parcoords": [
           {
            "line": {
             "colorbar": {
              "outlinewidth": 0,
              "ticks": ""
             }
            },
            "type": "parcoords"
           }
          ],
          "pie": [
           {
            "automargin": true,
            "type": "pie"
           }
          ],
          "scatter": [
           {
            "fillpattern": {
             "fillmode": "overlay",
             "size": 10,
             "solidity": 0.2
            },
            "type": "scatter"
           }
          ],
          "scatter3d": [
           {
            "line": {
             "colorbar": {
              "outlinewidth": 0,
              "ticks": ""
             }
            },
            "marker": {
             "colorbar": {
              "outlinewidth": 0,
              "ticks": ""
             }
            },
            "type": "scatter3d"
           }
          ],
          "scattercarpet": [
           {
            "marker": {
             "colorbar": {
              "outlinewidth": 0,
              "ticks": ""
             }
            },
            "type": "scattercarpet"
           }
          ],
          "scattergeo": [
           {
            "marker": {
             "colorbar": {
              "outlinewidth": 0,
              "ticks": ""
             }
            },
            "type": "scattergeo"
           }
          ],
          "scattergl": [
           {
            "marker": {
             "colorbar": {
              "outlinewidth": 0,
              "ticks": ""
             }
            },
            "type": "scattergl"
           }
          ],
          "scattermap": [
           {
            "marker": {
             "colorbar": {
              "outlinewidth": 0,
              "ticks": ""
             }
            },
            "type": "scattermap"
           }
          ],
          "scattermapbox": [
           {
            "marker": {
             "colorbar": {
              "outlinewidth": 0,
              "ticks": ""
             }
            },
            "type": "scattermapbox"
           }
          ],
          "scatterpolar": [
           {
            "marker": {
             "colorbar": {
              "outlinewidth": 0,
              "ticks": ""
             }
            },
            "type": "scatterpolar"
           }
          ],
          "scatterpolargl": [
           {
            "marker": {
             "colorbar": {
              "outlinewidth": 0,
              "ticks": ""
             }
            },
            "type": "scatterpolargl"
           }
          ],
          "scatterternary": [
           {
            "marker": {
             "colorbar": {
              "outlinewidth": 0,
              "ticks": ""
             }
            },
            "type": "scatterternary"
           }
          ],
          "surface": [
           {
            "colorbar": {
             "outlinewidth": 0,
             "ticks": ""
            },
            "colorscale": [
             [
              0,
              "#0d0887"
             ],
             [
              0.1111111111111111,
              "#46039f"
             ],
             [
              0.2222222222222222,
              "#7201a8"
             ],
             [
              0.3333333333333333,
              "#9c179e"
             ],
             [
              0.4444444444444444,
              "#bd3786"
             ],
             [
              0.5555555555555556,
              "#d8576b"
             ],
             [
              0.6666666666666666,
              "#ed7953"
             ],
             [
              0.7777777777777778,
              "#fb9f3a"
             ],
             [
              0.8888888888888888,
              "#fdca26"
             ],
             [
              1,
              "#f0f921"
             ]
            ],
            "type": "surface"
           }
          ],
          "table": [
           {
            "cells": {
             "fill": {
              "color": "#EBF0F8"
             },
             "line": {
              "color": "white"
             }
            },
            "header": {
             "fill": {
              "color": "#C8D4E3"
             },
             "line": {
              "color": "white"
             }
            },
            "type": "table"
           }
          ]
         },
         "layout": {
          "annotationdefaults": {
           "arrowcolor": "#2a3f5f",
           "arrowhead": 0,
           "arrowwidth": 1
          },
          "autotypenumbers": "strict",
          "coloraxis": {
           "colorbar": {
            "outlinewidth": 0,
            "ticks": ""
           }
          },
          "colorscale": {
           "diverging": [
            [
             0,
             "#8e0152"
            ],
            [
             0.1,
             "#c51b7d"
            ],
            [
             0.2,
             "#de77ae"
            ],
            [
             0.3,
             "#f1b6da"
            ],
            [
             0.4,
             "#fde0ef"
            ],
            [
             0.5,
             "#f7f7f7"
            ],
            [
             0.6,
             "#e6f5d0"
            ],
            [
             0.7,
             "#b8e186"
            ],
            [
             0.8,
             "#7fbc41"
            ],
            [
             0.9,
             "#4d9221"
            ],
            [
             1,
             "#276419"
            ]
           ],
           "sequential": [
            [
             0,
             "#0d0887"
            ],
            [
             0.1111111111111111,
             "#46039f"
            ],
            [
             0.2222222222222222,
             "#7201a8"
            ],
            [
             0.3333333333333333,
             "#9c179e"
            ],
            [
             0.4444444444444444,
             "#bd3786"
            ],
            [
             0.5555555555555556,
             "#d8576b"
            ],
            [
             0.6666666666666666,
             "#ed7953"
            ],
            [
             0.7777777777777778,
             "#fb9f3a"
            ],
            [
             0.8888888888888888,
             "#fdca26"
            ],
            [
             1,
             "#f0f921"
            ]
           ],
           "sequentialminus": [
            [
             0,
             "#0d0887"
            ],
            [
             0.1111111111111111,
             "#46039f"
            ],
            [
             0.2222222222222222,
             "#7201a8"
            ],
            [
             0.3333333333333333,
             "#9c179e"
            ],
            [
             0.4444444444444444,
             "#bd3786"
            ],
            [
             0.5555555555555556,
             "#d8576b"
            ],
            [
             0.6666666666666666,
             "#ed7953"
            ],
            [
             0.7777777777777778,
             "#fb9f3a"
            ],
            [
             0.8888888888888888,
             "#fdca26"
            ],
            [
             1,
             "#f0f921"
            ]
           ]
          },
          "colorway": [
           "#636efa",
           "#EF553B",
           "#00cc96",
           "#ab63fa",
           "#FFA15A",
           "#19d3f3",
           "#FF6692",
           "#B6E880",
           "#FF97FF",
           "#FECB52"
          ],
          "font": {
           "color": "#2a3f5f"
          },
          "geo": {
           "bgcolor": "white",
           "lakecolor": "white",
           "landcolor": "#E5ECF6",
           "showlakes": true,
           "showland": true,
           "subunitcolor": "white"
          },
          "hoverlabel": {
           "align": "left"
          },
          "hovermode": "closest",
          "mapbox": {
           "style": "light"
          },
          "paper_bgcolor": "white",
          "plot_bgcolor": "#E5ECF6",
          "polar": {
           "angularaxis": {
            "gridcolor": "white",
            "linecolor": "white",
            "ticks": ""
           },
           "bgcolor": "#E5ECF6",
           "radialaxis": {
            "gridcolor": "white",
            "linecolor": "white",
            "ticks": ""
           }
          },
          "scene": {
           "xaxis": {
            "backgroundcolor": "#E5ECF6",
            "gridcolor": "white",
            "gridwidth": 2,
            "linecolor": "white",
            "showbackground": true,
            "ticks": "",
            "zerolinecolor": "white"
           },
           "yaxis": {
            "backgroundcolor": "#E5ECF6",
            "gridcolor": "white",
            "gridwidth": 2,
            "linecolor": "white",
            "showbackground": true,
            "ticks": "",
            "zerolinecolor": "white"
           },
           "zaxis": {
            "backgroundcolor": "#E5ECF6",
            "gridcolor": "white",
            "gridwidth": 2,
            "linecolor": "white",
            "showbackground": true,
            "ticks": "",
            "zerolinecolor": "white"
           }
          },
          "shapedefaults": {
           "line": {
            "color": "#2a3f5f"
           }
          },
          "ternary": {
           "aaxis": {
            "gridcolor": "white",
            "linecolor": "white",
            "ticks": ""
           },
           "baxis": {
            "gridcolor": "white",
            "linecolor": "white",
            "ticks": ""
           },
           "bgcolor": "#E5ECF6",
           "caxis": {
            "gridcolor": "white",
            "linecolor": "white",
            "ticks": ""
           }
          },
          "title": {
           "x": 0.05
          },
          "xaxis": {
           "automargin": true,
           "gridcolor": "white",
           "linecolor": "white",
           "ticks": "",
           "title": {
            "standoff": 15
           },
           "zerolinecolor": "white",
           "zerolinewidth": 2
          },
          "yaxis": {
           "automargin": true,
           "gridcolor": "white",
           "linecolor": "white",
           "ticks": "",
           "title": {
            "standoff": 15
           },
           "zerolinecolor": "white",
           "zerolinewidth": 2
          }
         }
        },
        "title": {
         "text": "VertexAIMaaS - gemini-2.5-flash-thinking"
        },
        "xaxis": {
         "anchor": "y",
         "domain": [
          0,
          1
         ],
         "title": {
          "text": "index"
         }
        },
        "yaxis": {
         "anchor": "x",
         "domain": [
          0,
          1
         ],
         "title": {
          "text": "value"
         }
        }
       }
      }
     },
     "metadata": {},
     "output_type": "display_data"
    },
    {
     "data": {
      "application/vnd.plotly.v1+json": {
       "config": {
        "plotlyServerURL": "https://plot.ly"
       },
       "data": [
        {
         "hovertemplate": "variable=Total Request Count<br>index=%{x}<br>value=%{y}<extra></extra>",
         "legendgroup": "Total Request Count",
         "line": {
          "color": "#636efa",
          "dash": "solid"
         },
         "marker": {
          "symbol": "circle"
         },
         "mode": "lines",
         "name": "Total Request Count",
         "showlegend": true,
         "type": "scattergl",
         "x": {
          "bdata": "AAABAAIAAwAEAAUABgAHAAgACQAKAAsADAANAA4ADwAQABEAEgATABQAFQAWABcAGAAZABoAGwAcAB0AHgAfACAAIQAiACMAJAAlACYAJwAoACkAKgArACwALQAuAC8AMAAxADIAMwA0ADUANgA3ADgAOQA6ADsAPAA9AD4APwBAAEEAQgBDAEQARQBGAEcASABJAEoASwBMAE0ATgBPAFAAUQBSAFMAVABVAFYAVwBYAFkAWgBbAFwAXQBeAF8AYABhAGIAYwBkAGUAZgBnAGgAaQBqAGsAbABtAG4AbwBwAHEAcgBzAHQAdQB2AHcAeAB5AHoAewB8AH0AfgB/AIAAgQCCAIMAhACFAIYAhwCIAIkAigCLAIwAjQCOAI8AkACRAJIAkwCUAJUAlgCXAJgAmQCaAJsAnACdAJ4AnwCgAKEAogCjAKQApQCmAKcAqACpAKoAqwCsAK0ArgCvALAAsQCyALMAtAC1ALYAtwC4ALkAugC7ALwAvQC+AL8AwADBAMIAwwDEAMUAxgDHAMgAyQDKAMsAzADNAM4AzwDQANEA0gDTANQA1QDWANcA2ADZANoA2wDcAN0A3gDfAOAA4QDiAOMA5ADlAOYA5wDoAOkA6gDrAOwA7QDuAO8A8ADxAPIA8wD0APUA9gD3APgA+QD6APsA/AD9AP4A/wAAAQEBAgEDAQQBBQEGAQcBCAEJAQoBCwEMAQ0BDgEPARABEQESARMBFAEVARYBFwEYARkBGgEbARwBHQEeAR8BIAEhASIBIwEkASUBJgEnASgBKQEqASsBLAEtAS4BLwEwATEBMgEzATQBNQE2ATcBOAE5AToBOwE8AT0BPgE/AUABQQFCAUMBRAFFAUYBRwFIAUkBSgFLAUwBTQFOAU8BUAFRAVIBUwFUAVUBVgFXAVgBWQFaAVsBXAFdAV4BXwFgAWEBYgFjAWQBZQFmAWcBaAFpAWoBawFsAW0BbgFvAXABcQFyAXMBdAF1AXYBdwF4AXkBegF7AXwBfQF+AX8BgAGBAYIBgwGEAYUBhgGHAYgBiQGKAYsBjAGNAY4BjwGQAZEBkgGTAZQBlQGWAZcBmAGZAZoBmwGcAZ0BngGfAaABoQGiAaMBpAGlAaYBpwGoAakBqgGrAawBrQGuAa8BsAGxAbIBswG0AbUBtgG3AbgBuQG6AbsBvAG9Ab4BvwHAAcEBwgHDAcQBxQHGAccByAHJAcoBywHMAc0BzgHPAdAB0QHSAdMB1AHVAdYB1wHYAdkB2gHbAdwB3QHeAd8B4AHhAeIB4wHkAeUB5gHnAegB6QHqAesB7AHtAe4B7wHwAfEB8gHzAfQB9QH2AfcB+AH5AfoB+wH8Af0B/gH/AQACAQICAgMCBAIFAgYCBwIIAgkCCgILAgwCDQIOAg8CEAIRAhICEwIUAhUCFgIXAhgCGQIaAhsCHAIdAh4CHwIgAiECIgIjAiQCJQImAicCKAIpAioCKwIsAi0CLgIvAjACMQIyAjMCNAI1AjYCNwI4AjkCOgI7AjwCPQI+Aj8CQAJBAkICQwJEAkUCRgJHAkgCSQJKAksC",
          "dtype": "i2"
         },
         "xaxis": "x",
         "y": {
          "bdata": "AAAAAAAAAAABAAEAAgACAAMAAwAFAAUABwAHAAkACQAKAAoADAAMAA4ADgAQABAAEgASABQAFAAWABYAGAAYABoAGgAcABwAHgAeACAAIAAiACIAJAAkACYAJgAoACgAKgAqACwALAAtAC0AMAAwADEAMQA0ADQANQA1ADcANwA5ADkAOwA7AD0APQA/AD8AQQBBAEMAQwBFAEUARwBHAEgASABKAEoATABMAE4ATgBQAFAAUgBSAFQAVABVAFUAWABYAFkAWQBbAFsAXQBdAF8AXwBhAGEAYwBjAGUAZQBnAGcAagBqAGwAbABuAG4AcQBxAHQAdAB3AHcAegB6AH8AfwCCAIIAhwCHAIoAigCNAI0AkgCSAJQAlACXAJcAnQCdAKAAoAClAKUAqQCpAK0ArQCxALEAtgC2ALkAuQC8ALwAwADAAMIAwgDLAMsAzQDNANMA0wDWANYA3ADcAN8A3wDjAOMA6gDqAO8A7wD0APQA+gD6AP8A/wAFAQUBCgEKAQ8BDwEVARUBGwEbASEBIQEnAScBLAEsATQBNAE5ATkBPwE/AUUBRQFJAUkBUAFQAVIBUgFaAVoBYQFhAWUBZQFuAW4BcwFzAXkBeQF+AX4BggGCAYoBigGPAY8BkwGTAZoBmgGjAaMBqAGoAa0BrQGyAbIBvQG9AcABwAHGAcYBywHLAdMB0wHeAd4B4wHjAegB6AHuAe4B9QH1AfwB/AECAgICCAIIAg4CDgIUAhQCGwIbAiECIQIpAikCKwIrAjQCNAI9Aj0CRAJEAkkCSQJPAk8CVgJWAlwCXAJhAmECagJqAm4CbgJ1AnUCfQJ9AoMCgwKIAogCiwKLAo8CjwKTApMClwKXApoCmgKcApwCogKiAqYCpgKqAqoCrgKuArICsgK7ArsCvwK/AsgCyALLAssC0QLRAtkC2QLhAuEC4gLiAuQC5ALmAuYC6gLqAuwC7ALxAvEC9AL0AvgC+AL+Av4CCQMJAxUDFQMbAxsDIAMgAyYDJgMwAzADNwM3AzcDNwM6AzoDPQM9A0EDQQNCA0IDRgNGA0gDSANLA0sDTANMA04DTgNRA1EDUQNRA1YDVgNYA1gDWQNZA10DXQNeA14DYQNhA2IDYgNkA2QDbANsA24DbgN1A3UDfAN8A38DfwODA4MDiwOLA5EDkQOdA50DogOiA6cDpwOrA6sDsgOyA7kDuQO7A7sDvAO8A74DvgPBA8EDwQPBA8IDwgPEA8QDxgPGA8kDyQPOA84DzgPOA84DzgPOA84D0APQA9QD1APaA9oD3QPdA+AD4APjA+MD6QPpA+4D7gPuA+4D8wPzA/YD9gMBBAEECQQJBAsECwQRBBEEGAQYBCMEIwQoBCgELgQuBDAEMAQ5BDkEPwQ/BEQERARIBEgESARIBFIEUgRSBFIEVARUBFgEWARaBFoEXQRdBF4EXgRfBF8EZQRlBGkEaQRsBGwEbgRuBHAEcARxBHEEdQR1BHgEeASABIAEggSCBIgEiASNBI0ElQSVBJ0EnQSgBKAEowSjBKUEpQSpBKkEqgSqBKsEqwStBK0E",
          "dtype": "i2"
         },
         "yaxis": "y"
        },
        {
         "hovertemplate": "variable=Total Failure Count<br>index=%{x}<br>value=%{y}<extra></extra>",
         "legendgroup": "Total Failure Count",
         "line": {
          "color": "#EF553B",
          "dash": "solid"
         },
         "marker": {
          "symbol": "circle"
         },
         "mode": "lines",
         "name": "Total Failure Count",
         "showlegend": true,
         "type": "scattergl",
         "x": {
          "bdata": "AAABAAIAAwAEAAUABgAHAAgACQAKAAsADAANAA4ADwAQABEAEgATABQAFQAWABcAGAAZABoAGwAcAB0AHgAfACAAIQAiACMAJAAlACYAJwAoACkAKgArACwALQAuAC8AMAAxADIAMwA0ADUANgA3ADgAOQA6ADsAPAA9AD4APwBAAEEAQgBDAEQARQBGAEcASABJAEoASwBMAE0ATgBPAFAAUQBSAFMAVABVAFYAVwBYAFkAWgBbAFwAXQBeAF8AYABhAGIAYwBkAGUAZgBnAGgAaQBqAGsAbABtAG4AbwBwAHEAcgBzAHQAdQB2AHcAeAB5AHoAewB8AH0AfgB/AIAAgQCCAIMAhACFAIYAhwCIAIkAigCLAIwAjQCOAI8AkACRAJIAkwCUAJUAlgCXAJgAmQCaAJsAnACdAJ4AnwCgAKEAogCjAKQApQCmAKcAqACpAKoAqwCsAK0ArgCvALAAsQCyALMAtAC1ALYAtwC4ALkAugC7ALwAvQC+AL8AwADBAMIAwwDEAMUAxgDHAMgAyQDKAMsAzADNAM4AzwDQANEA0gDTANQA1QDWANcA2ADZANoA2wDcAN0A3gDfAOAA4QDiAOMA5ADlAOYA5wDoAOkA6gDrAOwA7QDuAO8A8ADxAPIA8wD0APUA9gD3APgA+QD6APsA/AD9AP4A/wAAAQEBAgEDAQQBBQEGAQcBCAEJAQoBCwEMAQ0BDgEPARABEQESARMBFAEVARYBFwEYARkBGgEbARwBHQEeAR8BIAEhASIBIwEkASUBJgEnASgBKQEqASsBLAEtAS4BLwEwATEBMgEzATQBNQE2ATcBOAE5AToBOwE8AT0BPgE/AUABQQFCAUMBRAFFAUYBRwFIAUkBSgFLAUwBTQFOAU8BUAFRAVIBUwFUAVUBVgFXAVgBWQFaAVsBXAFdAV4BXwFgAWEBYgFjAWQBZQFmAWcBaAFpAWoBawFsAW0BbgFvAXABcQFyAXMBdAF1AXYBdwF4AXkBegF7AXwBfQF+AX8BgAGBAYIBgwGEAYUBhgGHAYgBiQGKAYsBjAGNAY4BjwGQAZEBkgGTAZQBlQGWAZcBmAGZAZoBmwGcAZ0BngGfAaABoQGiAaMBpAGlAaYBpwGoAakBqgGrAawBrQGuAa8BsAGxAbIBswG0AbUBtgG3AbgBuQG6AbsBvAG9Ab4BvwHAAcEBwgHDAcQBxQHGAccByAHJAcoBywHMAc0BzgHPAdAB0QHSAdMB1AHVAdYB1wHYAdkB2gHbAdwB3QHeAd8B4AHhAeIB4wHkAeUB5gHnAegB6QHqAesB7AHtAe4B7wHwAfEB8gHzAfQB9QH2AfcB+AH5AfoB+wH8Af0B/gH/AQACAQICAgMCBAIFAgYCBwIIAgkCCgILAgwCDQIOAg8CEAIRAhICEwIUAhUCFgIXAhgCGQIaAhsCHAIdAh4CHwIgAiECIgIjAiQCJQImAicCKAIpAioCKwIsAi0CLgIvAjACMQIyAjMCNAI1AjYCNwI4AjkCOgI7AjwCPQI+Aj8CQAJBAkICQwJEAkUCRgJHAkgCSQJKAksC",
          "dtype": "i2"
         },
         "xaxis": "x",
         "y": {
          "bdata": "AAAAAAAAAAAAAAAAAAAAAAAAAAAAAAAAAAAAAAAAAAAAAAAAAAAAAAAAAAAAAAAAAAAAAAAAAAAAAAAAAAAAAAAAAAAAAAAAAAAAAAAAAAAAAAAAAAAAAAAAAAAAAAAAAAAAAAAAAAAAAAAAAAAAAAAAAAAAAAAAAAAAAAAAAAAAAAAAAAAAAAAAAAAAAAAAAAAAAAAAAAAAAAAAAAAAAAAAAAAAAAAAAAAAAAAAAAAAAAAAAAAAAAAAAAAAAAAAAAAAAAAAAAAAAAAAAAAAAAAAAAAAAAAAAAAAAAAAAAAAAAAAAAAAAAAAAAAAAAAAAAAAAAAAAAAAAAAAAAAAAAAAAAAAAAAAAAAAAAAAAAAAAAAAAAAAAAAAAAAAAAAAAAAAAAAAAAAAAAAAAAAAAAAAAAAAAAAAAQABAAIAAgADAAMAAwADAAMAAwAEAAQABQAFAAYABgAGAAYACAAIAAgACAAKAAoACgAKAAsACwAMAAwADQANAA4ADgAPAA8AEAAQABEAEQASABIAEwATABQAFAAVABUAFgAWABcAFwAYABgAGQAZABoAGgAaABoAHAAcABwAHAAdAB0AHgAeAB8AHwAgACAAIQAhACIAIgAjACMAJAAkACUAJQAmACYAJgAmACcAJwAoACgAKQApACoAKgArACsALAAsAC0ALQAuAC4ALwAvADAAMAAxADEAMgAyADMAMwA0ADQANQA1ADYANgA3ADcAOAA4ADgAOAA5ADkAOgA6ADsAOwA9AD0APQA9AD4APgA/AD8AQABAAEEAQQBCAEIAQwBDAEQARABEAEQARQBFAEYARgBHAEcASABIAEkASQBKAEoASwBLAEwATABNAE0ATgBOAE8ATwBQAFAAUQBRAFIAUgBTAFMAVABUAFQAVABWAFYAVwBXAFcAVwBYAFgAWQBZAFoAWgBbAFsAXABcAF0AXQBeAF4AYABgAGAAYABhAGEAYgBiAGMAYwBkAGQAZwBnAGgAaABpAGkAawBrAG0AbQBuAG4AbwBvAG8AbwBxAHEAcgByAHUAdQB1AHUAdgB2AHcAdwB4AHgAeQB5AHoAegB8AHwAfAB8AIAAgACCAIIAgwCDAIQAhACFAIUAhwCHAIgAiACJAIkAiwCLAIsAiwCOAI4AkACQAJAAkACRAJEAkgCSAJMAkwCVAJUAlQCVAJYAlgCXAJcAmgCaAJwAnACcAJwAnACcAJ0AnQCeAJ4AngCeAJ8AnwChAKEAowCjAKYApgCrAKsAqwCrAKsAqwCrAKsArQCtAK4ArgCwALAAsgCyALMAswC0ALQAuQC5AL4AvgC+AL4AwADAAMMAwwDLAMsA0QDRANEA0QDSANIA1ADUANQA1ADVANUA2ADYANgA2ADZANkA2QDZANkA2QDbANsA2wDbAN8A3wDfAN8A4ADgAOIA4gDiAOIA4wDjAOQA5ADlAOUA6ADoAOkA6QDrAOsA6wDrAOwA7ADtAO0A8QDxAPMA8wD7APsA/QD9AAIBAgEHAQcBDwEPARcBFwEaARoBHQEdAR8BHwEjASMBJAEkASUBJQEnAScB",
          "dtype": "i2"
         },
         "yaxis": "y"
        }
       ],
       "layout": {
        "legend": {
         "title": {
          "text": "variable"
         },
         "tracegroupgap": 0
        },
        "template": {
         "data": {
          "bar": [
           {
            "error_x": {
             "color": "#2a3f5f"
            },
            "error_y": {
             "color": "#2a3f5f"
            },
            "marker": {
             "line": {
              "color": "#E5ECF6",
              "width": 0.5
             },
             "pattern": {
              "fillmode": "overlay",
              "size": 10,
              "solidity": 0.2
             }
            },
            "type": "bar"
           }
          ],
          "barpolar": [
           {
            "marker": {
             "line": {
              "color": "#E5ECF6",
              "width": 0.5
             },
             "pattern": {
              "fillmode": "overlay",
              "size": 10,
              "solidity": 0.2
             }
            },
            "type": "barpolar"
           }
          ],
          "carpet": [
           {
            "aaxis": {
             "endlinecolor": "#2a3f5f",
             "gridcolor": "white",
             "linecolor": "white",
             "minorgridcolor": "white",
             "startlinecolor": "#2a3f5f"
            },
            "baxis": {
             "endlinecolor": "#2a3f5f",
             "gridcolor": "white",
             "linecolor": "white",
             "minorgridcolor": "white",
             "startlinecolor": "#2a3f5f"
            },
            "type": "carpet"
           }
          ],
          "choropleth": [
           {
            "colorbar": {
             "outlinewidth": 0,
             "ticks": ""
            },
            "type": "choropleth"
           }
          ],
          "contour": [
           {
            "colorbar": {
             "outlinewidth": 0,
             "ticks": ""
            },
            "colorscale": [
             [
              0,
              "#0d0887"
             ],
             [
              0.1111111111111111,
              "#46039f"
             ],
             [
              0.2222222222222222,
              "#7201a8"
             ],
             [
              0.3333333333333333,
              "#9c179e"
             ],
             [
              0.4444444444444444,
              "#bd3786"
             ],
             [
              0.5555555555555556,
              "#d8576b"
             ],
             [
              0.6666666666666666,
              "#ed7953"
             ],
             [
              0.7777777777777778,
              "#fb9f3a"
             ],
             [
              0.8888888888888888,
              "#fdca26"
             ],
             [
              1,
              "#f0f921"
             ]
            ],
            "type": "contour"
           }
          ],
          "contourcarpet": [
           {
            "colorbar": {
             "outlinewidth": 0,
             "ticks": ""
            },
            "type": "contourcarpet"
           }
          ],
          "heatmap": [
           {
            "colorbar": {
             "outlinewidth": 0,
             "ticks": ""
            },
            "colorscale": [
             [
              0,
              "#0d0887"
             ],
             [
              0.1111111111111111,
              "#46039f"
             ],
             [
              0.2222222222222222,
              "#7201a8"
             ],
             [
              0.3333333333333333,
              "#9c179e"
             ],
             [
              0.4444444444444444,
              "#bd3786"
             ],
             [
              0.5555555555555556,
              "#d8576b"
             ],
             [
              0.6666666666666666,
              "#ed7953"
             ],
             [
              0.7777777777777778,
              "#fb9f3a"
             ],
             [
              0.8888888888888888,
              "#fdca26"
             ],
             [
              1,
              "#f0f921"
             ]
            ],
            "type": "heatmap"
           }
          ],
          "histogram": [
           {
            "marker": {
             "pattern": {
              "fillmode": "overlay",
              "size": 10,
              "solidity": 0.2
             }
            },
            "type": "histogram"
           }
          ],
          "histogram2d": [
           {
            "colorbar": {
             "outlinewidth": 0,
             "ticks": ""
            },
            "colorscale": [
             [
              0,
              "#0d0887"
             ],
             [
              0.1111111111111111,
              "#46039f"
             ],
             [
              0.2222222222222222,
              "#7201a8"
             ],
             [
              0.3333333333333333,
              "#9c179e"
             ],
             [
              0.4444444444444444,
              "#bd3786"
             ],
             [
              0.5555555555555556,
              "#d8576b"
             ],
             [
              0.6666666666666666,
              "#ed7953"
             ],
             [
              0.7777777777777778,
              "#fb9f3a"
             ],
             [
              0.8888888888888888,
              "#fdca26"
             ],
             [
              1,
              "#f0f921"
             ]
            ],
            "type": "histogram2d"
           }
          ],
          "histogram2dcontour": [
           {
            "colorbar": {
             "outlinewidth": 0,
             "ticks": ""
            },
            "colorscale": [
             [
              0,
              "#0d0887"
             ],
             [
              0.1111111111111111,
              "#46039f"
             ],
             [
              0.2222222222222222,
              "#7201a8"
             ],
             [
              0.3333333333333333,
              "#9c179e"
             ],
             [
              0.4444444444444444,
              "#bd3786"
             ],
             [
              0.5555555555555556,
              "#d8576b"
             ],
             [
              0.6666666666666666,
              "#ed7953"
             ],
             [
              0.7777777777777778,
              "#fb9f3a"
             ],
             [
              0.8888888888888888,
              "#fdca26"
             ],
             [
              1,
              "#f0f921"
             ]
            ],
            "type": "histogram2dcontour"
           }
          ],
          "mesh3d": [
           {
            "colorbar": {
             "outlinewidth": 0,
             "ticks": ""
            },
            "type": "mesh3d"
           }
          ],
          "parcoords": [
           {
            "line": {
             "colorbar": {
              "outlinewidth": 0,
              "ticks": ""
             }
            },
            "type": "parcoords"
           }
          ],
          "pie": [
           {
            "automargin": true,
            "type": "pie"
           }
          ],
          "scatter": [
           {
            "fillpattern": {
             "fillmode": "overlay",
             "size": 10,
             "solidity": 0.2
            },
            "type": "scatter"
           }
          ],
          "scatter3d": [
           {
            "line": {
             "colorbar": {
              "outlinewidth": 0,
              "ticks": ""
             }
            },
            "marker": {
             "colorbar": {
              "outlinewidth": 0,
              "ticks": ""
             }
            },
            "type": "scatter3d"
           }
          ],
          "scattercarpet": [
           {
            "marker": {
             "colorbar": {
              "outlinewidth": 0,
              "ticks": ""
             }
            },
            "type": "scattercarpet"
           }
          ],
          "scattergeo": [
           {
            "marker": {
             "colorbar": {
              "outlinewidth": 0,
              "ticks": ""
             }
            },
            "type": "scattergeo"
           }
          ],
          "scattergl": [
           {
            "marker": {
             "colorbar": {
              "outlinewidth": 0,
              "ticks": ""
             }
            },
            "type": "scattergl"
           }
          ],
          "scattermap": [
           {
            "marker": {
             "colorbar": {
              "outlinewidth": 0,
              "ticks": ""
             }
            },
            "type": "scattermap"
           }
          ],
          "scattermapbox": [
           {
            "marker": {
             "colorbar": {
              "outlinewidth": 0,
              "ticks": ""
             }
            },
            "type": "scattermapbox"
           }
          ],
          "scatterpolar": [
           {
            "marker": {
             "colorbar": {
              "outlinewidth": 0,
              "ticks": ""
             }
            },
            "type": "scatterpolar"
           }
          ],
          "scatterpolargl": [
           {
            "marker": {
             "colorbar": {
              "outlinewidth": 0,
              "ticks": ""
             }
            },
            "type": "scatterpolargl"
           }
          ],
          "scatterternary": [
           {
            "marker": {
             "colorbar": {
              "outlinewidth": 0,
              "ticks": ""
             }
            },
            "type": "scatterternary"
           }
          ],
          "surface": [
           {
            "colorbar": {
             "outlinewidth": 0,
             "ticks": ""
            },
            "colorscale": [
             [
              0,
              "#0d0887"
             ],
             [
              0.1111111111111111,
              "#46039f"
             ],
             [
              0.2222222222222222,
              "#7201a8"
             ],
             [
              0.3333333333333333,
              "#9c179e"
             ],
             [
              0.4444444444444444,
              "#bd3786"
             ],
             [
              0.5555555555555556,
              "#d8576b"
             ],
             [
              0.6666666666666666,
              "#ed7953"
             ],
             [
              0.7777777777777778,
              "#fb9f3a"
             ],
             [
              0.8888888888888888,
              "#fdca26"
             ],
             [
              1,
              "#f0f921"
             ]
            ],
            "type": "surface"
           }
          ],
          "table": [
           {
            "cells": {
             "fill": {
              "color": "#EBF0F8"
             },
             "line": {
              "color": "white"
             }
            },
            "header": {
             "fill": {
              "color": "#C8D4E3"
             },
             "line": {
              "color": "white"
             }
            },
            "type": "table"
           }
          ]
         },
         "layout": {
          "annotationdefaults": {
           "arrowcolor": "#2a3f5f",
           "arrowhead": 0,
           "arrowwidth": 1
          },
          "autotypenumbers": "strict",
          "coloraxis": {
           "colorbar": {
            "outlinewidth": 0,
            "ticks": ""
           }
          },
          "colorscale": {
           "diverging": [
            [
             0,
             "#8e0152"
            ],
            [
             0.1,
             "#c51b7d"
            ],
            [
             0.2,
             "#de77ae"
            ],
            [
             0.3,
             "#f1b6da"
            ],
            [
             0.4,
             "#fde0ef"
            ],
            [
             0.5,
             "#f7f7f7"
            ],
            [
             0.6,
             "#e6f5d0"
            ],
            [
             0.7,
             "#b8e186"
            ],
            [
             0.8,
             "#7fbc41"
            ],
            [
             0.9,
             "#4d9221"
            ],
            [
             1,
             "#276419"
            ]
           ],
           "sequential": [
            [
             0,
             "#0d0887"
            ],
            [
             0.1111111111111111,
             "#46039f"
            ],
            [
             0.2222222222222222,
             "#7201a8"
            ],
            [
             0.3333333333333333,
             "#9c179e"
            ],
            [
             0.4444444444444444,
             "#bd3786"
            ],
            [
             0.5555555555555556,
             "#d8576b"
            ],
            [
             0.6666666666666666,
             "#ed7953"
            ],
            [
             0.7777777777777778,
             "#fb9f3a"
            ],
            [
             0.8888888888888888,
             "#fdca26"
            ],
            [
             1,
             "#f0f921"
            ]
           ],
           "sequentialminus": [
            [
             0,
             "#0d0887"
            ],
            [
             0.1111111111111111,
             "#46039f"
            ],
            [
             0.2222222222222222,
             "#7201a8"
            ],
            [
             0.3333333333333333,
             "#9c179e"
            ],
            [
             0.4444444444444444,
             "#bd3786"
            ],
            [
             0.5555555555555556,
             "#d8576b"
            ],
            [
             0.6666666666666666,
             "#ed7953"
            ],
            [
             0.7777777777777778,
             "#fb9f3a"
            ],
            [
             0.8888888888888888,
             "#fdca26"
            ],
            [
             1,
             "#f0f921"
            ]
           ]
          },
          "colorway": [
           "#636efa",
           "#EF553B",
           "#00cc96",
           "#ab63fa",
           "#FFA15A",
           "#19d3f3",
           "#FF6692",
           "#B6E880",
           "#FF97FF",
           "#FECB52"
          ],
          "font": {
           "color": "#2a3f5f"
          },
          "geo": {
           "bgcolor": "white",
           "lakecolor": "white",
           "landcolor": "#E5ECF6",
           "showlakes": true,
           "showland": true,
           "subunitcolor": "white"
          },
          "hoverlabel": {
           "align": "left"
          },
          "hovermode": "closest",
          "mapbox": {
           "style": "light"
          },
          "paper_bgcolor": "white",
          "plot_bgcolor": "#E5ECF6",
          "polar": {
           "angularaxis": {
            "gridcolor": "white",
            "linecolor": "white",
            "ticks": ""
           },
           "bgcolor": "#E5ECF6",
           "radialaxis": {
            "gridcolor": "white",
            "linecolor": "white",
            "ticks": ""
           }
          },
          "scene": {
           "xaxis": {
            "backgroundcolor": "#E5ECF6",
            "gridcolor": "white",
            "gridwidth": 2,
            "linecolor": "white",
            "showbackground": true,
            "ticks": "",
            "zerolinecolor": "white"
           },
           "yaxis": {
            "backgroundcolor": "#E5ECF6",
            "gridcolor": "white",
            "gridwidth": 2,
            "linecolor": "white",
            "showbackground": true,
            "ticks": "",
            "zerolinecolor": "white"
           },
           "zaxis": {
            "backgroundcolor": "#E5ECF6",
            "gridcolor": "white",
            "gridwidth": 2,
            "linecolor": "white",
            "showbackground": true,
            "ticks": "",
            "zerolinecolor": "white"
           }
          },
          "shapedefaults": {
           "line": {
            "color": "#2a3f5f"
           }
          },
          "ternary": {
           "aaxis": {
            "gridcolor": "white",
            "linecolor": "white",
            "ticks": ""
           },
           "baxis": {
            "gridcolor": "white",
            "linecolor": "white",
            "ticks": ""
           },
           "bgcolor": "#E5ECF6",
           "caxis": {
            "gridcolor": "white",
            "linecolor": "white",
            "ticks": ""
           }
          },
          "title": {
           "x": 0.05
          },
          "xaxis": {
           "automargin": true,
           "gridcolor": "white",
           "linecolor": "white",
           "ticks": "",
           "title": {
            "standoff": 15
           },
           "zerolinecolor": "white",
           "zerolinewidth": 2
          },
          "yaxis": {
           "automargin": true,
           "gridcolor": "white",
           "linecolor": "white",
           "ticks": "",
           "title": {
            "standoff": 15
           },
           "zerolinecolor": "white",
           "zerolinewidth": 2
          }
         }
        },
        "title": {
         "text": "VertexAIEndpoint - gemma-3-12b-it"
        },
        "xaxis": {
         "anchor": "y",
         "domain": [
          0,
          1
         ],
         "title": {
          "text": "index"
         }
        },
        "yaxis": {
         "anchor": "x",
         "domain": [
          0,
          1
         ],
         "title": {
          "text": "value"
         }
        }
       }
      }
     },
     "metadata": {},
     "output_type": "display_data"
    },
    {
     "data": {
      "application/vnd.plotly.v1+json": {
       "config": {
        "plotlyServerURL": "https://plot.ly"
       },
       "data": [
        {
         "hovertemplate": "variable=Total Request Count<br>index=%{x}<br>value=%{y}<extra></extra>",
         "legendgroup": "Total Request Count",
         "line": {
          "color": "#636efa",
          "dash": "solid"
         },
         "marker": {
          "symbol": "circle"
         },
         "mode": "lines",
         "name": "Total Request Count",
         "showlegend": true,
         "type": "scattergl",
         "x": {
          "bdata": "AAABAAIAAwAEAAUABgAHAAgACQAKAAsADAANAA4ADwAQABEAEgATABQAFQAWABcAGAAZABoAGwAcAB0AHgAfACAAIQAiACMAJAAlACYAJwAoACkAKgArACwALQAuAC8AMAAxADIAMwA0ADUANgA3ADgAOQA6ADsAPAA9AD4APwBAAEEAQgBDAEQARQBGAEcASABJAEoASwBMAE0ATgBPAFAAUQBSAFMAVABVAFYAVwBYAFkAWgBbAFwAXQBeAF8AYABhAGIAYwBkAGUAZgBnAGgAaQBqAGsAbABtAG4AbwBwAHEAcgBzAHQAdQB2AHcAeAB5AHoAewB8AH0AfgB/AIAAgQCCAIMAhACFAIYAhwCIAIkAigCLAIwAjQCOAI8AkACRAJIAkwCUAJUAlgCXAJgAmQCaAJsAnACdAJ4AnwCgAKEAogCjAKQApQCmAKcAqACpAKoAqwCsAK0ArgCvALAAsQCyALMAtAC1ALYAtwC4ALkAugC7ALwAvQC+AL8AwADBAMIAwwDEAMUAxgDHAMgAyQDKAMsAzADNAM4AzwDQANEA0gDTANQA1QDWANcA2ADZANoA2wDcAN0A3gDfAOAA4QDiAOMA5ADlAOYA5wDoAOkA6gDrAOwA7QDuAO8A8ADxAPIA8wD0APUA9gD3APgA+QD6APsA/AD9AP4A/wAAAQEBAgEDAQQBBQEGAQcBCAEJAQoBCwEMAQ0BDgEPARABEQESARMBFAEVARYBFwEYARkBGgEbARwBHQEeAR8BIAEhASIBIwEkASUBJgEnASgBKQEqASsBLAEtAS4BLwEwATEBMgEzATQBNQE2ATcBOAE5AToBOwE8AT0BPgE/AUABQQFCAUMBRAFFAUYBRwFIAUkBSgFLAUwBTQFOAU8BUAFRAVIBUwFUAVUBVgFXAVgBWQFaAVsBXAFdAV4BXwFgAWEBYgFjAWQBZQFmAWcBaAFpAWoBawFsAW0BbgFvAXABcQFyAXMBdAF1AXYBdwF4AXkBegF7AXwBfQF+AX8BgAGBAYIBgwGEAYUBhgGHAYgBiQGKAYsBjAGNAY4BjwGQAZEBkgGTAZQBlQGWAZcBmAGZAZoBmwGcAZ0BngGfAaABoQGiAaMBpAGlAaYBpwGoAakBqgGrAawBrQGuAa8BsAGxAbIBswG0AbUBtgG3AbgBuQG6AbsBvAG9Ab4BvwHAAcEBwgHDAcQBxQHGAccByAHJAcoBywHMAc0BzgHPAdAB0QHSAdMB1AHVAdYB1wHYAdkB2gHbAdwB3QHeAd8B4AHhAeIB4wHkAeUB5gHnAegB6QHqAesB7AHtAe4B7wHwAfEB8gHzAfQB9QH2AfcB+AH5AfoB+wH8Af0B/gH/AQACAQICAgMCBAIFAgYCBwIIAgkCCgILAgwCDQIOAg8CEAIRAhICEwIUAhUCFgIXAhgCGQIaAhsCHAIdAh4CHwIgAiECIgIjAiQCJQImAicCKAIpAioCKwIsAi0CLgIvAjACMQIyAjMCNAI1AjYCNwI4AjkCOgI7AjwCPQI+Aj8CQAJBAkICQwJEAkUCRgJHAkgCSQJKAksCTAJNAg==",
          "dtype": "i2"
         },
         "xaxis": "x",
         "y": {
          "bdata": "AAAAAAAAAAABAAAAAQAAAAIAAAACAAAAAwAAAAMAAAAEAAAABAAAAAUAAAAFAAAABwAAAAcAAAAIAAAACAAAAAkAAAAJAAAACwAAAAsAAAALAAAACwAAAA0AAAANAAAADQAAAA0AAAAOAAAADgAAAA4AAAAOAAAADgAAAA4AAAAPAAAADwAAAA8AAAAPAAAAEAAAABAAAAAQAAAAEAAAABAAAAAQAAAAEAAAABAAAAAQAAAAEAAAABAAAAAQAAAAEAAAABAAAAAQAAAAEAAAABAAAAAQAAAAEAAAABAAAAAQAAAAEAAAABAAAAAQAAAAEAAAABAAAAAQAAAAEAAAABAAAAAQAAAAEAAAABAAAAAQAAAAEAAAABAAAAAQAAAAEAAAABAAAAAQAAAAEAAAABEAAAARAAAAEQAAABEAAAARAAAAEQAAABEAAAARAAAAEQAAABEAAAARAAAAEQAAABEAAAARAAAAEQAAABEAAAASAAAAEgAAABIAAAASAAAAEwAAABMAAAAWAAAAFgAAABkAAAAZAAAAHAAAABwAAAAeAAAAHgAAACEAAAAhAAAAJgAAACYAAAApAAAAKQAAAC8AAAAvAAAANQAAADUAAAA4AAAAOAAAAEAAAABAAAAARQAAAEUAAABJAAAASQAAAEsAAABLAAAAUQAAAFEAAABXAAAAVwAAAF4AAABeAAAAZQAAAGUAAABoAAAAaAAAAGoAAABqAAAAawAAAGsAAABsAAAAbAAAAHIAAAByAAAAdgAAAHYAAAB3AAAAdwAAAHcAAAB3AAAAeAAAAHgAAACBAAAAgQAAAIcAAACHAAAAigAAAIoAAACNAAAAjQAAAJMAAACTAAAAmwAAAJsAAACiAAAAogAAAKkAAACpAAAAsAAAALAAAAC/AAAAvwAAAMUAAADFAAAA0QAAANEAAADkAAAA5AAAAOUAAADlAAAA8QAAAPEAAAAFAQAABQEAABsBAAAbAQAAJwEAACcBAAA/AQAAPwEAAEEBAABBAQAAWgEAAFoBAABoAQAAaAEAAIUBAACFAQAAtQEAALUBAADxAQAA8QEAABUCAAAVAgAAPgIAAD4CAABgAgAAYAIAAJcCAACXAgAAwgIAAMICAADkAgAA5AIAABUDAAAVAwAATAMAAEwDAACMAwAAjAMAAPIDAADyAwAAagQAAGoEAADsBAAA7AQAAGQFAABkBQAA/wUAAP8FAACfBgAAnwYAAE8HAABPBwAA+gcAAPoHAACpCAAAqQgAAGkJAABpCQAATAoAAEwKAABJCwAASQsAAEgMAABIDAAAaA0AAGgNAADVDgAA1Q4AAPYPAAD2DwAAghEAAIIRAABIEwAASBMAAPEUAADxFAAAxRYAAMUWAACRGAAAkRgAAGUaAABlGgAANhwAADYcAABpHgAAaR4AAKIgAACiIAAAKCMAACgjAAAPJQAADyUAAKcnAACnJwAAYCoAAGAqAAAHLQAABy0AAGouAABqLgAATy8AAE8vAACBMQAAgTEAAIkzAACJMwAATjUAAE41AAC9NgAAvTYAABA5AAAQOQAAlzsAAJc7AAByPgAAcj4AAOFAAADhQAAAKkMAACpDAAB8RQAAfEUAALBIAACwSAAAPEsAADxLAADRTgAA0U4AACdSAAAnUgAAw1UAAMNVAABaWQAAWlkAAPhcAAD4XAAAMGAAADBgAADdYgAA3WIAALZmAAC2ZgAAcWoAAHFqAAAMbQAADG0AAKhwAACocAAAGXMAABlzAADxcwAA8XMAAK13AACtdwAAEnsAABJ7AACefQAAnn0AAPKAAADygAAAjYQAAI2EAADBhwAAwYcAAH6LAAB+iwAA6IsAAOiLAACajwAAmo8AAGmTAABpkwAAv5cAAL+XAAAOnAAADpwAAMyfAADMnwAAK6MAACujAACxpgAAsaYAAJOqAACTqgAAvK0AALytAAD9rgAA/a4AAEazAABGswAAxLcAAMS3AAAxvAAAMbwAALi+AAC4vgAASMMAAEjDAADpxwAA6ccAAFTMAABUzAAAvtAAAL7QAACf1AAAn9QAAPnYAAD52AAApNsAAKTbAAA53wAAOd8AALXjAAC14wAAqeUAAKnlAADa6AAA2ugAAM3sAADN7AAA9vAAAPbwAAB29QAAdvUAAFb5AABW+QAA1PwAANT8AAAb/wAAG/8AALkBAQC5AQEAwwQBAMMEAQDxBwEA8QcBAEsLAQBLCwEADRABAA0QAQDsFAEA7BQBABQZAQAUGQEAjxwBAI8cAQCkIAEApCABAIskAQCLJAEAWCkBAFgpAQDWLQEA1i0BAN8xAQDfMQEAwDMBAMAzAQDUNwEA1DcBAEs7AQBLOwEACjwBAAo8AQC1PgEAtT4BAEBDAQBAQwEA6kcBAOpHAQDxTAEA8UwBAFBRAQBQUQEALFYBACxWAQD3WgEA91oBAORfAQDkXwEAn2QBAJ9kAQA3aQEAN2kBAFFuAQBRbgEANHMBADRzAQDwdwEA8HcBAIp8AQCKfAEA7n4BAO5+AQD6gAEA+oABAKyCAQCsggEAAoQBAAKEAQBuhQEAboUBAIGIAQCBiAEAHooBAB6KAQAdjwEAHY8BAKaSAQCmkgEATZQBAE2UAQANlwEADZcBAK+aAQCvmgEAuZwBALmcAQDrnQEA650BAPueAQD7ngEAIaABACGgAQCloQEApaEBAPOiAQDzogEA86IBAPOiAQDmpQEA5qUBABuoAQAbqAEAZ60BAGetAQCcsgEAnLIBAAC1AQAAtQEA07YBANO2AQCLuAEAi7gBAFK7AQBSuwEAHLwBABy8AQDtvwEA7b8BAJ/FAQCfxQEANckBADXJAQC2zAEAtswBAG7RAQBu0QEAu9YBALvWAQDe2AEA3tgBAEbcAQBG3AEApt4BAKbeAQAs4wEALOMBAIrnAQCK5wEAR+wBAEfsAQA58AEAOfABALjyAQC48gEA5/QBAOf0AQDn9wEA5/cBAAD8AQAA/AEAUAACAFAAAgAKAgIACgICAIAFAgCABQIAtgkCALYJAgB7DgIAew4CAMIRAgDCEQIAAhYCAAIWAgBAGAIAQBgCAGcaAgBnGgIA5h4CAOYeAgB9IwIAfSMCAKsoAgCrKAIAjiwCAI4sAgA=",
          "dtype": "i4"
         },
         "yaxis": "y"
        },
        {
         "hovertemplate": "variable=Total Failure Count<br>index=%{x}<br>value=%{y}<extra></extra>",
         "legendgroup": "Total Failure Count",
         "line": {
          "color": "#EF553B",
          "dash": "solid"
         },
         "marker": {
          "symbol": "circle"
         },
         "mode": "lines",
         "name": "Total Failure Count",
         "showlegend": true,
         "type": "scattergl",
         "x": {
          "bdata": "AAABAAIAAwAEAAUABgAHAAgACQAKAAsADAANAA4ADwAQABEAEgATABQAFQAWABcAGAAZABoAGwAcAB0AHgAfACAAIQAiACMAJAAlACYAJwAoACkAKgArACwALQAuAC8AMAAxADIAMwA0ADUANgA3ADgAOQA6ADsAPAA9AD4APwBAAEEAQgBDAEQARQBGAEcASABJAEoASwBMAE0ATgBPAFAAUQBSAFMAVABVAFYAVwBYAFkAWgBbAFwAXQBeAF8AYABhAGIAYwBkAGUAZgBnAGgAaQBqAGsAbABtAG4AbwBwAHEAcgBzAHQAdQB2AHcAeAB5AHoAewB8AH0AfgB/AIAAgQCCAIMAhACFAIYAhwCIAIkAigCLAIwAjQCOAI8AkACRAJIAkwCUAJUAlgCXAJgAmQCaAJsAnACdAJ4AnwCgAKEAogCjAKQApQCmAKcAqACpAKoAqwCsAK0ArgCvALAAsQCyALMAtAC1ALYAtwC4ALkAugC7ALwAvQC+AL8AwADBAMIAwwDEAMUAxgDHAMgAyQDKAMsAzADNAM4AzwDQANEA0gDTANQA1QDWANcA2ADZANoA2wDcAN0A3gDfAOAA4QDiAOMA5ADlAOYA5wDoAOkA6gDrAOwA7QDuAO8A8ADxAPIA8wD0APUA9gD3APgA+QD6APsA/AD9AP4A/wAAAQEBAgEDAQQBBQEGAQcBCAEJAQoBCwEMAQ0BDgEPARABEQESARMBFAEVARYBFwEYARkBGgEbARwBHQEeAR8BIAEhASIBIwEkASUBJgEnASgBKQEqASsBLAEtAS4BLwEwATEBMgEzATQBNQE2ATcBOAE5AToBOwE8AT0BPgE/AUABQQFCAUMBRAFFAUYBRwFIAUkBSgFLAUwBTQFOAU8BUAFRAVIBUwFUAVUBVgFXAVgBWQFaAVsBXAFdAV4BXwFgAWEBYgFjAWQBZQFmAWcBaAFpAWoBawFsAW0BbgFvAXABcQFyAXMBdAF1AXYBdwF4AXkBegF7AXwBfQF+AX8BgAGBAYIBgwGEAYUBhgGHAYgBiQGKAYsBjAGNAY4BjwGQAZEBkgGTAZQBlQGWAZcBmAGZAZoBmwGcAZ0BngGfAaABoQGiAaMBpAGlAaYBpwGoAakBqgGrAawBrQGuAa8BsAGxAbIBswG0AbUBtgG3AbgBuQG6AbsBvAG9Ab4BvwHAAcEBwgHDAcQBxQHGAccByAHJAcoBywHMAc0BzgHPAdAB0QHSAdMB1AHVAdYB1wHYAdkB2gHbAdwB3QHeAd8B4AHhAeIB4wHkAeUB5gHnAegB6QHqAesB7AHtAe4B7wHwAfEB8gHzAfQB9QH2AfcB+AH5AfoB+wH8Af0B/gH/AQACAQICAgMCBAIFAgYCBwIIAgkCCgILAgwCDQIOAg8CEAIRAhICEwIUAhUCFgIXAhgCGQIaAhsCHAIdAh4CHwIgAiECIgIjAiQCJQImAicCKAIpAioCKwIsAi0CLgIvAjACMQIyAjMCNAI1AjYCNwI4AjkCOgI7AjwCPQI+Aj8CQAJBAkICQwJEAkUCRgJHAkgCSQJKAksCTAJNAg==",
          "dtype": "i2"
         },
         "xaxis": "x",
         "y": {
          "bdata": "AAAAAAAAAAAAAAAAAAAAAAAAAAAAAAAAAAAAAAAAAAAAAAAAAAAAAAAAAAAAAAAAAAAAAAAAAAAAAAAAAAAAAAAAAAAAAAAAAAAAAAAAAAAAAAAAAAAAAAAAAAAAAAAAAAAAAAAAAAAAAAAAAAAAAAAAAAAAAAAAAAAAAAAAAAAAAAAAAAAAAAAAAAAAAAAAAAAAAAAAAAAAAAAAAAAAAAAAAAAAAAAAAAAAAAAAAAAAAAAAAAAAAAAAAAAAAAAAAAAAAAAAAAAAAAAAAAAAAAAAAAAAAAAAAAAAAAAAAAAAAAAAAAAAAAAAAAAAAAAAAAAAAAAAAAAAAAAAAAAAAAAAAAAAAAAAAAAAAAAAAAAAAAAAAAAAAAAAAAAAAAAAAAAAAAAAAAAAAAAAAAAAAAEAAAABAAAAAQAAAAEAAAABAAAAAQAAAAEAAAABAAAAAQAAAAEAAAABAAAAAQAAAAEAAAABAAAAAQAAAAEAAAABAAAAAQAAAAEAAAABAAAAAQAAAAEAAAADAAAAAwAAAAUAAAAFAAAABgAAAAYAAAAIAAAACAAAAAkAAAAJAAAACQAAAAkAAAAJAAAACQAAAAkAAAAJAAAACQAAAAkAAAAJAAAACQAAAAoAAAAKAAAACgAAAAoAAAAKAAAACgAAAAoAAAAKAAAACwAAAAsAAAAPAAAADwAAAA8AAAAPAAAAFAAAABQAAAAVAAAAFQAAABUAAAAVAAAAFQAAABUAAAAVAAAAFQAAABsAAAAbAAAAHgAAAB4AAAAeAAAAHgAAAB4AAAAeAAAAHwAAAB8AAAAnAAAAJwAAACwAAAAsAAAALgAAAC4AAAAxAAAAMQAAADYAAAA2AAAAPgAAAD4AAABFAAAARQAAAEwAAABMAAAAUwAAAFMAAABiAAAAYgAAAGgAAABoAAAAdAAAAHQAAACGAAAAhgAAAIcAAACHAAAAkwAAAJMAAACnAAAApwAAAL0AAAC9AAAAyQAAAMkAAADhAAAA4QAAAOMAAADjAAAA/AAAAPwAAAAKAQAACgEAACcBAAAnAQAAVwEAAFcBAACSAQAAkgEAALUBAAC1AQAA3QEAAN0BAAD+AQAA/gEAADMCAAAzAgAAXAIAAFwCAAB8AgAAfAIAAKwCAACsAgAA4AIAAOACAAAdAwAAHQMAAIEDAACBAwAA+QMAAPkDAAB5BAAAeQQAAPEEAADxBAAAiwUAAIsFAAAqBgAAKgYAANoGAADaBgAAhQcAAIUHAAAzCAAAMwgAAPMIAADzCAAA1QkAANUJAADSCgAA0goAANELAADRCwAA8QwAAPEMAABeDgAAXg4AAH8PAAB/DwAACxEAAAsRAADREgAA0RIAAHoUAAB6FAAAThYAAE4WAAAaGAAAGhgAAO4ZAADuGQAAvhsAAL4bAADxHQAA8R0AACkgAAApIAAAriIAAK4iAACVJAAAlSQAAC0nAAAtJwAA5ikAAOYpAACNLAAAjSwAAPAtAADwLQAA1S4AANUuAAAGMQAABjEAAA0zAAANMwAA0TQAANE0AABANgAAQDYAAJM4AACTOAAAGTsAABk7AAD0PQAA9D0AAGJAAABiQAAAq0IAAKtCAAD9RAAA/UQAADFIAAAxSAAAvUoAAL1KAABRTgAAUU4AAKZRAACmUQAAQlUAAEJVAADYWAAA2FgAAHZcAAB2XAAArl8AAK5fAABaYgAAWmIAADNmAAAzZgAA7mkAAO5pAACJbAAAiWwAACRwAAAkcAAAlHIAAJRyAABscwAAbHMAACd3AAAndwAAjHoAAIx6AAAYfQAAGH0AAGyAAABsgAAAB4QAAAeEAAA7hwAAO4cAAPeKAAD3igAAYYsAAGGLAAASjwAAEo8AAOGSAADhkgAAN5cAADeXAACFmwAAhZsAAEOfAABDnwAAoqIAAKKiAAAmpgAAJqYAAAiqAAAIqgAAMa0AADGtAAByrgAAcq4AALqyAAC6sgAAOLcAADi3AACluwAApbsAACy+AAAsvgAAvMIAALzCAABdxwAAXccAAMjLAADIywAAMtAAADLQAAAT1AAAE9QAAGzYAABs2AAAF9sAABfbAACs3gAArN4AACjjAAAo4wAAHOUAABzlAABM6AAATOgAAD/sAAA/7AAAZvAAAGbwAADm9AAA5vQAAMb4AADG+AAAQvwAAEL8AACJ/gAAif4AACYBAQAmAQEAMAQBADAEAQBdBwEAXQcBALcKAQC3CgEAeQ8BAHkPAQBYFAEAWBQBAIAYAQCAGAEA+xsBAPsbAQAQIAEAECABAPcjAQD3IwEAxCgBAMQoAQBCLQEAQi0BAEsxAQBLMQEALDMBACwzAQBANwEAQDcBALc6AQC3OgEAdjsBAHY7AQAhPgEAIT4BAKxCAQCsQgEAVkcBAFZHAQBdTAEAXUwBALxQAQC8UAEAmFUBAJhVAQBjWgEAY1oBAE9fAQBPXwEACWQBAAlkAQChaAEAoWgBALltAQC5bQEAnHIBAJxyAQBYdwEAWHcBAPJ7AQDyewEAVn4BAFZ+AQBigAEAYoABABSCAQAUggEAaoMBAGqDAQDVhAEA1YQBAOiHAQDohwEAhYkBAIWJAQCDjgEAg44BAAySAQAMkgEAs5MBALOTAQBzlgEAc5YBABWaAQAVmgEAH5wBAB+cAQBRnQEAUZ0BAGGeAQBhngEAh58BAIefAQALoQEAC6EBAFmiAQBZogEAWaIBAFmiAQBLpQEAS6UBAH+nAQB/pwEAy6wBAMusAQAAsgEAALIBAGS0AQBktAEAN7YBADe2AQDutwEA7rcBALW6AQC1ugEAf7sBAH+7AQBQvwEAUL8BAALFAQACxQEAmMgBAJjIAQAYzAEAGMwBANDQAQDQ0AEAHdYBAB3WAQBA2AEAQNgBAKjbAQCo2wEACN4BAAjeAQCO4gEAjuIBAOzmAQDs5gEAqesBAKnrAQCb7wEAm+8BABryAQAa8gEASfQBAEn0AQBJ9wEASfcBAGL7AQBi+wEAsv8BALL/AQBsAQIAbAECAOIEAgDiBAIAGAkCABgJAgDdDQIA3Q0CACMRAgAjEQIAYhUCAGIVAgCgFwIAoBcCAMcZAgDHGQIARh4CAEYeAgDdIgIA3SICAAooAgAKKAIA7SsCAO0rAgA=",
          "dtype": "i4"
         },
         "yaxis": "y"
        }
       ],
       "layout": {
        "legend": {
         "title": {
          "text": "variable"
         },
         "tracegroupgap": 0
        },
        "template": {
         "data": {
          "bar": [
           {
            "error_x": {
             "color": "#2a3f5f"
            },
            "error_y": {
             "color": "#2a3f5f"
            },
            "marker": {
             "line": {
              "color": "#E5ECF6",
              "width": 0.5
             },
             "pattern": {
              "fillmode": "overlay",
              "size": 10,
              "solidity": 0.2
             }
            },
            "type": "bar"
           }
          ],
          "barpolar": [
           {
            "marker": {
             "line": {
              "color": "#E5ECF6",
              "width": 0.5
             },
             "pattern": {
              "fillmode": "overlay",
              "size": 10,
              "solidity": 0.2
             }
            },
            "type": "barpolar"
           }
          ],
          "carpet": [
           {
            "aaxis": {
             "endlinecolor": "#2a3f5f",
             "gridcolor": "white",
             "linecolor": "white",
             "minorgridcolor": "white",
             "startlinecolor": "#2a3f5f"
            },
            "baxis": {
             "endlinecolor": "#2a3f5f",
             "gridcolor": "white",
             "linecolor": "white",
             "minorgridcolor": "white",
             "startlinecolor": "#2a3f5f"
            },
            "type": "carpet"
           }
          ],
          "choropleth": [
           {
            "colorbar": {
             "outlinewidth": 0,
             "ticks": ""
            },
            "type": "choropleth"
           }
          ],
          "contour": [
           {
            "colorbar": {
             "outlinewidth": 0,
             "ticks": ""
            },
            "colorscale": [
             [
              0,
              "#0d0887"
             ],
             [
              0.1111111111111111,
              "#46039f"
             ],
             [
              0.2222222222222222,
              "#7201a8"
             ],
             [
              0.3333333333333333,
              "#9c179e"
             ],
             [
              0.4444444444444444,
              "#bd3786"
             ],
             [
              0.5555555555555556,
              "#d8576b"
             ],
             [
              0.6666666666666666,
              "#ed7953"
             ],
             [
              0.7777777777777778,
              "#fb9f3a"
             ],
             [
              0.8888888888888888,
              "#fdca26"
             ],
             [
              1,
              "#f0f921"
             ]
            ],
            "type": "contour"
           }
          ],
          "contourcarpet": [
           {
            "colorbar": {
             "outlinewidth": 0,
             "ticks": ""
            },
            "type": "contourcarpet"
           }
          ],
          "heatmap": [
           {
            "colorbar": {
             "outlinewidth": 0,
             "ticks": ""
            },
            "colorscale": [
             [
              0,
              "#0d0887"
             ],
             [
              0.1111111111111111,
              "#46039f"
             ],
             [
              0.2222222222222222,
              "#7201a8"
             ],
             [
              0.3333333333333333,
              "#9c179e"
             ],
             [
              0.4444444444444444,
              "#bd3786"
             ],
             [
              0.5555555555555556,
              "#d8576b"
             ],
             [
              0.6666666666666666,
              "#ed7953"
             ],
             [
              0.7777777777777778,
              "#fb9f3a"
             ],
             [
              0.8888888888888888,
              "#fdca26"
             ],
             [
              1,
              "#f0f921"
             ]
            ],
            "type": "heatmap"
           }
          ],
          "histogram": [
           {
            "marker": {
             "pattern": {
              "fillmode": "overlay",
              "size": 10,
              "solidity": 0.2
             }
            },
            "type": "histogram"
           }
          ],
          "histogram2d": [
           {
            "colorbar": {
             "outlinewidth": 0,
             "ticks": ""
            },
            "colorscale": [
             [
              0,
              "#0d0887"
             ],
             [
              0.1111111111111111,
              "#46039f"
             ],
             [
              0.2222222222222222,
              "#7201a8"
             ],
             [
              0.3333333333333333,
              "#9c179e"
             ],
             [
              0.4444444444444444,
              "#bd3786"
             ],
             [
              0.5555555555555556,
              "#d8576b"
             ],
             [
              0.6666666666666666,
              "#ed7953"
             ],
             [
              0.7777777777777778,
              "#fb9f3a"
             ],
             [
              0.8888888888888888,
              "#fdca26"
             ],
             [
              1,
              "#f0f921"
             ]
            ],
            "type": "histogram2d"
           }
          ],
          "histogram2dcontour": [
           {
            "colorbar": {
             "outlinewidth": 0,
             "ticks": ""
            },
            "colorscale": [
             [
              0,
              "#0d0887"
             ],
             [
              0.1111111111111111,
              "#46039f"
             ],
             [
              0.2222222222222222,
              "#7201a8"
             ],
             [
              0.3333333333333333,
              "#9c179e"
             ],
             [
              0.4444444444444444,
              "#bd3786"
             ],
             [
              0.5555555555555556,
              "#d8576b"
             ],
             [
              0.6666666666666666,
              "#ed7953"
             ],
             [
              0.7777777777777778,
              "#fb9f3a"
             ],
             [
              0.8888888888888888,
              "#fdca26"
             ],
             [
              1,
              "#f0f921"
             ]
            ],
            "type": "histogram2dcontour"
           }
          ],
          "mesh3d": [
           {
            "colorbar": {
             "outlinewidth": 0,
             "ticks": ""
            },
            "type": "mesh3d"
           }
          ],
          "parcoords": [
           {
            "line": {
             "colorbar": {
              "outlinewidth": 0,
              "ticks": ""
             }
            },
            "type": "parcoords"
           }
          ],
          "pie": [
           {
            "automargin": true,
            "type": "pie"
           }
          ],
          "scatter": [
           {
            "fillpattern": {
             "fillmode": "overlay",
             "size": 10,
             "solidity": 0.2
            },
            "type": "scatter"
           }
          ],
          "scatter3d": [
           {
            "line": {
             "colorbar": {
              "outlinewidth": 0,
              "ticks": ""
             }
            },
            "marker": {
             "colorbar": {
              "outlinewidth": 0,
              "ticks": ""
             }
            },
            "type": "scatter3d"
           }
          ],
          "scattercarpet": [
           {
            "marker": {
             "colorbar": {
              "outlinewidth": 0,
              "ticks": ""
             }
            },
            "type": "scattercarpet"
           }
          ],
          "scattergeo": [
           {
            "marker": {
             "colorbar": {
              "outlinewidth": 0,
              "ticks": ""
             }
            },
            "type": "scattergeo"
           }
          ],
          "scattergl": [
           {
            "marker": {
             "colorbar": {
              "outlinewidth": 0,
              "ticks": ""
             }
            },
            "type": "scattergl"
           }
          ],
          "scattermap": [
           {
            "marker": {
             "colorbar": {
              "outlinewidth": 0,
              "ticks": ""
             }
            },
            "type": "scattermap"
           }
          ],
          "scattermapbox": [
           {
            "marker": {
             "colorbar": {
              "outlinewidth": 0,
              "ticks": ""
             }
            },
            "type": "scattermapbox"
           }
          ],
          "scatterpolar": [
           {
            "marker": {
             "colorbar": {
              "outlinewidth": 0,
              "ticks": ""
             }
            },
            "type": "scatterpolar"
           }
          ],
          "scatterpolargl": [
           {
            "marker": {
             "colorbar": {
              "outlinewidth": 0,
              "ticks": ""
             }
            },
            "type": "scatterpolargl"
           }
          ],
          "scatterternary": [
           {
            "marker": {
             "colorbar": {
              "outlinewidth": 0,
              "ticks": ""
             }
            },
            "type": "scatterternary"
           }
          ],
          "surface": [
           {
            "colorbar": {
             "outlinewidth": 0,
             "ticks": ""
            },
            "colorscale": [
             [
              0,
              "#0d0887"
             ],
             [
              0.1111111111111111,
              "#46039f"
             ],
             [
              0.2222222222222222,
              "#7201a8"
             ],
             [
              0.3333333333333333,
              "#9c179e"
             ],
             [
              0.4444444444444444,
              "#bd3786"
             ],
             [
              0.5555555555555556,
              "#d8576b"
             ],
             [
              0.6666666666666666,
              "#ed7953"
             ],
             [
              0.7777777777777778,
              "#fb9f3a"
             ],
             [
              0.8888888888888888,
              "#fdca26"
             ],
             [
              1,
              "#f0f921"
             ]
            ],
            "type": "surface"
           }
          ],
          "table": [
           {
            "cells": {
             "fill": {
              "color": "#EBF0F8"
             },
             "line": {
              "color": "white"
             }
            },
            "header": {
             "fill": {
              "color": "#C8D4E3"
             },
             "line": {
              "color": "white"
             }
            },
            "type": "table"
           }
          ]
         },
         "layout": {
          "annotationdefaults": {
           "arrowcolor": "#2a3f5f",
           "arrowhead": 0,
           "arrowwidth": 1
          },
          "autotypenumbers": "strict",
          "coloraxis": {
           "colorbar": {
            "outlinewidth": 0,
            "ticks": ""
           }
          },
          "colorscale": {
           "diverging": [
            [
             0,
             "#8e0152"
            ],
            [
             0.1,
             "#c51b7d"
            ],
            [
             0.2,
             "#de77ae"
            ],
            [
             0.3,
             "#f1b6da"
            ],
            [
             0.4,
             "#fde0ef"
            ],
            [
             0.5,
             "#f7f7f7"
            ],
            [
             0.6,
             "#e6f5d0"
            ],
            [
             0.7,
             "#b8e186"
            ],
            [
             0.8,
             "#7fbc41"
            ],
            [
             0.9,
             "#4d9221"
            ],
            [
             1,
             "#276419"
            ]
           ],
           "sequential": [
            [
             0,
             "#0d0887"
            ],
            [
             0.1111111111111111,
             "#46039f"
            ],
            [
             0.2222222222222222,
             "#7201a8"
            ],
            [
             0.3333333333333333,
             "#9c179e"
            ],
            [
             0.4444444444444444,
             "#bd3786"
            ],
            [
             0.5555555555555556,
             "#d8576b"
            ],
            [
             0.6666666666666666,
             "#ed7953"
            ],
            [
             0.7777777777777778,
             "#fb9f3a"
            ],
            [
             0.8888888888888888,
             "#fdca26"
            ],
            [
             1,
             "#f0f921"
            ]
           ],
           "sequentialminus": [
            [
             0,
             "#0d0887"
            ],
            [
             0.1111111111111111,
             "#46039f"
            ],
            [
             0.2222222222222222,
             "#7201a8"
            ],
            [
             0.3333333333333333,
             "#9c179e"
            ],
            [
             0.4444444444444444,
             "#bd3786"
            ],
            [
             0.5555555555555556,
             "#d8576b"
            ],
            [
             0.6666666666666666,
             "#ed7953"
            ],
            [
             0.7777777777777778,
             "#fb9f3a"
            ],
            [
             0.8888888888888888,
             "#fdca26"
            ],
            [
             1,
             "#f0f921"
            ]
           ]
          },
          "colorway": [
           "#636efa",
           "#EF553B",
           "#00cc96",
           "#ab63fa",
           "#FFA15A",
           "#19d3f3",
           "#FF6692",
           "#B6E880",
           "#FF97FF",
           "#FECB52"
          ],
          "font": {
           "color": "#2a3f5f"
          },
          "geo": {
           "bgcolor": "white",
           "lakecolor": "white",
           "landcolor": "#E5ECF6",
           "showlakes": true,
           "showland": true,
           "subunitcolor": "white"
          },
          "hoverlabel": {
           "align": "left"
          },
          "hovermode": "closest",
          "mapbox": {
           "style": "light"
          },
          "paper_bgcolor": "white",
          "plot_bgcolor": "#E5ECF6",
          "polar": {
           "angularaxis": {
            "gridcolor": "white",
            "linecolor": "white",
            "ticks": ""
           },
           "bgcolor": "#E5ECF6",
           "radialaxis": {
            "gridcolor": "white",
            "linecolor": "white",
            "ticks": ""
           }
          },
          "scene": {
           "xaxis": {
            "backgroundcolor": "#E5ECF6",
            "gridcolor": "white",
            "gridwidth": 2,
            "linecolor": "white",
            "showbackground": true,
            "ticks": "",
            "zerolinecolor": "white"
           },
           "yaxis": {
            "backgroundcolor": "#E5ECF6",
            "gridcolor": "white",
            "gridwidth": 2,
            "linecolor": "white",
            "showbackground": true,
            "ticks": "",
            "zerolinecolor": "white"
           },
           "zaxis": {
            "backgroundcolor": "#E5ECF6",
            "gridcolor": "white",
            "gridwidth": 2,
            "linecolor": "white",
            "showbackground": true,
            "ticks": "",
            "zerolinecolor": "white"
           }
          },
          "shapedefaults": {
           "line": {
            "color": "#2a3f5f"
           }
          },
          "ternary": {
           "aaxis": {
            "gridcolor": "white",
            "linecolor": "white",
            "ticks": ""
           },
           "baxis": {
            "gridcolor": "white",
            "linecolor": "white",
            "ticks": ""
           },
           "bgcolor": "#E5ECF6",
           "caxis": {
            "gridcolor": "white",
            "linecolor": "white",
            "ticks": ""
           }
          },
          "title": {
           "x": 0.05
          },
          "xaxis": {
           "automargin": true,
           "gridcolor": "white",
           "linecolor": "white",
           "ticks": "",
           "title": {
            "standoff": 15
           },
           "zerolinecolor": "white",
           "zerolinewidth": 2
          },
          "yaxis": {
           "automargin": true,
           "gridcolor": "white",
           "linecolor": "white",
           "ticks": "",
           "title": {
            "standoff": 15
           },
           "zerolinecolor": "white",
           "zerolinewidth": 2
          }
         }
        },
        "title": {
         "text": "CloudRunOllama - gemma3:12b"
        },
        "xaxis": {
         "anchor": "y",
         "domain": [
          0,
          1
         ],
         "title": {
          "text": "index"
         }
        },
        "yaxis": {
         "anchor": "x",
         "domain": [
          0,
          1
         ],
         "title": {
          "text": "value"
         }
        }
       }
      }
     },
     "metadata": {},
     "output_type": "display_data"
    },
    {
     "data": {
      "application/vnd.plotly.v1+json": {
       "config": {
        "plotlyServerURL": "https://plot.ly"
       },
       "data": [
        {
         "hovertemplate": "variable=Total Request Count<br>index=%{x}<br>value=%{y}<extra></extra>",
         "legendgroup": "Total Request Count",
         "line": {
          "color": "#636efa",
          "dash": "solid"
         },
         "marker": {
          "symbol": "circle"
         },
         "mode": "lines",
         "name": "Total Request Count",
         "showlegend": true,
         "type": "scattergl",
         "x": {
          "bdata": "AAABAAIAAwAEAAUABgAHAAgACQAKAAsADAANAA4ADwAQABEAEgATABQAFQAWABcAGAAZABoAGwAcAB0AHgAfACAAIQAiACMAJAAlACYAJwAoACkAKgArACwALQAuAC8AMAAxADIAMwA0ADUANgA3ADgAOQA6ADsAPAA9AD4APwBAAEEAQgBDAEQARQBGAEcASABJAEoASwBMAE0ATgBPAFAAUQBSAFMAVABVAFYAVwBYAFkAWgBbAFwAXQBeAF8AYABhAGIAYwBkAGUAZgBnAGgAaQBqAGsAbABtAG4AbwBwAHEAcgBzAHQAdQB2AHcAeAB5AHoAewB8AH0AfgB/AIAAgQCCAIMAhACFAIYAhwCIAIkAigCLAIwAjQCOAI8AkACRAJIAkwCUAJUAlgCXAJgAmQCaAJsAnACdAJ4AnwCgAKEAogCjAKQApQCmAKcAqACpAKoAqwCsAK0ArgCvALAAsQCyALMAtAC1ALYAtwC4ALkAugC7ALwAvQC+AL8AwADBAMIAwwDEAMUAxgDHAMgAyQDKAMsAzADNAM4AzwDQANEA0gDTANQA1QDWANcA2ADZANoA2wDcAN0A3gDfAOAA4QDiAOMA5ADlAOYA5wDoAOkA6gDrAOwA7QDuAO8A8ADxAPIA8wD0APUA9gD3APgA+QD6APsA/AD9AP4A/wAAAQEBAgEDAQQBBQEGAQcBCAEJAQoBCwEMAQ0BDgEPARABEQESARMBFAEVARYBFwEYARkBGgEbARwBHQEeAR8BIAEhASIBIwEkASUBJgEnASgBKQEqASsBLAEtAS4BLwEwATEBMgEzATQBNQE2ATcBOAE5AToBOwE8AT0BPgE/AUABQQFCAUMBRAFFAUYBRwFIAUkBSgFLAUwBTQFOAU8BUAFRAVIBUwFUAVUBVgFXAVgBWQFaAVsBXAFdAV4BXwFgAWEBYgFjAWQBZQFmAWcBaAFpAWoBawFsAW0BbgFvAXABcQFyAXMBdAF1AXYBdwF4AXkBegF7AXwBfQF+AX8BgAGBAYIBgwGEAYUBhgGHAYgBiQGKAYsBjAGNAY4BjwGQAZEBkgGTAZQBlQGWAZcBmAGZAZoBmwGcAZ0BngGfAaABoQGiAaMBpAGlAaYBpwGoAakBqgGrAawBrQGuAa8BsAGxAbIBswG0AbUBtgG3AbgBuQG6AbsBvAG9Ab4BvwHAAcEBwgHDAcQBxQHGAccByAHJAcoBywHMAc0BzgHPAdAB0QHSAdMB1AHVAdYB1wHYAdkB2gHbAdwB3QHeAd8B4AHhAeIB4wHkAeUB5gHnAegB6QHqAesB7AHtAe4B7wHwAfEB8gHzAfQB9QH2AfcB+AH5AfoB+wH8Af0B/gH/AQACAQICAgMCBAIFAgYCBwIIAgkCCgILAgwCDQIOAg8CEAIRAhICEwIUAhUCFgIXAhgCGQIaAhsCHAIdAh4CHwIgAiECIgIjAiQCJQImAicCKAIpAioCKwIsAi0CLgIvAjACMQIyAjMCNAI1AjYCNwI4AjkCOgI7AjwCPQI+Aj8CQAJBAkICQwJEAkUCRgJHAkgCSQJKAksCTAJNAg==",
          "dtype": "i2"
         },
         "xaxis": "x",
         "y": {
          "bdata": "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",
          "dtype": "i4"
         },
         "yaxis": "y"
        },
        {
         "hovertemplate": "variable=Total Failure Count<br>index=%{x}<br>value=%{y}<extra></extra>",
         "legendgroup": "Total Failure Count",
         "line": {
          "color": "#EF553B",
          "dash": "solid"
         },
         "marker": {
          "symbol": "circle"
         },
         "mode": "lines",
         "name": "Total Failure Count",
         "showlegend": true,
         "type": "scattergl",
         "x": {
          "bdata": "AAABAAIAAwAEAAUABgAHAAgACQAKAAsADAANAA4ADwAQABEAEgATABQAFQAWABcAGAAZABoAGwAcAB0AHgAfACAAIQAiACMAJAAlACYAJwAoACkAKgArACwALQAuAC8AMAAxADIAMwA0ADUANgA3ADgAOQA6ADsAPAA9AD4APwBAAEEAQgBDAEQARQBGAEcASABJAEoASwBMAE0ATgBPAFAAUQBSAFMAVABVAFYAVwBYAFkAWgBbAFwAXQBeAF8AYABhAGIAYwBkAGUAZgBnAGgAaQBqAGsAbABtAG4AbwBwAHEAcgBzAHQAdQB2AHcAeAB5AHoAewB8AH0AfgB/AIAAgQCCAIMAhACFAIYAhwCIAIkAigCLAIwAjQCOAI8AkACRAJIAkwCUAJUAlgCXAJgAmQCaAJsAnACdAJ4AnwCgAKEAogCjAKQApQCmAKcAqACpAKoAqwCsAK0ArgCvALAAsQCyALMAtAC1ALYAtwC4ALkAugC7ALwAvQC+AL8AwADBAMIAwwDEAMUAxgDHAMgAyQDKAMsAzADNAM4AzwDQANEA0gDTANQA1QDWANcA2ADZANoA2wDcAN0A3gDfAOAA4QDiAOMA5ADlAOYA5wDoAOkA6gDrAOwA7QDuAO8A8ADxAPIA8wD0APUA9gD3APgA+QD6APsA/AD9AP4A/wAAAQEBAgEDAQQBBQEGAQcBCAEJAQoBCwEMAQ0BDgEPARABEQESARMBFAEVARYBFwEYARkBGgEbARwBHQEeAR8BIAEhASIBIwEkASUBJgEnASgBKQEqASsBLAEtAS4BLwEwATEBMgEzATQBNQE2ATcBOAE5AToBOwE8AT0BPgE/AUABQQFCAUMBRAFFAUYBRwFIAUkBSgFLAUwBTQFOAU8BUAFRAVIBUwFUAVUBVgFXAVgBWQFaAVsBXAFdAV4BXwFgAWEBYgFjAWQBZQFmAWcBaAFpAWoBawFsAW0BbgFvAXABcQFyAXMBdAF1AXYBdwF4AXkBegF7AXwBfQF+AX8BgAGBAYIBgwGEAYUBhgGHAYgBiQGKAYsBjAGNAY4BjwGQAZEBkgGTAZQBlQGWAZcBmAGZAZoBmwGcAZ0BngGfAaABoQGiAaMBpAGlAaYBpwGoAakBqgGrAawBrQGuAa8BsAGxAbIBswG0AbUBtgG3AbgBuQG6AbsBvAG9Ab4BvwHAAcEBwgHDAcQBxQHGAccByAHJAcoBywHMAc0BzgHPAdAB0QHSAdMB1AHVAdYB1wHYAdkB2gHbAdwB3QHeAd8B4AHhAeIB4wHkAeUB5gHnAegB6QHqAesB7AHtAe4B7wHwAfEB8gHzAfQB9QH2AfcB+AH5AfoB+wH8Af0B/gH/AQACAQICAgMCBAIFAgYCBwIIAgkCCgILAgwCDQIOAg8CEAIRAhICEwIUAhUCFgIXAhgCGQIaAhsCHAIdAh4CHwIgAiECIgIjAiQCJQImAicCKAIpAioCKwIsAi0CLgIvAjACMQIyAjMCNAI1AjYCNwI4AjkCOgI7AjwCPQI+Aj8CQAJBAkICQwJEAkUCRgJHAkgCSQJKAksCTAJNAg==",
          "dtype": "i2"
         },
         "xaxis": "x",
         "y": {
          "bdata": "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",
          "dtype": "i4"
         },
         "yaxis": "y"
        }
       ],
       "layout": {
        "legend": {
         "title": {
          "text": "variable"
         },
         "tracegroupgap": 0
        },
        "template": {
         "data": {
          "bar": [
           {
            "error_x": {
             "color": "#2a3f5f"
            },
            "error_y": {
             "color": "#2a3f5f"
            },
            "marker": {
             "line": {
              "color": "#E5ECF6",
              "width": 0.5
             },
             "pattern": {
              "fillmode": "overlay",
              "size": 10,
              "solidity": 0.2
             }
            },
            "type": "bar"
           }
          ],
          "barpolar": [
           {
            "marker": {
             "line": {
              "color": "#E5ECF6",
              "width": 0.5
             },
             "pattern": {
              "fillmode": "overlay",
              "size": 10,
              "solidity": 0.2
             }
            },
            "type": "barpolar"
           }
          ],
          "carpet": [
           {
            "aaxis": {
             "endlinecolor": "#2a3f5f",
             "gridcolor": "white",
             "linecolor": "white",
             "minorgridcolor": "white",
             "startlinecolor": "#2a3f5f"
            },
            "baxis": {
             "endlinecolor": "#2a3f5f",
             "gridcolor": "white",
             "linecolor": "white",
             "minorgridcolor": "white",
             "startlinecolor": "#2a3f5f"
            },
            "type": "carpet"
           }
          ],
          "choropleth": [
           {
            "colorbar": {
             "outlinewidth": 0,
             "ticks": ""
            },
            "type": "choropleth"
           }
          ],
          "contour": [
           {
            "colorbar": {
             "outlinewidth": 0,
             "ticks": ""
            },
            "colorscale": [
             [
              0,
              "#0d0887"
             ],
             [
              0.1111111111111111,
              "#46039f"
             ],
             [
              0.2222222222222222,
              "#7201a8"
             ],
             [
              0.3333333333333333,
              "#9c179e"
             ],
             [
              0.4444444444444444,
              "#bd3786"
             ],
             [
              0.5555555555555556,
              "#d8576b"
             ],
             [
              0.6666666666666666,
              "#ed7953"
             ],
             [
              0.7777777777777778,
              "#fb9f3a"
             ],
             [
              0.8888888888888888,
              "#fdca26"
             ],
             [
              1,
              "#f0f921"
             ]
            ],
            "type": "contour"
           }
          ],
          "contourcarpet": [
           {
            "colorbar": {
             "outlinewidth": 0,
             "ticks": ""
            },
            "type": "contourcarpet"
           }
          ],
          "heatmap": [
           {
            "colorbar": {
             "outlinewidth": 0,
             "ticks": ""
            },
            "colorscale": [
             [
              0,
              "#0d0887"
             ],
             [
              0.1111111111111111,
              "#46039f"
             ],
             [
              0.2222222222222222,
              "#7201a8"
             ],
             [
              0.3333333333333333,
              "#9c179e"
             ],
             [
              0.4444444444444444,
              "#bd3786"
             ],
             [
              0.5555555555555556,
              "#d8576b"
             ],
             [
              0.6666666666666666,
              "#ed7953"
             ],
             [
              0.7777777777777778,
              "#fb9f3a"
             ],
             [
              0.8888888888888888,
              "#fdca26"
             ],
             [
              1,
              "#f0f921"
             ]
            ],
            "type": "heatmap"
           }
          ],
          "histogram": [
           {
            "marker": {
             "pattern": {
              "fillmode": "overlay",
              "size": 10,
              "solidity": 0.2
             }
            },
            "type": "histogram"
           }
          ],
          "histogram2d": [
           {
            "colorbar": {
             "outlinewidth": 0,
             "ticks": ""
            },
            "colorscale": [
             [
              0,
              "#0d0887"
             ],
             [
              0.1111111111111111,
              "#46039f"
             ],
             [
              0.2222222222222222,
              "#7201a8"
             ],
             [
              0.3333333333333333,
              "#9c179e"
             ],
             [
              0.4444444444444444,
              "#bd3786"
             ],
             [
              0.5555555555555556,
              "#d8576b"
             ],
             [
              0.6666666666666666,
              "#ed7953"
             ],
             [
              0.7777777777777778,
              "#fb9f3a"
             ],
             [
              0.8888888888888888,
              "#fdca26"
             ],
             [
              1,
              "#f0f921"
             ]
            ],
            "type": "histogram2d"
           }
          ],
          "histogram2dcontour": [
           {
            "colorbar": {
             "outlinewidth": 0,
             "ticks": ""
            },
            "colorscale": [
             [
              0,
              "#0d0887"
             ],
             [
              0.1111111111111111,
              "#46039f"
             ],
             [
              0.2222222222222222,
              "#7201a8"
             ],
             [
              0.3333333333333333,
              "#9c179e"
             ],
             [
              0.4444444444444444,
              "#bd3786"
             ],
             [
              0.5555555555555556,
              "#d8576b"
             ],
             [
              0.6666666666666666,
              "#ed7953"
             ],
             [
              0.7777777777777778,
              "#fb9f3a"
             ],
             [
              0.8888888888888888,
              "#fdca26"
             ],
             [
              1,
              "#f0f921"
             ]
            ],
            "type": "histogram2dcontour"
           }
          ],
          "mesh3d": [
           {
            "colorbar": {
             "outlinewidth": 0,
             "ticks": ""
            },
            "type": "mesh3d"
           }
          ],
          "parcoords": [
           {
            "line": {
             "colorbar": {
              "outlinewidth": 0,
              "ticks": ""
             }
            },
            "type": "parcoords"
           }
          ],
          "pie": [
           {
            "automargin": true,
            "type": "pie"
           }
          ],
          "scatter": [
           {
            "fillpattern": {
             "fillmode": "overlay",
             "size": 10,
             "solidity": 0.2
            },
            "type": "scatter"
           }
          ],
          "scatter3d": [
           {
            "line": {
             "colorbar": {
              "outlinewidth": 0,
              "ticks": ""
             }
            },
            "marker": {
             "colorbar": {
              "outlinewidth": 0,
              "ticks": ""
             }
            },
            "type": "scatter3d"
           }
          ],
          "scattercarpet": [
           {
            "marker": {
             "colorbar": {
              "outlinewidth": 0,
              "ticks": ""
             }
            },
            "type": "scattercarpet"
           }
          ],
          "scattergeo": [
           {
            "marker": {
             "colorbar": {
              "outlinewidth": 0,
              "ticks": ""
             }
            },
            "type": "scattergeo"
           }
          ],
          "scattergl": [
           {
            "marker": {
             "colorbar": {
              "outlinewidth": 0,
              "ticks": ""
             }
            },
            "type": "scattergl"
           }
          ],
          "scattermap": [
           {
            "marker": {
             "colorbar": {
              "outlinewidth": 0,
              "ticks": ""
             }
            },
            "type": "scattermap"
           }
          ],
          "scattermapbox": [
           {
            "marker": {
             "colorbar": {
              "outlinewidth": 0,
              "ticks": ""
             }
            },
            "type": "scattermapbox"
           }
          ],
          "scatterpolar": [
           {
            "marker": {
             "colorbar": {
              "outlinewidth": 0,
              "ticks": ""
             }
            },
            "type": "scatterpolar"
           }
          ],
          "scatterpolargl": [
           {
            "marker": {
             "colorbar": {
              "outlinewidth": 0,
              "ticks": ""
             }
            },
            "type": "scatterpolargl"
           }
          ],
          "scatterternary": [
           {
            "marker": {
             "colorbar": {
              "outlinewidth": 0,
              "ticks": ""
             }
            },
            "type": "scatterternary"
           }
          ],
          "surface": [
           {
            "colorbar": {
             "outlinewidth": 0,
             "ticks": ""
            },
            "colorscale": [
             [
              0,
              "#0d0887"
             ],
             [
              0.1111111111111111,
              "#46039f"
             ],
             [
              0.2222222222222222,
              "#7201a8"
             ],
             [
              0.3333333333333333,
              "#9c179e"
             ],
             [
              0.4444444444444444,
              "#bd3786"
             ],
             [
              0.5555555555555556,
              "#d8576b"
             ],
             [
              0.6666666666666666,
              "#ed7953"
             ],
             [
              0.7777777777777778,
              "#fb9f3a"
             ],
             [
              0.8888888888888888,
              "#fdca26"
             ],
             [
              1,
              "#f0f921"
             ]
            ],
            "type": "surface"
           }
          ],
          "table": [
           {
            "cells": {
             "fill": {
              "color": "#EBF0F8"
             },
             "line": {
              "color": "white"
             }
            },
            "header": {
             "fill": {
              "color": "#C8D4E3"
             },
             "line": {
              "color": "white"
             }
            },
            "type": "table"
           }
          ]
         },
         "layout": {
          "annotationdefaults": {
           "arrowcolor": "#2a3f5f",
           "arrowhead": 0,
           "arrowwidth": 1
          },
          "autotypenumbers": "strict",
          "coloraxis": {
           "colorbar": {
            "outlinewidth": 0,
            "ticks": ""
           }
          },
          "colorscale": {
           "diverging": [
            [
             0,
             "#8e0152"
            ],
            [
             0.1,
             "#c51b7d"
            ],
            [
             0.2,
             "#de77ae"
            ],
            [
             0.3,
             "#f1b6da"
            ],
            [
             0.4,
             "#fde0ef"
            ],
            [
             0.5,
             "#f7f7f7"
            ],
            [
             0.6,
             "#e6f5d0"
            ],
            [
             0.7,
             "#b8e186"
            ],
            [
             0.8,
             "#7fbc41"
            ],
            [
             0.9,
             "#4d9221"
            ],
            [
             1,
             "#276419"
            ]
           ],
           "sequential": [
            [
             0,
             "#0d0887"
            ],
            [
             0.1111111111111111,
             "#46039f"
            ],
            [
             0.2222222222222222,
             "#7201a8"
            ],
            [
             0.3333333333333333,
             "#9c179e"
            ],
            [
             0.4444444444444444,
             "#bd3786"
            ],
            [
             0.5555555555555556,
             "#d8576b"
            ],
            [
             0.6666666666666666,
             "#ed7953"
            ],
            [
             0.7777777777777778,
             "#fb9f3a"
            ],
            [
             0.8888888888888888,
             "#fdca26"
            ],
            [
             1,
             "#f0f921"
            ]
           ],
           "sequentialminus": [
            [
             0,
             "#0d0887"
            ],
            [
             0.1111111111111111,
             "#46039f"
            ],
            [
             0.2222222222222222,
             "#7201a8"
            ],
            [
             0.3333333333333333,
             "#9c179e"
            ],
            [
             0.4444444444444444,
             "#bd3786"
            ],
            [
             0.5555555555555556,
             "#d8576b"
            ],
            [
             0.6666666666666666,
             "#ed7953"
            ],
            [
             0.7777777777777778,
             "#fb9f3a"
            ],
            [
             0.8888888888888888,
             "#fdca26"
            ],
            [
             1,
             "#f0f921"
            ]
           ]
          },
          "colorway": [
           "#636efa",
           "#EF553B",
           "#00cc96",
           "#ab63fa",
           "#FFA15A",
           "#19d3f3",
           "#FF6692",
           "#B6E880",
           "#FF97FF",
           "#FECB52"
          ],
          "font": {
           "color": "#2a3f5f"
          },
          "geo": {
           "bgcolor": "white",
           "lakecolor": "white",
           "landcolor": "#E5ECF6",
           "showlakes": true,
           "showland": true,
           "subunitcolor": "white"
          },
          "hoverlabel": {
           "align": "left"
          },
          "hovermode": "closest",
          "mapbox": {
           "style": "light"
          },
          "paper_bgcolor": "white",
          "plot_bgcolor": "#E5ECF6",
          "polar": {
           "angularaxis": {
            "gridcolor": "white",
            "linecolor": "white",
            "ticks": ""
           },
           "bgcolor": "#E5ECF6",
           "radialaxis": {
            "gridcolor": "white",
            "linecolor": "white",
            "ticks": ""
           }
          },
          "scene": {
           "xaxis": {
            "backgroundcolor": "#E5ECF6",
            "gridcolor": "white",
            "gridwidth": 2,
            "linecolor": "white",
            "showbackground": true,
            "ticks": "",
            "zerolinecolor": "white"
           },
           "yaxis": {
            "backgroundcolor": "#E5ECF6",
            "gridcolor": "white",
            "gridwidth": 2,
            "linecolor": "white",
            "showbackground": true,
            "ticks": "",
            "zerolinecolor": "white"
           },
           "zaxis": {
            "backgroundcolor": "#E5ECF6",
            "gridcolor": "white",
            "gridwidth": 2,
            "linecolor": "white",
            "showbackground": true,
            "ticks": "",
            "zerolinecolor": "white"
           }
          },
          "shapedefaults": {
           "line": {
            "color": "#2a3f5f"
           }
          },
          "ternary": {
           "aaxis": {
            "gridcolor": "white",
            "linecolor": "white",
            "ticks": ""
           },
           "baxis": {
            "gridcolor": "white",
            "linecolor": "white",
            "ticks": ""
           },
           "bgcolor": "#E5ECF6",
           "caxis": {
            "gridcolor": "white",
            "linecolor": "white",
            "ticks": ""
           }
          },
          "title": {
           "x": 0.05
          },
          "xaxis": {
           "automargin": true,
           "gridcolor": "white",
           "linecolor": "white",
           "ticks": "",
           "title": {
            "standoff": 15
           },
           "zerolinecolor": "white",
           "zerolinewidth": 2
          },
          "yaxis": {
           "automargin": true,
           "gridcolor": "white",
           "linecolor": "white",
           "ticks": "",
           "title": {
            "standoff": 15
           },
           "zerolinecolor": "white",
           "zerolinewidth": 2
          }
         }
        },
        "title": {
         "text": "VertexAIMaaS - gemini-2.5-flash-lite-preview-06-17"
        },
        "xaxis": {
         "anchor": "y",
         "domain": [
          0,
          1
         ],
         "title": {
          "text": "index"
         }
        },
        "yaxis": {
         "anchor": "x",
         "domain": [
          0,
          1
         ],
         "title": {
          "text": "value"
         }
        }
       }
      }
     },
     "metadata": {},
     "output_type": "display_data"
    }
   ],
   "source": [
    "# for (approach, model), group in history.group_by([\"approach\", \"model\"]):\n",
    "#     fig =px.line(\n",
    "#         group,\n",
    "#         x=\"index\",\n",
    "#         y=[\"Total Request Count\", \"Total Failure Count\"],\n",
    "#         title=f\"{approach} - {model}\",\n",
    "#     )\n",
    "#     fig.show()"
   ]
  },
  {
   "cell_type": "code",
   "execution_count": null,
   "id": "ad157f31",
   "metadata": {},
   "outputs": [],
   "source": []
  }
 ],
 "metadata": {
  "kernelspec": {
   "display_name": "gcp-llm-serving-benchmarks",
   "language": "python",
   "name": "python3"
  },
  "language_info": {
   "codemirror_mode": {
    "name": "ipython",
    "version": 3
   },
   "file_extension": ".py",
   "mimetype": "text/x-python",
   "name": "python",
   "nbconvert_exporter": "python",
   "pygments_lexer": "ipython3",
   "version": "3.13.0"
  }
 },
 "nbformat": 4,
 "nbformat_minor": 5
}
